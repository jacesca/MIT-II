{
 "cells": [
  {
   "cell_type": "markdown",
   "metadata": {
    "id": "VsCgYsR4VG_f"
   },
   "source": [
    "# **MNIST Handwritten Digit Classification using a CNN**"
   ]
  },
  {
   "cell_type": "markdown",
   "metadata": {
    "id": "z-qT91QwV1MS"
   },
   "source": [
    "## **Introduction**"
   ]
  },
  {
   "cell_type": "markdown",
   "metadata": {
    "id": "VAB8cdsJV6wt"
   },
   "source": [
    "**This notebook will help you understand the below points:**\n",
    "\n",
    "*   A brief introduction to the MNIST Dataset and its importance in Computer Vision\n",
    "*   Building a baseline classification model using a CNN\n",
    "*   Evaluating the CNN model\n",
    "*   Building an improved CNN\n",
    "*   Finalizing the improved model for prediction on the test dataset\n",
    "\n",
    "\n"
   ]
  },
  {
   "cell_type": "markdown",
   "metadata": {
    "id": "EtCRRgiVXZal"
   },
   "source": [
    "## **Introduction to the MNIST Dataset**"
   ]
  },
  {
   "cell_type": "markdown",
   "metadata": {
    "id": "6IZc8sO2Xmw2"
   },
   "source": [
    "The **MNIST** dataset is an acronym that stands for the **Modified National Institute of Standards and Technology** dataset.\n",
    "\n",
    "*   **This dataset consists of 60,000 grayscale images**, which are small 28x28 pixel images.\n",
    "<br> **These are images of handwritten digits from 0 to 9.**\n",
    "*   **The task is to correctly classify the image of a handwritten digit into the right number**, that is - one of the 10 numbers from 0 to 9.\n",
    "*   These numbers are mutually exclusive choices and we have over two choices in number, and hence **this represents a multi-class classification** problem in supervised learning.\n",
    "*   **MNIST has been an important and widely-used dataset in machine learning and computer vision.** It is sometimes called the \"Hello World\" of computer vision, and is one of the first image datasets that all deep learning based computer vision practitioners learn to work with. A great amount of research have been carried out to outperform the existing state-of-the-art and achieve the best possible accuracy in classifying the images in MNIST.\n",
    "<br> It is hence a benchmark of sorts, to test the latest deep learning architectures in the field of computer vision.\n",
    "*   More importantly for us, **MNIST is a dataset where Convolutional Neural Network (CNN) based approaches have shown excellent performance**, and that is what we will try to implement as part of this case study.\n",
    "\n",
    "\n",
    "\n",
    "\n"
   ]
  },
  {
   "cell_type": "markdown",
   "metadata": {
    "id": "Yyn-CPLr18cl"
   },
   "source": [
    "## **Importing the Libraries**"
   ]
  },
  {
   "cell_type": "code",
   "execution_count": 1,
   "metadata": {
    "id": "3c1qnD0B1_Qg"
   },
   "outputs": [],
   "source": [
    "import numpy as np\n",
    "import matplotlib.pyplot as plt\n",
    "import seaborn as sns\n",
    "import math\n",
    "\n",
    "import tensorflow as tf\n",
    "\n",
    "# Keras Sequential Model\n",
    "from tensorflow.keras.models import Sequential\n",
    "\n",
    "# Importing all the different layers and optimizers\n",
    "from tensorflow.keras.layers import Dense, Dropout, Flatten, Conv2D, MaxPooling2D, BatchNormalization, Activation, LeakyReLU\n",
    "from tensorflow.keras.optimizers import Adam,SGD\n",
    "\n",
    "# # The below code can be used to ignore the warnings that may occur due to deprecations\n",
    "# import warnings\n",
    "# warnings.filterwarnings(\"ignore\")"
   ]
  },
  {
   "cell_type": "markdown",
   "metadata": {
    "id": "rX8_AD9YyICz"
   },
   "source": [
    "## **Loading the Dataset**"
   ]
  },
  {
   "cell_type": "markdown",
   "metadata": {
    "id": "gz5IIHlpyMX6"
   },
   "source": [
    "*   The MNIST dataset is already present in TensorFlow and Keras, in the form of an **N-dimensional Numpy array**, so we can directly import the dataset from the package and use it.\n",
    "*   The dataset can be imported as shown below: <br>\n",
    "`from tensorflow.keras.datasets import mnist`<br>\n",
    "`mnist.load_data()`\n",
    "*   **mnist.load_data()** returns both the train and test data. The train data consists of 60,000 images in the form of Numpy arrays, while the test data consists of 10,000 images as Numpy arrays.\n",
    "\n",
    "\n",
    "\n"
   ]
  },
  {
   "cell_type": "code",
   "execution_count": 2,
   "metadata": {
    "colab": {
     "base_uri": "https://localhost:8080/"
    },
    "id": "6-p5r-J3PoMQ",
    "outputId": "9f0b527d-c14d-4f2e-8280-64f5c580eb72"
   },
   "outputs": [
    {
     "name": "stdout",
     "output_type": "stream",
     "text": [
      "Downloading data from https://storage.googleapis.com/tensorflow/tf-keras-datasets/mnist.npz\n",
      "11490434/11490434 [==============================] - 0s 0us/step\n"
     ]
    }
   ],
   "source": [
    "# Loading the data\n",
    "from tensorflow.keras.datasets import mnist\n",
    "(X_train, y_train), (X_test, y_test) = mnist.load_data()"
   ]
  },
  {
   "cell_type": "code",
   "execution_count": 4,
   "metadata": {
    "colab": {
     "base_uri": "https://localhost:8080/"
    },
    "id": "5TuOEBZ13OlM",
    "outputId": "dadcb481-0b8d-4dee-95ba-34350a101c60"
   },
   "outputs": [
    {
     "data": {
      "text/plain": [
       "((60000, 28, 28), (60000,), (10000, 28, 28), (10000,))"
      ]
     },
     "execution_count": 4,
     "metadata": {},
     "output_type": "execute_result"
    }
   ],
   "source": [
    "X_train.shape, y_train.shape, X_test.shape, y_test.shape"
   ]
  },
  {
   "cell_type": "markdown",
   "metadata": {
    "id": "AT-XPKho4CGQ"
   },
   "source": [
    "Here the data is stored in a **3-dimensional Numpy array**.\n",
    "- The first dimension **60000** denotes **the number of images in the training data**, and each image is stacked on top of the other, making it a 3-dimensional Numpy array.\n",
    "- The second and third dimensions **28, 28** denote the number of pixels along the height and width of the 2-dimensional image."
   ]
  },
  {
   "cell_type": "markdown",
   "metadata": {
    "id": "zF7ZRSFO4QBL"
   },
   "source": [
    "Below is a 2-dimensional Numpy representation (the pixelmap) of the first image in the training data. Each image is represented by 28x28 square pixel values."
   ]
  },
  {
   "cell_type": "code",
   "execution_count": 5,
   "metadata": {
    "colab": {
     "base_uri": "https://localhost:8080/"
    },
    "id": "rzhqoEI43W0c",
    "outputId": "95c1ab64-3afe-4d81-ed8f-f756946d234a"
   },
   "outputs": [
    {
     "data": {
      "text/plain": [
       "array([[  0,   0,   0,   0,   0,   0,   0,   0,   0,   0,   0,   0,   0,\n",
       "          0,   0,   0,   0,   0,   0,   0,   0,   0,   0,   0,   0,   0,\n",
       "          0,   0],\n",
       "       [  0,   0,   0,   0,   0,   0,   0,   0,   0,   0,   0,   0,   0,\n",
       "          0,   0,   0,   0,   0,   0,   0,   0,   0,   0,   0,   0,   0,\n",
       "          0,   0],\n",
       "       [  0,   0,   0,   0,   0,   0,   0,   0,   0,   0,   0,   0,   0,\n",
       "          0,   0,   0,   0,   0,   0,   0,   0,   0,   0,   0,   0,   0,\n",
       "          0,   0],\n",
       "       [  0,   0,   0,   0,   0,   0,   0,   0,   0,   0,   0,   0,   0,\n",
       "          0,   0,   0,   0,   0,   0,   0,   0,   0,   0,   0,   0,   0,\n",
       "          0,   0],\n",
       "       [  0,   0,   0,   0,   0,   0,   0,   0,   0,   0,   0,   0,   0,\n",
       "          0,   0,   0,   0,   0,   0,   0,   0,   0,   0,   0,   0,   0,\n",
       "          0,   0],\n",
       "       [  0,   0,   0,   0,   0,   0,   0,   0,   0,   0,   0,   0,   3,\n",
       "         18,  18,  18, 126, 136, 175,  26, 166, 255, 247, 127,   0,   0,\n",
       "          0,   0],\n",
       "       [  0,   0,   0,   0,   0,   0,   0,   0,  30,  36,  94, 154, 170,\n",
       "        253, 253, 253, 253, 253, 225, 172, 253, 242, 195,  64,   0,   0,\n",
       "          0,   0],\n",
       "       [  0,   0,   0,   0,   0,   0,   0,  49, 238, 253, 253, 253, 253,\n",
       "        253, 253, 253, 253, 251,  93,  82,  82,  56,  39,   0,   0,   0,\n",
       "          0,   0],\n",
       "       [  0,   0,   0,   0,   0,   0,   0,  18, 219, 253, 253, 253, 253,\n",
       "        253, 198, 182, 247, 241,   0,   0,   0,   0,   0,   0,   0,   0,\n",
       "          0,   0],\n",
       "       [  0,   0,   0,   0,   0,   0,   0,   0,  80, 156, 107, 253, 253,\n",
       "        205,  11,   0,  43, 154,   0,   0,   0,   0,   0,   0,   0,   0,\n",
       "          0,   0],\n",
       "       [  0,   0,   0,   0,   0,   0,   0,   0,   0,  14,   1, 154, 253,\n",
       "         90,   0,   0,   0,   0,   0,   0,   0,   0,   0,   0,   0,   0,\n",
       "          0,   0],\n",
       "       [  0,   0,   0,   0,   0,   0,   0,   0,   0,   0,   0, 139, 253,\n",
       "        190,   2,   0,   0,   0,   0,   0,   0,   0,   0,   0,   0,   0,\n",
       "          0,   0],\n",
       "       [  0,   0,   0,   0,   0,   0,   0,   0,   0,   0,   0,  11, 190,\n",
       "        253,  70,   0,   0,   0,   0,   0,   0,   0,   0,   0,   0,   0,\n",
       "          0,   0],\n",
       "       [  0,   0,   0,   0,   0,   0,   0,   0,   0,   0,   0,   0,  35,\n",
       "        241, 225, 160, 108,   1,   0,   0,   0,   0,   0,   0,   0,   0,\n",
       "          0,   0],\n",
       "       [  0,   0,   0,   0,   0,   0,   0,   0,   0,   0,   0,   0,   0,\n",
       "         81, 240, 253, 253, 119,  25,   0,   0,   0,   0,   0,   0,   0,\n",
       "          0,   0],\n",
       "       [  0,   0,   0,   0,   0,   0,   0,   0,   0,   0,   0,   0,   0,\n",
       "          0,  45, 186, 253, 253, 150,  27,   0,   0,   0,   0,   0,   0,\n",
       "          0,   0],\n",
       "       [  0,   0,   0,   0,   0,   0,   0,   0,   0,   0,   0,   0,   0,\n",
       "          0,   0,  16,  93, 252, 253, 187,   0,   0,   0,   0,   0,   0,\n",
       "          0,   0],\n",
       "       [  0,   0,   0,   0,   0,   0,   0,   0,   0,   0,   0,   0,   0,\n",
       "          0,   0,   0,   0, 249, 253, 249,  64,   0,   0,   0,   0,   0,\n",
       "          0,   0],\n",
       "       [  0,   0,   0,   0,   0,   0,   0,   0,   0,   0,   0,   0,   0,\n",
       "          0,  46, 130, 183, 253, 253, 207,   2,   0,   0,   0,   0,   0,\n",
       "          0,   0],\n",
       "       [  0,   0,   0,   0,   0,   0,   0,   0,   0,   0,   0,   0,  39,\n",
       "        148, 229, 253, 253, 253, 250, 182,   0,   0,   0,   0,   0,   0,\n",
       "          0,   0],\n",
       "       [  0,   0,   0,   0,   0,   0,   0,   0,   0,   0,  24, 114, 221,\n",
       "        253, 253, 253, 253, 201,  78,   0,   0,   0,   0,   0,   0,   0,\n",
       "          0,   0],\n",
       "       [  0,   0,   0,   0,   0,   0,   0,   0,  23,  66, 213, 253, 253,\n",
       "        253, 253, 198,  81,   2,   0,   0,   0,   0,   0,   0,   0,   0,\n",
       "          0,   0],\n",
       "       [  0,   0,   0,   0,   0,   0,  18, 171, 219, 253, 253, 253, 253,\n",
       "        195,  80,   9,   0,   0,   0,   0,   0,   0,   0,   0,   0,   0,\n",
       "          0,   0],\n",
       "       [  0,   0,   0,   0,  55, 172, 226, 253, 253, 253, 253, 244, 133,\n",
       "         11,   0,   0,   0,   0,   0,   0,   0,   0,   0,   0,   0,   0,\n",
       "          0,   0],\n",
       "       [  0,   0,   0,   0, 136, 253, 253, 253, 212, 135, 132,  16,   0,\n",
       "          0,   0,   0,   0,   0,   0,   0,   0,   0,   0,   0,   0,   0,\n",
       "          0,   0],\n",
       "       [  0,   0,   0,   0,   0,   0,   0,   0,   0,   0,   0,   0,   0,\n",
       "          0,   0,   0,   0,   0,   0,   0,   0,   0,   0,   0,   0,   0,\n",
       "          0,   0],\n",
       "       [  0,   0,   0,   0,   0,   0,   0,   0,   0,   0,   0,   0,   0,\n",
       "          0,   0,   0,   0,   0,   0,   0,   0,   0,   0,   0,   0,   0,\n",
       "          0,   0],\n",
       "       [  0,   0,   0,   0,   0,   0,   0,   0,   0,   0,   0,   0,   0,\n",
       "          0,   0,   0,   0,   0,   0,   0,   0,   0,   0,   0,   0,   0,\n",
       "          0,   0]], dtype=uint8)"
      ]
     },
     "execution_count": 5,
     "metadata": {},
     "output_type": "execute_result"
    }
   ],
   "source": [
    "X_train[0]"
   ]
  },
  {
   "cell_type": "code",
   "execution_count": 6,
   "metadata": {
    "colab": {
     "base_uri": "https://localhost:8080/"
    },
    "id": "9bz24_eE6z0d",
    "outputId": "dc704be4-8c8f-4044-b7b3-16eb2e388a1b"
   },
   "outputs": [
    {
     "data": {
      "text/plain": [
       "5"
      ]
     },
     "execution_count": 6,
     "metadata": {},
     "output_type": "execute_result"
    }
   ],
   "source": [
    "y_train[0]"
   ]
  },
  {
   "cell_type": "markdown",
   "metadata": {
    "id": "knrZcGyy7GJ9"
   },
   "source": [
    "The **target labels** are numerical digits between 0 to 9."
   ]
  },
  {
   "cell_type": "code",
   "execution_count": 7,
   "metadata": {
    "colab": {
     "base_uri": "https://localhost:8080/"
    },
    "id": "Jf61XMWF64GA",
    "outputId": "c0619d93-f408-4a32-b0da-1b272ba47ca6"
   },
   "outputs": [
    {
     "data": {
      "text/plain": [
       "(10000, 28, 28)"
      ]
     },
     "execution_count": 7,
     "metadata": {},
     "output_type": "execute_result"
    }
   ],
   "source": [
    "X_test.shape"
   ]
  },
  {
   "cell_type": "markdown",
   "metadata": {
    "id": "QYtWc1tA7dQr"
   },
   "source": [
    "The test dataset, on the other hand, has **10,000 images**. Each image, as before, is a 28x28 square image."
   ]
  },
  {
   "cell_type": "markdown",
   "metadata": {
    "id": "qMou6LbazmIV"
   },
   "source": [
    "## **Data Visualization**"
   ]
  },
  {
   "cell_type": "markdown",
   "metadata": {
    "id": "Hy4AFeNm77qB"
   },
   "source": [
    "### **Converting the Numpy arrays to images and visualizing a few random images**"
   ]
  },
  {
   "cell_type": "code",
   "execution_count": 8,
   "metadata": {
    "colab": {
     "base_uri": "https://localhost:8080/",
     "height": 686
    },
    "id": "RG5VFBKV7Yu9",
    "outputId": "078f9530-742b-43d8-8ab8-82fa7bdaab8e"
   },
   "outputs": [
    {
     "data": {
      "image/png": "[encoded data removed]",
      "text/plain": [
       "<Figure size 1000x800 with 12 Axes>"
      ]
     },
     "metadata": {},
     "output_type": "display_data"
    }
   ],
   "source": [
    "num_classes=10                                                                  # Number of Classes\n",
    "categories=np.unique(y_train)                                                   # Obtaing the unique classes from y_train\n",
    "rows = 3                                                                        # Defining number of rows=3\n",
    "cols = 4                                                                        # Defining number of columns=4\n",
    "fig = plt.figure(figsize=(10, 8))                                               # Defining the figure size to 10x8\n",
    "for i in range(cols):\n",
    "    for j in range(rows):\n",
    "        random_index = np.random.randint(0, len(y_train))                       # Generating random indices from the data and plotting the images\n",
    "        ax = fig.add_subplot(rows, cols, i * rows + j + 1)                      # Adding subplots with 3 rows and 4 columns\n",
    "        ax.imshow(X_train[random_index, :], cmap=plt.get_cmap('gray'))          # Plotting the image using cmap=gray\n",
    "        ax.set_title(categories[y_train[random_index]])\n",
    "plt.show()"
   ]
  },
  {
   "cell_type": "code",
   "execution_count": 9,
   "metadata": {
    "colab": {
     "base_uri": "https://localhost:8080/",
     "height": 431
    },
    "id": "HO6xVsJmBaC8",
    "outputId": "af3630f5-5800-4afb-b65b-9c506b8087d9"
   },
   "outputs": [
    {
     "data": {
      "image/png": "[encoded data removed]",
      "text/plain": [
       "<Figure size 640x480 with 1 Axes>"
      ]
     },
     "metadata": {},
     "output_type": "display_data"
    }
   ],
   "source": [
    "# Plot distribution of each category\n",
    "count_plot = sns.countplot(x=y_train)"
   ]
  },
  {
   "cell_type": "markdown",
   "metadata": {
    "id": "64JijEDCBppW"
   },
   "source": [
    "We observe that **the dataset appears to be quite balanced**, with each category having approximately the same number of images.\n",
    "\n",
    "So **accuracy should be a good evaluation metric** for the model performance in this case study."
   ]
  },
  {
   "cell_type": "markdown",
   "metadata": {
    "id": "FonUtBJP9Pre"
   },
   "source": [
    "## **Data Preparation**"
   ]
  },
  {
   "cell_type": "markdown",
   "metadata": {
    "id": "1cYYxIvH9dNm"
   },
   "source": [
    "In the data preparation stage, **we generally reshape the dataset to have a single channel** and **we also normalize the feature inputs.**\n",
    "\n",
    "Normalization is highly recommended as it has the following benefits when training a neural network model:\n",
    "\n",
    "1. **Normalization makes the training faster and reduces the chances of getting stuck at a local optima.**\n",
    "3. **Weight decay and estimation can be done more conveniently** with normalized inputs.\n",
    "4. In deep neural networks, **normalization helps to avoid the Vanishing/Exploding gradient problem** The Vanishing/Exploding gradient problem occurs when very small or very large error gradients accumulate, and that results in either extremely small or very large updates to neural network model weights during the training process. This makes a model unstable and unable to learn from the training data."
   ]
  },
  {
   "cell_type": "markdown",
   "metadata": {
    "id": "6zF9PSHDEp4t"
   },
   "source": [
    "As we already know, the images are in grayscale, so let us **reshape the arrays to just have a single channel**."
   ]
  },
  {
   "cell_type": "code",
   "execution_count": 10,
   "metadata": {
    "id": "_IJwpIPzFhi5"
   },
   "outputs": [],
   "source": [
    "# Reshape dataset to have a single channel\n",
    "X_train = X_train.reshape((X_train.shape[0], 28, 28, 1))\n",
    "X_test = X_test.reshape((X_test.shape[0], 28, 28, 1))"
   ]
  },
  {
   "cell_type": "markdown",
   "metadata": {
    "id": "4KOZB5QK-Bnp"
   },
   "source": [
    "Since the **image pixel values range from 0-255**, our method of normalization here will be **scaling** - we shall **divide all the pixel values by 255 to standardize the images to have values between 0-1.**"
   ]
  },
  {
   "cell_type": "code",
   "execution_count": 11,
   "metadata": {
    "id": "n5FMF4iy8TvJ"
   },
   "outputs": [],
   "source": [
    "# Normalizing the image pixels\n",
    "X_train_normalized = X_train.astype('float32')/255.0\n",
    "X_test_normalized = X_test.astype('float32')/255.0"
   ]
  },
  {
   "cell_type": "markdown",
   "metadata": {
    "id": "29EVGIZY-R2k"
   },
   "source": [
    "Since this is a **10-class classification problem**, **the output layer should have 10 neurons** which will provide us with the probabilities of the input image belonging to each of those 10 classes. Therefore, we also need to create a **one-hot encoded representation for the target classes.**"
   ]
  },
  {
   "cell_type": "code",
   "execution_count": 12,
   "metadata": {
    "id": "VLUkl-jW8V0J"
   },
   "outputs": [],
   "source": [
    "# Creating one-hot encoded representation of target labels\n",
    "# We can do this by using this utility function - https://www.tensorflow.org/api_docs/python/tf/keras/utils/to_categorical\n",
    "# to_categorical() function is also explained in the Neural Networks Module\n",
    "\n",
    "y_train_encoded = tf.keras.utils.to_categorical(y_train)\n",
    "y_test_encoded = tf.keras.utils.to_categorical(y_test)"
   ]
  },
  {
   "cell_type": "markdown",
   "metadata": {
    "id": "svJYVbVCDSYJ"
   },
   "source": [
    "## **Model Building - Artificial Neural Network (ANN)**"
   ]
  },
  {
   "cell_type": "markdown",
   "metadata": {
    "id": "nECJlbR6dMG5"
   },
   "source": [
    "### **Defining an Artificial Neural Network (ANN) Model**"
   ]
  },
  {
   "cell_type": "markdown",
   "metadata": {
    "id": "NFItswofdR1w"
   },
   "source": [
    "Let's first create an ANN model as we have done previously.\n",
    "\n",
    "We will create this ANN sequentially, by adding the layers one after another."
   ]
  },
  {
   "cell_type": "markdown",
   "metadata": {
    "id": "CLtJH9GJde6S"
   },
   "source": [
    "First, let's **set the seed for the random number generators in Numpy, Python's Random package, and TensorFlow** to ensure we are able to reproduce these results every time we run the code."
   ]
  },
  {
   "cell_type": "code",
   "execution_count": 13,
   "metadata": {
    "id": "Cm_6LevfdhOs"
   },
   "outputs": [],
   "source": [
    "# Fixing the seed for random number generators\n",
    "import random\n",
    "np.random.seed(42)\n",
    "random.seed(42)\n",
    "tf.random.set_seed(42)"
   ]
  },
  {
   "cell_type": "markdown",
   "metadata": {
    "id": "atAwhIN4dk5R"
   },
   "source": [
    "Let's now build a **sequential ANN model.**"
   ]
  },
  {
   "cell_type": "code",
   "execution_count": 14,
   "metadata": {
    "colab": {
     "base_uri": "https://localhost:8080/"
    },
    "id": "hJ0qk6Mndqk0",
    "outputId": "02a237f3-43cd-4444-ba8a-418a6e6ab2c8"
   },
   "outputs": [
    {
     "name": "stdout",
     "output_type": "stream",
     "text": [
      "Model: \"sequential\"\n",
      "_________________________________________________________________\n",
      " Layer (type)                Output Shape              Param #   \n",
      "=================================================================\n",
      " flatten (Flatten)           (None, 784)               0         \n",
      "                                                                 \n",
      " dense (Dense)               (None, 100)               78500     \n",
      "                                                                 \n",
      " dense_1 (Dense)             (None, 10)                1010      \n",
      "                                                                 \n",
      "=================================================================\n",
      "Total params: 79,510\n",
      "Trainable params: 79,510\n",
      "Non-trainable params: 0\n",
      "_________________________________________________________________\n"
     ]
    }
   ],
   "source": [
    "# Intializing a sequential model\n",
    "ann_model = Sequential()\n",
    "\n",
    "# Flatten the input to add dense convolutional layers on top of it\n",
    "ann_model.add(Flatten(input_shape=(28, 28)))\n",
    "\n",
    "# Adding a sequential layer with 100 neurons\n",
    "ann_model.add(Dense(100, activation='relu'))\n",
    "\n",
    "# Adding the output layer with 10 neurons and activation functions as softmax since this is a multi-class classification problem\n",
    "ann_model.add(Dense(10, activation='softmax'))\n",
    "\n",
    "# Using SGD Optimizer\n",
    "opt = SGD(learning_rate=0.01, momentum=0.9)\n",
    "\n",
    "# Compile model\n",
    "ann_model.compile(optimizer=opt,\n",
    "              loss='categorical_crossentropy',\n",
    "              metrics=['accuracy'])\n",
    "\n",
    "# Generating the summary of the model\n",
    "ann_model.summary()"
   ]
  },
  {
   "cell_type": "markdown",
   "metadata": {
    "id": "8YEbHUHmkArv"
   },
   "source": [
    "**Let us understand the parameters in each layer:**\n",
    ">\n",
    "\n",
    "*  **Flatten Layer** <br>\n",
    "Here, the input shape to the layer is (28,28)<br>\n",
    "It does not have any parameters, so the number of parameters is 0.<br>\n",
    "\n",
    "*   **Fully Connected Dense Layer**<br>\n",
    "Number of neurons: 100<br>\n",
    "Number of parameters: (784x100)+(1x100): 78400+100: 78500<br>\n",
    "` Number of neurons in current layer x number of neurons in the previous layer + 1 x number of neurons in current layer(Bias)`<br>\n",
    "\n",
    "*   **Output Layer**<br>\n",
    "Number of neurons: 10<br>\n",
    "Number of parameters: (10x100)+(1x10) = 1010<br>\n",
    "` Number of neurons in current layer x number of neurons in the previous layer( Here in the previous dense layer: 100) + 1 x number of neurons in current layer(Bias)`\n",
    "\n",
    "\n",
    "\n",
    "\n",
    "\n",
    "\n"
   ]
  },
  {
   "cell_type": "markdown",
   "metadata": {
    "id": "eE4IElpAj6YG"
   },
   "source": [
    "<b> Fitting the model on the train data:"
   ]
  },
  {
   "cell_type": "code",
   "execution_count": 15,
   "metadata": {
    "colab": {
     "base_uri": "https://localhost:8080/"
    },
    "id": "5AWAwzqyeh9r",
    "outputId": "656a0e67-941d-4ab0-9709-a4e4f2395c56"
   },
   "outputs": [
    {
     "name": "stdout",
     "output_type": "stream",
     "text": [
      "Epoch 1/15\n",
      "844/844 - 4s - loss: 0.4072 - accuracy: 0.8861 - val_loss: 0.2013 - val_accuracy: 0.9443 - 4s/epoch - 5ms/step\n",
      "Epoch 2/15\n",
      "844/844 - 3s - loss: 0.2152 - accuracy: 0.9384 - val_loss: 0.1501 - val_accuracy: 0.9610 - 3s/epoch - 4ms/step\n",
      "Epoch 3/15\n",
      "844/844 - 4s - loss: 0.1626 - accuracy: 0.9545 - val_loss: 0.1209 - val_accuracy: 0.9667 - 4s/epoch - 5ms/step\n",
      "Epoch 4/15\n",
      "844/844 - 3s - loss: 0.1333 - accuracy: 0.9627 - val_loss: 0.1116 - val_accuracy: 0.9680 - 3s/epoch - 3ms/step\n",
      "Epoch 5/15\n",
      "844/844 - 3s - loss: 0.1128 - accuracy: 0.9685 - val_loss: 0.0987 - val_accuracy: 0.9713 - 3s/epoch - 3ms/step\n",
      "Epoch 6/15\n",
      "844/844 - 3s - loss: 0.0982 - accuracy: 0.9727 - val_loss: 0.0922 - val_accuracy: 0.9728 - 3s/epoch - 3ms/step\n",
      "Epoch 7/15\n",
      "844/844 - 3s - loss: 0.0873 - accuracy: 0.9754 - val_loss: 0.0849 - val_accuracy: 0.9745 - 3s/epoch - 4ms/step\n",
      "Epoch 8/15\n",
      "844/844 - 5s - loss: 0.0775 - accuracy: 0.9778 - val_loss: 0.0804 - val_accuracy: 0.9763 - 5s/epoch - 6ms/step\n",
      "Epoch 9/15\n",
      "844/844 - 3s - loss: 0.0695 - accuracy: 0.9806 - val_loss: 0.0801 - val_accuracy: 0.9765 - 3s/epoch - 4ms/step\n",
      "Epoch 10/15\n",
      "844/844 - 3s - loss: 0.0639 - accuracy: 0.9820 - val_loss: 0.0766 - val_accuracy: 0.9777 - 3s/epoch - 3ms/step\n",
      "Epoch 11/15\n",
      "844/844 - 3s - loss: 0.0578 - accuracy: 0.9841 - val_loss: 0.0711 - val_accuracy: 0.9795 - 3s/epoch - 3ms/step\n",
      "Epoch 12/15\n",
      "844/844 - 5s - loss: 0.0529 - accuracy: 0.9856 - val_loss: 0.0710 - val_accuracy: 0.9792 - 5s/epoch - 5ms/step\n",
      "Epoch 13/15\n",
      "844/844 - 3s - loss: 0.0484 - accuracy: 0.9869 - val_loss: 0.0709 - val_accuracy: 0.9798 - 3s/epoch - 4ms/step\n",
      "Epoch 14/15\n",
      "844/844 - 3s - loss: 0.0447 - accuracy: 0.9880 - val_loss: 0.0683 - val_accuracy: 0.9815 - 3s/epoch - 3ms/step\n",
      "Epoch 15/15\n",
      "844/844 - 3s - loss: 0.0411 - accuracy: 0.9889 - val_loss: 0.0693 - val_accuracy: 0.9802 - 3s/epoch - 3ms/step\n"
     ]
    }
   ],
   "source": [
    "history = ann_model.fit(\n",
    "            X_train_normalized, y_train_encoded,\n",
    "            epochs=15,\n",
    "            validation_split=0.1,\n",
    "            shuffle=True,\n",
    "            batch_size=64,\n",
    "            verbose=2\n",
    ")"
   ]
  },
  {
   "cell_type": "markdown",
   "metadata": {
    "id": "mj3Skz2IkmfZ"
   },
   "source": [
    "### **Model Evaluation**"
   ]
  },
  {
   "cell_type": "code",
   "execution_count": 16,
   "metadata": {
    "colab": {
     "base_uri": "https://localhost:8080/",
     "height": 472
    },
    "id": "pD6WR40cj19z",
    "outputId": "76205aa7-9d54-43c5-ad25-783dcfa2272e"
   },
   "outputs": [
    {
     "data": {
      "image/png": "[encoded data removed]",
      "text/plain": [
       "<Figure size 640x480 with 1 Axes>"
      ]
     },
     "metadata": {},
     "output_type": "display_data"
    }
   ],
   "source": [
    "plt.plot(history.history['accuracy'])\n",
    "plt.plot(history.history['val_accuracy'])\n",
    "plt.title('Model Accuracy')\n",
    "plt.ylabel('Accuracy')\n",
    "plt.xlabel('Epoch')\n",
    "plt.legend(['Train', 'Validation'], loc='upper left')\n",
    "plt.show()"
   ]
  },
  {
   "cell_type": "markdown",
   "metadata": {
    "id": "03Fan60bkxH2"
   },
   "source": [
    "**Observations:**\n",
    "\n",
    "*   We can see from the above plot that the model has perfomed well on the train and validation data, with a **validation accuracy of 97%.**\n"
   ]
  },
  {
   "cell_type": "markdown",
   "metadata": {
    "id": "1kik69fBo7xp"
   },
   "source": [
    "### **Evaluating the model on the test data**"
   ]
  },
  {
   "cell_type": "code",
   "execution_count": 17,
   "metadata": {
    "colab": {
     "base_uri": "https://localhost:8080/"
    },
    "id": "rTEu-Aprj2A3",
    "outputId": "ebc4cf14-615f-49ea-98a0-b31429cfb4c5"
   },
   "outputs": [
    {
     "name": "stdout",
     "output_type": "stream",
     "text": [
      "313/313 - 1s - loss: 0.0755 - accuracy: 0.9781 - 549ms/epoch - 2ms/step\n"
     ]
    }
   ],
   "source": [
    "accuracy = ann_model.evaluate(X_test_normalized, y_test_encoded, verbose=2)"
   ]
  },
  {
   "cell_type": "markdown",
   "metadata": {
    "id": "b5dNWxWPpEiv"
   },
   "source": [
    "### **Generating the Predictions using the test data**"
   ]
  },
  {
   "cell_type": "code",
   "execution_count": 18,
   "metadata": {
    "colab": {
     "base_uri": "https://localhost:8080/"
    },
    "id": "2vMod71Yj2EC",
    "outputId": "8816fa64-9d03-4586-eca8-cf4ba33612ae"
   },
   "outputs": [
    {
     "name": "stdout",
     "output_type": "stream",
     "text": [
      "313/313 [==============================] - 1s 2ms/step\n"
     ]
    }
   ],
   "source": [
    "# Here we would get the output as probablities for each category\n",
    "y_pred=ann_model.predict(X_test_normalized)"
   ]
  },
  {
   "cell_type": "markdown",
   "metadata": {
    "id": "gGRaZwofpPZn"
   },
   "source": [
    "### **Plotting the Confusion Matrix**"
   ]
  },
  {
   "cell_type": "markdown",
   "metadata": {
    "id": "gtLY-LGopQtJ"
   },
   "source": [
    "*   The Confusion matrix is also defined as an inbuilt function in the TensorFlow module, so we can use that for evaluating the classification model.\n",
    "*   The Confusion matrix expects the input to be of categorical values. But the y_test_encoded is an encoded value, and y_pred has probablities. So we need to get the categorical values back from the encoded values.\n",
    "*   We will use the `argmax()` function to obtain the maximum value over each category on both y_test_encoded and y_pred and obtain their respective classes.\n",
    "\n",
    "\n",
    "\n"
   ]
  },
  {
   "cell_type": "code",
   "execution_count": 19,
   "metadata": {
    "colab": {
     "base_uri": "https://localhost:8080/",
     "height": 676
    },
    "id": "kAmRdeS-pZk5",
    "outputId": "41107cb4-e092-48db-93d6-26452e430edc"
   },
   "outputs": [
    {
     "data": {
      "image/png": "[encoded data removed]",
      "text/plain": [
       "<Figure size 1000x800 with 2 Axes>"
      ]
     },
     "metadata": {},
     "output_type": "display_data"
    }
   ],
   "source": [
    "# Obtaining the categorical values from y_test_encoded and y_pred\n",
    "y_pred_arg=np.argmax(y_pred,axis=1)\n",
    "y_test_arg=np.argmax(y_test_encoded,axis=1)\n",
    "\n",
    "# Plotting the Confusion Matrix using confusion matrix() function which is also predefined tensorflow module\n",
    "confusion_matrix = tf.math.confusion_matrix(y_test_arg,y_pred_arg)\n",
    "f, ax = plt.subplots(figsize=(10, 8))\n",
    "sns.heatmap(\n",
    "    confusion_matrix,\n",
    "    annot=True,\n",
    "    linewidths=.4,\n",
    "    fmt=\"d\",\n",
    "    square=True,\n",
    "    ax=ax\n",
    ")\n",
    "plt.show()"
   ]
  },
  {
   "cell_type": "markdown",
   "metadata": {
    "id": "Nb5FsNLvpX7m"
   },
   "source": [
    "**We observe that most of the classes are predicted correctly**, and the misclassification occurs mostly with the digit 4 which is sometimes confused with digit 9, and digit 5 which is sometimes confused with digit 3."
   ]
  },
  {
   "cell_type": "markdown",
   "metadata": {
    "id": "0Y83Pa4ENG3H"
   },
   "source": [
    "## **Model Building - Convolutional Neural Network (CNN)**"
   ]
  },
  {
   "cell_type": "markdown",
   "metadata": {
    "id": "nJ2Ek6CZHZm8"
   },
   "source": [
    "### **Defining a Convolutional Neural Network (CNN) Model**"
   ]
  },
  {
   "cell_type": "markdown",
   "metadata": {
    "id": "u-3u1necDYEY"
   },
   "source": [
    "Let's create a CNN model sequentially, where we will be adding the layers one after another."
   ]
  },
  {
   "cell_type": "markdown",
   "metadata": {
    "id": "UCf2IXKdDgdq"
   },
   "source": [
    "First, we need to clear the previous model's history from the session.\n",
    "\n",
    "In Keras, we need a special command to clear the model's history, otherwise the previous model history remains in the backend.\n",
    "\n",
    "Also, let's fix the seed again after clearing the backend.\n",
    "\n",
    "Let's **set the seed for random number generators in Numpy, the Random library in Python, and in TensorFlow** to be able to reproduce the same results every time we run the code."
   ]
  },
  {
   "cell_type": "code",
   "execution_count": 20,
   "metadata": {
    "id": "Q5AwVYZ2j0nx"
   },
   "outputs": [],
   "source": [
    "# Clearing backend\n",
    "from tensorflow.keras import backend\n",
    "backend.clear_session()"
   ]
  },
  {
   "cell_type": "code",
   "execution_count": 21,
   "metadata": {
    "id": "NcxvHDk9-qWD"
   },
   "outputs": [],
   "source": [
    "# Fixing the seed for random number generators\n",
    "import random\n",
    "np.random.seed(42)\n",
    "random.seed(42)\n",
    "tf.random.set_seed(42)"
   ]
  },
  {
   "cell_type": "markdown",
   "metadata": {
    "id": "2dfF83spEMgr"
   },
   "source": [
    "Let's build a **CNN Model**.<br>\n",
    "\n",
    "The model has 2 main parts:\n",
    "1. **The Feature Extraction layers** which are comprised of convolutional and pooling layers.\n",
    "2. **The Fully Connected classification layers for prediction.**<br><br>\n",
    "\n",
    "The flow of our model would be as shown below:\n",
    "\n",
    "*   Our model would start with a sequential Conv2D layer with 64 filters of 3x3 filter with the **ReLU** activation function. This will take as input an image of size (28x28x1).\n",
    "*    We will also use padding in order to keep the output shape the same as that of the input shape. Hence, the hyperparameter padding = 'same'.\n",
    "<br> This layer would also be followed by a **Max Pooling** layer.\n",
    "*   After this, we will have 2 more pairs of Conv2D and **Max Pooling** layers, having 32 filters with a 3x3 Kernel Size and a pooling size of (2,2).\n",
    "*   We would flatten out the output from this pooling layer, and use a dense layer over that.\n",
    "*   This will be a dense layer of 100 neurons (the same as the ANN)\n",
    "*   We would have an output layer with 10 neurons, as we have 10 output classes in this multi-class classification problem.\n",
    "\n",
    "\n",
    "\n",
    "\n",
    "\n",
    "\n",
    "\n",
    "\n",
    "\n",
    "\n"
   ]
  },
  {
   "cell_type": "code",
   "execution_count": 22,
   "metadata": {
    "colab": {
     "base_uri": "https://localhost:8080/"
    },
    "id": "1jur1qN2EGK0",
    "outputId": "ccc1e5df-7341-4849-e947-b6b0cd9d0183"
   },
   "outputs": [
    {
     "name": "stdout",
     "output_type": "stream",
     "text": [
      "Model: \"sequential\"\n",
      "_________________________________________________________________\n",
      " Layer (type)                Output Shape              Param #   \n",
      "=================================================================\n",
      " conv2d (Conv2D)             (None, 28, 28, 64)        640       \n",
      "                                                                 \n",
      " max_pooling2d (MaxPooling2D  (None, 14, 14, 64)       0         \n",
      " )                                                               \n",
      "                                                                 \n",
      " conv2d_1 (Conv2D)           (None, 14, 14, 32)        18464     \n",
      "                                                                 \n",
      " max_pooling2d_1 (MaxPooling  (None, 7, 7, 32)         0         \n",
      " 2D)                                                             \n",
      "                                                                 \n",
      " conv2d_2 (Conv2D)           (None, 7, 7, 32)          9248      \n",
      "                                                                 \n",
      " max_pooling2d_2 (MaxPooling  (None, 4, 4, 32)         0         \n",
      " 2D)                                                             \n",
      "                                                                 \n",
      " flatten (Flatten)           (None, 512)               0         \n",
      "                                                                 \n",
      " dense (Dense)               (None, 100)               51300     \n",
      "                                                                 \n",
      " dense_1 (Dense)             (None, 10)                1010      \n",
      "                                                                 \n",
      "=================================================================\n",
      "Total params: 80,662\n",
      "Trainable params: 80,662\n",
      "Non-trainable params: 0\n",
      "_________________________________________________________________\n"
     ]
    }
   ],
   "source": [
    "# Intializing a sequential model\n",
    "model = Sequential()\n",
    "\n",
    "# Adding first conv layer with 64 filters and kernel size 3x3 , padding 'same' provides the output size same as the input size\n",
    "# Input_shape denotes input image dimension of MNIST images\n",
    "model.add(Conv2D(64, (3, 3), activation='relu', padding=\"same\", input_shape=(28, 28, 1)))\n",
    "\n",
    "# Adding max pooling to reduce the size of output of first conv layer\n",
    "model.add(MaxPooling2D((2, 2), padding = 'same'))\n",
    "\n",
    "model.add(Conv2D(32, (3, 3), activation='relu', padding=\"same\"))\n",
    "model.add(MaxPooling2D((2, 2), padding = 'same'))\n",
    "model.add(Conv2D(32, (3, 3), activation='relu', padding=\"same\"))\n",
    "model.add(MaxPooling2D((2, 2), padding = 'same'))\n",
    "\n",
    "# flattening the output of the conv layer after max pooling to make it ready for creating dense connections\n",
    "model.add(Flatten())\n",
    "\n",
    "# Adding a fully connected dense layer with 100 neurons\n",
    "model.add(Dense(100, activation='relu'))\n",
    "\n",
    "# Adding the output layer with 10 neurons and activation functions as softmax since this is a multi-class classification problem\n",
    "model.add(Dense(10, activation='softmax'))\n",
    "\n",
    "# Using SGD Optimizer\n",
    "opt = SGD(learning_rate=0.01, momentum=0.9)\n",
    "\n",
    "# Compile model\n",
    "model.compile(optimizer=opt, loss='categorical_crossentropy', metrics=['accuracy'])\n",
    "\n",
    "# Generating the summary of the model\n",
    "model.summary()"
   ]
  },
  {
   "cell_type": "markdown",
   "metadata": {
    "id": "Hcr6wzFS6R-j"
   },
   "source": [
    "**Let us try to understand the parameters in the CNN layers:**\n",
    ">\n",
    "\n",
    "*  **First Conv2D Layer** <br>\n",
    "The input shape to the Conv2D layer: (28,28,1)<br>\n",
    "The Size of the Filter: 3x3 <br>\n",
    "The Number of Filters: 64<br>\n",
    "The Number of parameters: (3x3x1+1)x64 = 640<br>\n",
    "  `(width of filter in current layer x height of filter in current layer x number of filters in previous layer + bias) x number of filters in current layer`<br>\n",
    "\n",
    "*   **Max Pooling Layer**<br>\n",
    "Pooling has no trainable parameters, so the number of parameters: 0<br>\n",
    "\n",
    "*   **Flatten**<br>\n",
    "It does not have any trainable parameters, so the number of parameters: 0<br>\n",
    "\n",
    "*   **Fully Connected Dense Layer**<br>\n",
    "Number of neurons: 100<br>\n",
    "Number of parameters: (100x512)+(1x100): 51300<br>\n",
    "` Number of neurons in current layer x number of neurons in the previous layer (Here in max pooling layer: 14x14x16) + 1 x number of neurons in current layer (Bias)`<br>\n",
    "\n",
    "*   **Output Layer**<br>\n",
    "Number of neurons: 10<br>\n",
    "Number of parameters: (10x100)+(1x10)=1010<br>\n",
    "` Number of neurons in current layer x number of neurons in the previous layer (Here in the previous dense layer: 128) + 1 x number of neurons in current layer(Bias)`\n",
    "\n",
    "\n",
    "\n",
    "\n",
    "\n",
    "\n"
   ]
  },
  {
   "cell_type": "markdown",
   "metadata": {
    "id": "K23aF68_FHEw"
   },
   "source": [
    "### <b> Fitting the model on the train data"
   ]
  },
  {
   "cell_type": "code",
   "execution_count": 23,
   "metadata": {
    "colab": {
     "base_uri": "https://localhost:8080/"
    },
    "id": "Er5k1jYG7waV",
    "outputId": "34e457f6-a122-4b13-c652-73f9e3eb82b5"
   },
   "outputs": [
    {
     "name": "stdout",
     "output_type": "stream",
     "text": [
      "Epoch 1/15\n",
      "844/844 - 111s - loss: 0.3429 - accuracy: 0.8906 - val_loss: 0.0816 - val_accuracy: 0.9738 - 111s/epoch - 131ms/step\n",
      "Epoch 2/15\n",
      "844/844 - 107s - loss: 0.0706 - accuracy: 0.9775 - val_loss: 0.0576 - val_accuracy: 0.9807 - 107s/epoch - 126ms/step\n",
      "Epoch 3/15\n",
      "844/844 - 110s - loss: 0.0498 - accuracy: 0.9843 - val_loss: 0.0440 - val_accuracy: 0.9865 - 110s/epoch - 130ms/step\n",
      "Epoch 4/15\n",
      "844/844 - 110s - loss: 0.0388 - accuracy: 0.9876 - val_loss: 0.0452 - val_accuracy: 0.9882 - 110s/epoch - 130ms/step\n",
      "Epoch 5/15\n",
      "844/844 - 110s - loss: 0.0313 - accuracy: 0.9900 - val_loss: 0.0372 - val_accuracy: 0.9902 - 110s/epoch - 130ms/step\n",
      "Epoch 6/15\n",
      "844/844 - 107s - loss: 0.0265 - accuracy: 0.9917 - val_loss: 0.0396 - val_accuracy: 0.9888 - 107s/epoch - 127ms/step\n",
      "Epoch 7/15\n",
      "844/844 - 107s - loss: 0.0232 - accuracy: 0.9921 - val_loss: 0.0347 - val_accuracy: 0.9903 - 107s/epoch - 127ms/step\n",
      "Epoch 8/15\n",
      "844/844 - 107s - loss: 0.0195 - accuracy: 0.9934 - val_loss: 0.0341 - val_accuracy: 0.9910 - 107s/epoch - 126ms/step\n",
      "Epoch 9/15\n",
      "844/844 - 109s - loss: 0.0168 - accuracy: 0.9942 - val_loss: 0.0458 - val_accuracy: 0.9882 - 109s/epoch - 130ms/step\n",
      "Epoch 10/15\n",
      "844/844 - 107s - loss: 0.0139 - accuracy: 0.9955 - val_loss: 0.0422 - val_accuracy: 0.9897 - 107s/epoch - 126ms/step\n",
      "Epoch 11/15\n",
      "844/844 - 112s - loss: 0.0124 - accuracy: 0.9960 - val_loss: 0.0339 - val_accuracy: 0.9913 - 112s/epoch - 133ms/step\n",
      "Epoch 12/15\n",
      "844/844 - 108s - loss: 0.0105 - accuracy: 0.9965 - val_loss: 0.0350 - val_accuracy: 0.9902 - 108s/epoch - 127ms/step\n",
      "Epoch 13/15\n",
      "844/844 - 107s - loss: 0.0094 - accuracy: 0.9970 - val_loss: 0.0447 - val_accuracy: 0.9895 - 107s/epoch - 127ms/step\n",
      "Epoch 14/15\n",
      "844/844 - 108s - loss: 0.0069 - accuracy: 0.9977 - val_loss: 0.0453 - val_accuracy: 0.9893 - 108s/epoch - 128ms/step\n",
      "Epoch 15/15\n",
      "844/844 - 108s - loss: 0.0071 - accuracy: 0.9977 - val_loss: 0.0474 - val_accuracy: 0.9903 - 108s/epoch - 128ms/step\n"
     ]
    }
   ],
   "source": [
    "history_1 = model.fit(\n",
    "            X_train_normalized, y_train_encoded,\n",
    "            epochs=15,\n",
    "            validation_split=0.1,\n",
    "            shuffle=True,\n",
    "            batch_size=64,\n",
    "            verbose=2\n",
    ")"
   ]
  },
  {
   "cell_type": "markdown",
   "metadata": {
    "id": "J0nAM75hf8KZ"
   },
   "source": [
    "### **Model Evaluation**"
   ]
  },
  {
   "cell_type": "code",
   "execution_count": 24,
   "metadata": {
    "colab": {
     "base_uri": "https://localhost:8080/",
     "height": 472
    },
    "id": "JWLrPdNwGWpH",
    "outputId": "3663099c-356b-44f8-81fe-8ba6f293463a"
   },
   "outputs": [
    {
     "data": {
      "image/png": "[encoded data removed]",
      "text/plain": [
       "<Figure size 640x480 with 1 Axes>"
      ]
     },
     "metadata": {},
     "output_type": "display_data"
    }
   ],
   "source": [
    "plt.plot(history_1.history['accuracy'])\n",
    "plt.plot(history_1.history['val_accuracy'])\n",
    "plt.title('Model Accuracy')\n",
    "plt.ylabel('Accuracy')\n",
    "plt.xlabel('Epoch')\n",
    "plt.legend(['Train', 'Validation'], loc='upper left')\n",
    "plt.show()"
   ]
  },
  {
   "cell_type": "markdown",
   "metadata": {
    "id": "rKJ6YR_bawrp"
   },
   "source": [
    "**Observations:**\n",
    "\n",
    "\n",
    "*   We can see from the above plot that **the model has perfomed well on train and validation data with a validation accuracy of 98%.**\n",
    "\n",
    "\n",
    "\n",
    "\n"
   ]
  },
  {
   "cell_type": "markdown",
   "metadata": {
    "id": "x2sRP3ovbCJL"
   },
   "source": [
    "### **Evaluating the model on test data**"
   ]
  },
  {
   "cell_type": "code",
   "execution_count": 25,
   "metadata": {
    "colab": {
     "base_uri": "https://localhost:8080/"
    },
    "id": "LK3DlKQoGJMc",
    "outputId": "5bfda56b-649b-48c7-eb88-a02d336f86d6"
   },
   "outputs": [
    {
     "name": "stdout",
     "output_type": "stream",
     "text": [
      "313/313 - 5s - loss: 0.0385 - accuracy: 0.9903 - 5s/epoch - 17ms/step\n"
     ]
    }
   ],
   "source": [
    "accuracy = model.evaluate(X_test_normalized, y_test_encoded, verbose=2)"
   ]
  },
  {
   "cell_type": "markdown",
   "metadata": {
    "id": "gighSgusgBeM"
   },
   "source": [
    "### **Generating the predictions using test data**"
   ]
  },
  {
   "cell_type": "code",
   "execution_count": 26,
   "metadata": {
    "colab": {
     "base_uri": "https://localhost:8080/"
    },
    "id": "sYbj9qSidOoV",
    "outputId": "7bc80c91-7201-49ad-f0dc-4ae374f98b83"
   },
   "outputs": [
    {
     "name": "stdout",
     "output_type": "stream",
     "text": [
      "313/313 [==============================] - 7s 23ms/step\n"
     ]
    }
   ],
   "source": [
    "# Here we would get the output as probablities for each category\n",
    "y_pred=model.predict(X_test_normalized)"
   ]
  },
  {
   "cell_type": "code",
   "execution_count": 27,
   "metadata": {
    "colab": {
     "base_uri": "https://localhost:8080/"
    },
    "id": "QL7QVdIeg6ci",
    "outputId": "978f6f45-af4a-4e23-e2fc-8bb625500d44"
   },
   "outputs": [
    {
     "data": {
      "text/plain": [
       "array([[1.7448991e-17, 5.9817719e-12, 7.4023261e-12, ..., 9.9999994e-01,\n",
       "        2.7999083e-15, 1.6082080e-11],\n",
       "       [9.0257614e-11, 1.6109736e-08, 9.9999994e-01, ..., 1.0755647e-14,\n",
       "        2.3025273e-11, 3.2110982e-14],\n",
       "       [2.2471484e-10, 9.9999768e-01, 1.3242023e-07, ..., 1.3023720e-06,\n",
       "        7.1004806e-08, 1.9897055e-10],\n",
       "       ...,\n",
       "       [4.6421273e-20, 2.5722309e-13, 4.0733393e-18, ..., 5.3037427e-12,\n",
       "        4.0028484e-12, 2.6962987e-12],\n",
       "       [7.8592297e-09, 6.7527256e-19, 5.0843571e-16, ..., 1.4287379e-13,\n",
       "        1.3325919e-05, 1.8966279e-15],\n",
       "       [9.6108494e-13, 9.4680665e-15, 1.2204866e-14, ..., 1.8472945e-18,\n",
       "        5.0761689e-16, 6.3251532e-18]], dtype=float32)"
      ]
     },
     "execution_count": 27,
     "metadata": {},
     "output_type": "execute_result"
    }
   ],
   "source": [
    "y_pred"
   ]
  },
  {
   "cell_type": "markdown",
   "metadata": {
    "id": "7f8u1cOufv4R"
   },
   "source": [
    "### **Plotting the Confusion Matrix**"
   ]
  },
  {
   "cell_type": "markdown",
   "metadata": {
    "id": "06UAILfCgOjc"
   },
   "source": [
    "*   The Confusion matrix is also defined as an inbuilt function in the TensorFlow module, so we can use that for evaluating the classification model.\n",
    "*   The Confusion matrix expects the input to be of categorical values. But the y_test_encoded is an encoded value, and y_pred has probablities. So we need to get the categorical values back from the encoded values.\n",
    "*   We will use the `argmax()` function to obtain the maximum value over each category on both y_test_encoded and y_pred and obtain their respective classes.\n",
    "\n",
    "\n",
    "\n"
   ]
  },
  {
   "cell_type": "code",
   "execution_count": 28,
   "metadata": {
    "colab": {
     "base_uri": "https://localhost:8080/",
     "height": 676
    },
    "id": "IavJcIuDT0s6",
    "outputId": "eb9a7dbe-c9ae-40ea-c277-a514525a43d6"
   },
   "outputs": [
    {
     "data": {
      "image/png": "[encoded data removed]",
      "text/plain": [
       "<Figure size 1000x800 with 2 Axes>"
      ]
     },
     "metadata": {},
     "output_type": "display_data"
    }
   ],
   "source": [
    "# Obtaining the categorical values from y_test_encoded and y_pred\n",
    "y_pred_arg=np.argmax(y_pred,axis=1)\n",
    "y_test_arg=np.argmax(y_test_encoded,axis=1)\n",
    "\n",
    "# Plotting the Confusion Matrix using confusion matrix() function which is also predefined tensorflow module\n",
    "confusion_matrix = tf.math.confusion_matrix(y_test_arg,y_pred_arg)\n",
    "f, ax = plt.subplots(figsize=(10, 8))\n",
    "sns.heatmap(\n",
    "    confusion_matrix,\n",
    "    annot=True,\n",
    "    linewidths=.4,\n",
    "    fmt=\"d\",\n",
    "    square=True,\n",
    "    ax=ax\n",
    ")\n",
    "plt.show()"
   ]
  },
  {
   "cell_type": "markdown",
   "metadata": {
    "id": "L3rR9A-hk86M"
   },
   "source": [
    "We observe that most of the classes are predicted correctly.\n",
    "\n",
    "The misclassification mostly with the the digits 4 and 8, which are confused with digit 9."
   ]
  },
  {
   "cell_type": "markdown",
   "metadata": {
    "id": "SkcMjc34AW_7"
   },
   "source": [
    "## **Comparing the number of parameters in ANNs and CNNs**\n",
    "\n",
    "- The total number of trainable parameters in the ANN were: 79,510.\n",
    "- The total number of trainable parameters in the CNN are: 80,662.\n",
    "- For the ANN model, we had to flatten our input image of size (28,28,1) to (784,1). This was followed by two dense layers with the same number of nodes that we used while building the CNN Model.\n",
    "- **Using just 2 dense layers after Flatten() in the ANN model, resulted in nearly the same number of parameters as the whole CNN model, despite the CNN having the added advantage of multiple convolution layers for feature extraction.**\n",
    "\n",
    "**This should give a sense for why it makes much more sense to use CNNs for image prediction tasks**, not only because they have added advantages to make use of the spatial nature of information in images, but because they are so much more computationally efficient."
   ]
  },
  {
   "cell_type": "markdown",
   "metadata": {
    "id": "cVl-Pka8zNBc"
   },
   "source": [
    "# **Happy Learning!**"
   ]
  }
 ],
 "metadata": {
  "accelerator": "TPU",
  "colab": {
   "provenance": []
  },
  "kernelspec": {
   "display_name": "Python 3 (ipykernel)",
   "language": "python",
   "name": "python3"
  },
  "language_info": {
   "codemirror_mode": {
    "name": "ipython",
    "version": 3
   },
   "file_extension": ".py",
   "mimetype": "text/x-python",
   "name": "python",
   "nbconvert_exporter": "python",
   "pygments_lexer": "ipython3",
   "version": "3.10.11"
  }
 },
 "nbformat": 4,
 "nbformat_minor": 1
}
