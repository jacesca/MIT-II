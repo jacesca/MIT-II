{
 "cells": [
  {
   "cell_type": "markdown",
   "id": "dc9c8a11",
   "metadata": {},
   "source": [
    "# Curated External Resources - Convolutional Neural Networks"
   ]
  },
  {
   "cell_type": "markdown",
   "id": "ac98f0bb",
   "metadata": {},
   "source": [
    "---------"
   ]
  },
  {
   "cell_type": "markdown",
   "id": "6640394c",
   "metadata": {},
   "source": [
    "Please find below some curated external links to articles and open-source video content about concepts related to Convolutional Neural Networks.\n",
    "\n",
    "1. [Convolutional Neural Networks](https://ujjwalkarn.me/2016/08/11/intuitive-explanation-convnets/): This is a detailed read on CNN which starts from the importance of CNNs, various operations on CNNs such as convolutions, pooling, etc., and discusses the example of recognizing handwritten digits using CNNs.\n",
    "2. [Implementation of CNNs using Keras and TensorFlow](): You can refer to the following link for a basic implementation of image classification using Keras and TensorFlow.\n",
    "3. [Understanding Convolutional Neural Networks](https://www.youtube.com/watch?v=SQ67NBCLV98): This video by Intel AI explains the working of CNN in a detailed manner. \n",
    "4. [Introduction to CNNs](https://www.youtube.com/watch?v=x_VrgWTKkiM&t=73s): This video by TensorFlow will help you understand and implement CNNs using TensorFlow. "
   ]
  },
  {
   "cell_type": "markdown",
   "id": "4bc99027",
   "metadata": {},
   "source": [
    "Other useful links:\n",
    "* [Playground - Interactive CNN on MNIST](https://cs.stanford.edu/people/karpathy/convnetjs/demo/mnist.html)\n",
    "* [Playground - Interactive CNN with CIFAR-10](https://cs.stanford.edu/people/karpathy/convnetjs/demo/cifar10.html)\n",
    "* [Playground - Toy 2D Dataset Classification using CNN](https://cs.stanford.edu/people/karpathy/convnetjs/demo/classify2d.html)"
   ]
  },
  {
   "cell_type": "markdown",
   "id": "eb2593fa",
   "metadata": {},
   "source": [
    "---------"
   ]
  }
 ],
 "metadata": {
  "kernelspec": {
   "display_name": "Python 3 (ipykernel)",
   "language": "python",
   "name": "python3"
  },
  "language_info": {
   "codemirror_mode": {
    "name": "ipython",
    "version": 3
   },
   "file_extension": ".py",
   "mimetype": "text/x-python",
   "name": "python",
   "nbconvert_exporter": "python",
   "pygments_lexer": "ipython3",
   "version": "3.10.11"
  }
 },
 "nbformat": 4,
 "nbformat_minor": 5
}
