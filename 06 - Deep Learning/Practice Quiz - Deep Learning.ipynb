{
 "cells": [
  {
   "cell_type": "markdown",
   "id": "fb519c27",
   "metadata": {},
   "source": [
    "# Practice Quiz - Deep Learning"
   ]
  },
  {
   "cell_type": "markdown",
   "id": "9d7b4898",
   "metadata": {},
   "source": [
    "-----------"
   ]
  },
  {
   "cell_type": "markdown",
   "id": "fd66e066",
   "metadata": {},
   "source": [
    "### 1. What is the main difference between a Shallow and a Deep Neural Network?\n",
    "\n",
    "> * The number of layers in a Shallow Network are lesser than the number of layers in a Deep Neural Network (Selected)\n",
    "* The activation functions used in these networks are different\n",
    "* The training algorithm used in Shallow Networks are different because they are used in scenarios where not much information extraction from the Input Data is necessary\n",
    "* Shallow Neural Networks are used for Structured data while Deep Neural Networks are used with unstructured data\n",
    "\n",
    "**The only defining feature of a Neural Network that makes it shallow or deep is its depth or the number of layers. Different tasks require different architectures of Neural Nets, but broadly classifying a Neural Network can either be regarded as deep or it can be regarded as shallow.**"
   ]
  },
  {
   "cell_type": "markdown",
   "id": "f9eed25c",
   "metadata": {},
   "source": [
    "### 2. How does Dropout layer prevent overfitting in Neural Networks?\n",
    "* It adds noise to the input data so that the model doesn’t closely fit to the training data\n",
    "> * It removes random neurons during training, effectively bringing down the number of trainable weights (Selected)\n",
    "* It increases the learning rate so that each backpropagation adjusts the weights with bigger step sizes\n",
    "* It applies L1 or L2 regularization to the weights so that it can account for a bias in the error term that leaves room to prevent overfitting\n",
    "\n",
    "**Dropout process reduces the number of neurons by switching them off during training. This ensures that we are not overfitting with too many weights. The switched off neurons have all their weights set to zero, so effectively they all produce a zero output to the next layer.**"
   ]
  },
  {
   "cell_type": "markdown",
   "id": "ea947158",
   "metadata": {},
   "source": [
    "### 3. What is the purpose of Batch Normalization in Deep Learning?\n",
    "\n",
    "* To reduce the number of trainable parameters in the network by taking an average of the weights across neurons within the same layer\n",
    "* To speed up the training process by optimizing the batch size hyperparameter.\n",
    "> * To reduce the effects of variance within the same batch by normalizing the data fields across the batch (Selected)\n",
    "* To add noise to the input data for preventing overfitting on input data\n",
    "\n",
    "**Batch-Normalization standardizes every data field for the batch of data fed to the Neural Network so that the data lies within a sensible range.**"
   ]
  },
  {
   "cell_type": "markdown",
   "id": "c11a9a23",
   "metadata": {},
   "source": [
    "### 4. In a Convolutional Neural Network, what is the purpose of the stride parameter?\n",
    "\n",
    "* To control the size of the convolutional filter\n",
    "* To control the number of filters in a given layer\n",
    "* To control the size of pooling window\n",
    "> * To control by how much does the convolutional filter moves per step (Selected)\n",
    "\n",
    "**As the name suggests, the stride parameter determines the step size for Convolution in that particular layer.**"
   ]
  },
  {
   "cell_type": "markdown",
   "id": "9eb5c268",
   "metadata": {},
   "source": [
    "### 5. Which of the following task is possible with a Graph Neural Network?\n",
    "\n",
    "* Node level prediction\n",
    "* Edge level prediction\n",
    "* Graph Level prediction\n",
    "> * All of the above (Selected)\n",
    "\n",
    "**A Graph Neural Network can predict/classify any nodes or edges and sometimes the entire graph. Node level and Edge level prediction includes tasks such as classifying any particular node or edge. Graph Level predictions are used to classify molecules, drugs, etc.**"
   ]
  },
  {
   "cell_type": "markdown",
   "id": "35a96dbd",
   "metadata": {},
   "source": [
    "### 6. State whether the below statement is True or False: Message passing step in Graph Neural Networks incorporates information sharing from all nodes present in the graph onto a particular node and not just the ones a particular node is neighbours with.\n",
    "\n",
    "* True\n",
    "> * False (Selected)\n",
    "\n",
    "**In message passing, a node receives information from only its direct or indirect neighbour nodes. In the first message passing step, it can only receive from its immediate neughbours, but since in the second message passing timestep, the neighbouring nodes also have incorporated information from their neighbours, so messages from indirect neighbours are also received. But in cases of nodes which have no direct or indirect connections, no information passing is done between them.**"
   ]
  },
  {
   "cell_type": "markdown",
   "id": "328ecef3",
   "metadata": {},
   "source": [
    "### 7. How does the activation function affect the performance of a Neural Network?\n",
    "\n",
    "* It determines the number of neurons in the hidden layers\n",
    "* It determines the learning rate of the model\n",
    "* It affects the speed of convergence during training\n",
    "> * It determines the nonlinearity of the model (Selected)\n",
    "\n",
    "**Neurons are linear combinations of weights and values from previous layers. So in order to account for non linearity, activation functions are used after some layers.**"
   ]
  },
  {
   "cell_type": "markdown",
   "id": "4ee2bab3",
   "metadata": {},
   "source": [
    "### 8. How does transfer learning work in deep learning?\n",
    "\n",
    "> * By using pre-trained models as a starting point for a new task (Selected)\n",
    "* By combining multiple models to improve performance\n",
    "* By training a model on multiple GPUs or across several computational resources\n",
    "* By automatically generating new data and fine tuning on the generated data\n",
    "\n",
    "**The point of Transfer Learning is taking advantage of the fact that layers are pre-trained on different task but we can trust its learned representations to perform equally well in our new task with some fine-tuning.**"
   ]
  },
  {
   "cell_type": "markdown",
   "id": "8b291349",
   "metadata": {},
   "source": [
    "### 9. What is the main difference between Supervised Learning and Contrastive Learning in Convolutional Neural Networks?\n",
    "\n",
    "* Supervised Learning maximizes the similarity between positive pairs, while Contrastive Learning maximizes the dissimilarity between positive and negative pairs\n",
    "> * Supervised Learning requires labeled data, while Contrastive Learning does not (Selected)\n",
    "* Supervised Learning only works with fully connected layers, while Contrastive Learning works with Convolutional Layers\n",
    "* Supervised Learning requires a larger number of training samples than Contrastive Learning\n",
    "\n",
    "**In Contrastive Learning, positive and negative pairs are formed from existing data. If the pair is formed from the same image, then they are used as Positive pairs and vice versa. Therefore, Contrastive Learning can do well with unlabeled data while Supervised Learning, by definition, requires labeled data.**"
   ]
  },
  {
   "cell_type": "markdown",
   "id": "b4b944ef",
   "metadata": {},
   "source": [
    "### 10. In a Convolutional Neural Network, which layer is used to convert the output of Convolutional layers into a format suitable for input to Fully Connected Layers?\n",
    "\n",
    "* Batch-Normalization layer\n",
    "* Dropout layer\n",
    "> * Flatten layer (Selected)\n",
    "* Pooling layer\n",
    "\n",
    "**The purpose of Flatten layer is to reshape the multi dimensional vectors into one dimensional vectors so that they can be fed as input into the Dense or Fully-Connected layers.**"
   ]
  },
  {
   "cell_type": "markdown",
   "id": "b73be828",
   "metadata": {},
   "source": [
    "----------------"
   ]
  }
 ],
 "metadata": {
  "kernelspec": {
   "display_name": "Python 3 (ipykernel)",
   "language": "python",
   "name": "python3"
  },
  "language_info": {
   "codemirror_mode": {
    "name": "ipython",
    "version": 3
   },
   "file_extension": ".py",
   "mimetype": "text/x-python",
   "name": "python",
   "nbconvert_exporter": "python",
   "pygments_lexer": "ipython3",
   "version": "3.10.11"
  }
 },
 "nbformat": 4,
 "nbformat_minor": 5
}
