{
 "cells": [
  {
   "cell_type": "markdown",
   "id": "7c7349ed",
   "metadata": {},
   "source": [
    "# Curated External Resources - Graph Neural Networks"
   ]
  },
  {
   "cell_type": "markdown",
   "id": "d549cf66",
   "metadata": {},
   "source": [
    "-------------------"
   ]
  },
  {
   "cell_type": "markdown",
   "id": "13f77def",
   "metadata": {},
   "source": [
    "Please find below some curated external links to articles about concepts related to Transfer Learning and Graph Neural Networks.\n",
    "\n",
    "1. [Transfer Learning](https://machinelearningmastery.com/transfer-learning-for-deep-learning/): This article introduces the idea of transfer learning and how to use it with examples of image and natural language data.\n",
    "\n",
    "2. [Network, Graphs, and GNNs](https://docs.dgl.ai/guide/graph.html): This is a very detailed guide on the concepts of graphs, networks, and graphs neural networks.\n",
    "\n",
    "3. [A Guide to GNNs](https://medium.com/dair-ai/an-illustrated-guide-to-graph-neural-networks-d5564a551783): This article explains the basics of graphs and discusses the idea behind GNNs and the steps involved in training a GNN model.\n",
    "\n",
    "4. [Applications of GNNs](https://blog.fastforwardlabs.com/2019/10/30/exciting-applications-of-graph-neural-networks.html): This short read provides the real-life applications of graph neural networks across industries.\n",
    "\n",
    "5. [Polypharmacy Side Effects](https://academic.oup.com/bioinformatics/article/34/13/i457/5045770?login=false): This research paper explains the intuition behind the practical application of GNNs - Predicting polypharmacy side effects, which will be discussed in the lecture."
   ]
  },
  {
   "cell_type": "markdown",
   "id": "4204e356",
   "metadata": {},
   "source": [
    "------------------------------"
   ]
  }
 ],
 "metadata": {
  "kernelspec": {
   "display_name": "Python 3 (ipykernel)",
   "language": "python",
   "name": "python3"
  },
  "language_info": {
   "codemirror_mode": {
    "name": "ipython",
    "version": 3
   },
   "file_extension": ".py",
   "mimetype": "text/x-python",
   "name": "python",
   "nbconvert_exporter": "python",
   "pygments_lexer": "ipython3",
   "version": "3.10.11"
  }
 },
 "nbformat": 4,
 "nbformat_minor": 5
}
