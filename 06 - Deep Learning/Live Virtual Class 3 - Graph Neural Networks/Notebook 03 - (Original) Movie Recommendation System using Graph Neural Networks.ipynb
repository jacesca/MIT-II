{
  "cells": [
    {
      "cell_type": "markdown",
      "id": "7-oJOCkGqXEU",
      "metadata": {
        "id": "7-oJOCkGqXEU"
      },
      "source": [
        "------------------------------------------------------------------------------------------\n",
        "# **Movie Recommendation using Graph Neural Networks**\n",
        "-------------------------------------------------------------------------------------\n",
        "\n",
        "## **Context**\n",
        "Online streaming platforms like Netflix have plenty of movies in their repositories and if we can build a recommendation system to recommend relevant movies to users based on their historical interactions, this would improve customer satisfaction and hence improve revenue. The techniques that we will learn here will not only be limited to movies, they can be implemented through a Graph Neural Networks for other problems as well.\n",
        "\n",
        "## **Objective**\n",
        "\n",
        "In this case study, we will be building a graph neural network (GNN) to suggest similar movies based on what movies a user has watched.\n",
        "\n",
        "## **Dataset**\n",
        "\n",
        "The 'ratings' dataset contains the following attributes:\n",
        "- userId\n",
        "- movieId\n",
        "- rating\n",
        "- timestamp\n",
        "\n",
        "We will also use the 'movies' dataset to get the title of the movies. It contains the following attributes:\n",
        "\n",
        "- movieId\n",
        "- title\n",
        "- genres"
      ]
    },
    {
      "cell_type": "markdown",
      "id": "d705b8ad",
      "metadata": {
        "id": "d705b8ad"
      },
      "source": [
        "## **Importing the necessary libraries**"
      ]
    },
    {
      "cell_type": "code",
      "execution_count": 1,
      "id": "ylb2uH7bnxxY",
      "metadata": {
        "id": "ylb2uH7bnxxY"
      },
      "outputs": [],
      "source": [
        "import os\n",
        "\n",
        "from collections import defaultdict\n",
        "\n",
        "import math\n",
        "\n",
        "import networkx as nx\n",
        "\n",
        "import random\n",
        "\n",
        "from tqdm import tqdm\n",
        "\n",
        "from zipfile import ZipFile\n",
        "\n",
        "from urllib.request import urlretrieve\n",
        "\n",
        "import numpy as np\n",
        "\n",
        "import pandas as pd\n",
        "\n",
        "import tensorflow as tf\n",
        "\n",
        "from tensorflow import keras\n",
        "\n",
        "from tensorflow.keras import layers\n",
        "\n",
        "import matplotlib.pyplot as plt"
      ]
    },
    {
      "cell_type": "markdown",
      "id": "tisM4v-Eu0rb",
      "metadata": {
        "id": "tisM4v-Eu0rb"
      },
      "source": [
        "## **Retrieving the Datasets from the URL**"
      ]
    },
    {
      "cell_type": "code",
      "execution_count": 2,
      "id": "hkKAfivDnxxc",
      "metadata": {
        "id": "hkKAfivDnxxc"
      },
      "outputs": [],
      "source": [
        "urlretrieve(\n",
        "    \"http://files.grouplens.org/datasets/movielens/ml-latest-small.zip\", \"movielens.zip\"\n",
        ")\n",
        "\n",
        "ZipFile(\"movielens.zip\", \"r\").extractall()"
      ]
    },
    {
      "cell_type": "markdown",
      "id": "saWMXgf24Din",
      "metadata": {
        "id": "saWMXgf24Din"
      },
      "source": [
        "## **Converting the datasets into more readable format**"
      ]
    },
    {
      "cell_type": "code",
      "execution_count": 3,
      "id": "aLgAmRbfnxxc",
      "metadata": {
        "colab": {
          "base_uri": "https://localhost:8080/"
        },
        "id": "aLgAmRbfnxxc",
        "outputId": "854f34db-150d-41ec-d820-6c1669abc82d"
      },
      "outputs": [
        {
          "output_type": "stream",
          "name": "stdout",
          "text": [
            "Movies data shape: (9742, 3)\n",
            "Ratings data shape: (100836, 4)\n"
          ]
        }
      ],
      "source": [
        "# Load movies to a DataFrame\n",
        "\n",
        "movies = pd.read_csv(\"ml-latest-small/movies.csv\")\n",
        "\n",
        "# Create a `movieId` string\n",
        "\n",
        "movies[\"movieId\"] = movies[\"movieId\"].apply(lambda x: f\"movie_{x}\")\n",
        "\n",
        "# Load ratings to a DataFrame\n",
        "\n",
        "ratings = pd.read_csv(\"ml-latest-small/ratings.csv\")\n",
        "\n",
        "# Convert the `ratings` to floating point\n",
        "\n",
        "ratings[\"rating\"] = ratings[\"rating\"].apply(lambda x: float(x))\n",
        "\n",
        "# Create the `movie_id` string\n",
        "\n",
        "ratings[\"movieId\"] = ratings[\"movieId\"].apply(lambda x: f\"movie_{x}\")\n",
        "\n",
        "print(\"Movies data shape:\", movies.shape)\n",
        "\n",
        "print(\"Ratings data shape:\", ratings.shape)"
      ]
    },
    {
      "cell_type": "code",
      "execution_count": 4,
      "id": "p-IE1N3Znxxd",
      "metadata": {
        "id": "p-IE1N3Znxxd"
      },
      "outputs": [],
      "source": [
        "# This function gives us the name of the movie from the movieId\n",
        "def get_movie_title_by_id(movieId):\n",
        "\n",
        "    return list(movies[movies.movieId == movieId].title)[0]\n",
        "\n",
        "# This function gives us the id of the movie from the name of the movie\n",
        "def get_movie_id_by_title(title):\n",
        "\n",
        "    return list(movies[movies.title == title].movieId)[0]"
      ]
    },
    {
      "cell_type": "code",
      "execution_count": 5,
      "id": "4Lvaa3oRnxxe",
      "metadata": {
        "colab": {
          "base_uri": "https://localhost:8080/",
          "height": 206
        },
        "id": "4Lvaa3oRnxxe",
        "outputId": "fbee6e88-a8c8-49b2-edfa-a866bd40fd97"
      },
      "outputs": [
        {
          "output_type": "execute_result",
          "data": {
            "text/plain": [
              "   userId   movieId  rating  timestamp\n",
              "0       1   movie_1     4.0  964982703\n",
              "1       1   movie_3     4.0  964981247\n",
              "2       1   movie_6     4.0  964982224\n",
              "3       1  movie_47     5.0  964983815\n",
              "4       1  movie_50     5.0  964982931"
            ],
            "text/html": [
              "\n",
              "  <div id=\"df-15a4f87c-6727-4e2c-9be8-dfe75558d405\">\n",
              "    <div class=\"colab-df-container\">\n",
              "      <div>\n",
              "<style scoped>\n",
              "    .dataframe tbody tr th:only-of-type {\n",
              "        vertical-align: middle;\n",
              "    }\n",
              "\n",
              "    .dataframe tbody tr th {\n",
              "        vertical-align: top;\n",
              "    }\n",
              "\n",
              "    .dataframe thead th {\n",
              "        text-align: right;\n",
              "    }\n",
              "</style>\n",
              "<table border=\"1\" class=\"dataframe\">\n",
              "  <thead>\n",
              "    <tr style=\"text-align: right;\">\n",
              "      <th></th>\n",
              "      <th>userId</th>\n",
              "      <th>movieId</th>\n",
              "      <th>rating</th>\n",
              "      <th>timestamp</th>\n",
              "    </tr>\n",
              "  </thead>\n",
              "  <tbody>\n",
              "    <tr>\n",
              "      <th>0</th>\n",
              "      <td>1</td>\n",
              "      <td>movie_1</td>\n",
              "      <td>4.0</td>\n",
              "      <td>964982703</td>\n",
              "    </tr>\n",
              "    <tr>\n",
              "      <th>1</th>\n",
              "      <td>1</td>\n",
              "      <td>movie_3</td>\n",
              "      <td>4.0</td>\n",
              "      <td>964981247</td>\n",
              "    </tr>\n",
              "    <tr>\n",
              "      <th>2</th>\n",
              "      <td>1</td>\n",
              "      <td>movie_6</td>\n",
              "      <td>4.0</td>\n",
              "      <td>964982224</td>\n",
              "    </tr>\n",
              "    <tr>\n",
              "      <th>3</th>\n",
              "      <td>1</td>\n",
              "      <td>movie_47</td>\n",
              "      <td>5.0</td>\n",
              "      <td>964983815</td>\n",
              "    </tr>\n",
              "    <tr>\n",
              "      <th>4</th>\n",
              "      <td>1</td>\n",
              "      <td>movie_50</td>\n",
              "      <td>5.0</td>\n",
              "      <td>964982931</td>\n",
              "    </tr>\n",
              "  </tbody>\n",
              "</table>\n",
              "</div>\n",
              "      <button class=\"colab-df-convert\" onclick=\"convertToInteractive('df-15a4f87c-6727-4e2c-9be8-dfe75558d405')\"\n",
              "              title=\"Convert this dataframe to an interactive table.\"\n",
              "              style=\"display:none;\">\n",
              "        \n",
              "  <svg xmlns=\"http://www.w3.org/2000/svg\" height=\"24px\"viewBox=\"0 0 24 24\"\n",
              "       width=\"24px\">\n",
              "    <path d=\"M0 0h24v24H0V0z\" fill=\"none\"/>\n",
              "    <path d=\"M18.56 5.44l.94 2.06.94-2.06 2.06-.94-2.06-.94-.94-2.06-.94 2.06-2.06.94zm-11 1L8.5 8.5l.94-2.06 2.06-.94-2.06-.94L8.5 2.5l-.94 2.06-2.06.94zm10 10l.94 2.06.94-2.06 2.06-.94-2.06-.94-.94-2.06-.94 2.06-2.06.94z\"/><path d=\"M17.41 7.96l-1.37-1.37c-.4-.4-.92-.59-1.43-.59-.52 0-1.04.2-1.43.59L10.3 9.45l-7.72 7.72c-.78.78-.78 2.05 0 2.83L4 21.41c.39.39.9.59 1.41.59.51 0 1.02-.2 1.41-.59l7.78-7.78 2.81-2.81c.8-.78.8-2.07 0-2.86zM5.41 20L4 18.59l7.72-7.72 1.47 1.35L5.41 20z\"/>\n",
              "  </svg>\n",
              "      </button>\n",
              "      \n",
              "  <style>\n",
              "    .colab-df-container {\n",
              "      display:flex;\n",
              "      flex-wrap:wrap;\n",
              "      gap: 12px;\n",
              "    }\n",
              "\n",
              "    .colab-df-convert {\n",
              "      background-color: #E8F0FE;\n",
              "      border: none;\n",
              "      border-radius: 50%;\n",
              "      cursor: pointer;\n",
              "      display: none;\n",
              "      fill: #1967D2;\n",
              "      height: 32px;\n",
              "      padding: 0 0 0 0;\n",
              "      width: 32px;\n",
              "    }\n",
              "\n",
              "    .colab-df-convert:hover {\n",
              "      background-color: #E2EBFA;\n",
              "      box-shadow: 0px 1px 2px rgba(60, 64, 67, 0.3), 0px 1px 3px 1px rgba(60, 64, 67, 0.15);\n",
              "      fill: #174EA6;\n",
              "    }\n",
              "\n",
              "    [theme=dark] .colab-df-convert {\n",
              "      background-color: #3B4455;\n",
              "      fill: #D2E3FC;\n",
              "    }\n",
              "\n",
              "    [theme=dark] .colab-df-convert:hover {\n",
              "      background-color: #434B5C;\n",
              "      box-shadow: 0px 1px 3px 1px rgba(0, 0, 0, 0.15);\n",
              "      filter: drop-shadow(0px 1px 2px rgba(0, 0, 0, 0.3));\n",
              "      fill: #FFFFFF;\n",
              "    }\n",
              "  </style>\n",
              "\n",
              "      <script>\n",
              "        const buttonEl =\n",
              "          document.querySelector('#df-15a4f87c-6727-4e2c-9be8-dfe75558d405 button.colab-df-convert');\n",
              "        buttonEl.style.display =\n",
              "          google.colab.kernel.accessAllowed ? 'block' : 'none';\n",
              "\n",
              "        async function convertToInteractive(key) {\n",
              "          const element = document.querySelector('#df-15a4f87c-6727-4e2c-9be8-dfe75558d405');\n",
              "          const dataTable =\n",
              "            await google.colab.kernel.invokeFunction('convertToInteractive',\n",
              "                                                     [key], {});\n",
              "          if (!dataTable) return;\n",
              "\n",
              "          const docLinkHtml = 'Like what you see? Visit the ' +\n",
              "            '<a target=\"_blank\" href=https://colab.research.google.com/notebooks/data_table.ipynb>data table notebook</a>'\n",
              "            + ' to learn more about interactive tables.';\n",
              "          element.innerHTML = '';\n",
              "          dataTable['output_type'] = 'display_data';\n",
              "          await google.colab.output.renderOutput(dataTable, element);\n",
              "          const docLink = document.createElement('div');\n",
              "          docLink.innerHTML = docLinkHtml;\n",
              "          element.appendChild(docLink);\n",
              "        }\n",
              "      </script>\n",
              "    </div>\n",
              "  </div>\n",
              "  "
            ]
          },
          "metadata": {},
          "execution_count": 5
        }
      ],
      "source": [
        "# Let's look at the datasets\n",
        "ratings.head()"
      ]
    },
    {
      "cell_type": "code",
      "execution_count": 6,
      "id": "V_1s_Htrnxxe",
      "metadata": {
        "colab": {
          "base_uri": "https://localhost:8080/",
          "height": 206
        },
        "id": "V_1s_Htrnxxe",
        "outputId": "b98c23c0-a43b-41fa-87a4-bd5151e5878a"
      },
      "outputs": [
        {
          "output_type": "execute_result",
          "data": {
            "text/plain": [
              "   movieId                               title  \\\n",
              "0  movie_1                    Toy Story (1995)   \n",
              "1  movie_2                      Jumanji (1995)   \n",
              "2  movie_3             Grumpier Old Men (1995)   \n",
              "3  movie_4            Waiting to Exhale (1995)   \n",
              "4  movie_5  Father of the Bride Part II (1995)   \n",
              "\n",
              "                                        genres  \n",
              "0  Adventure|Animation|Children|Comedy|Fantasy  \n",
              "1                   Adventure|Children|Fantasy  \n",
              "2                               Comedy|Romance  \n",
              "3                         Comedy|Drama|Romance  \n",
              "4                                       Comedy  "
            ],
            "text/html": [
              "\n",
              "  <div id=\"df-9637b9e9-6e2e-43e3-a9d6-0b0ca555f1f0\">\n",
              "    <div class=\"colab-df-container\">\n",
              "      <div>\n",
              "<style scoped>\n",
              "    .dataframe tbody tr th:only-of-type {\n",
              "        vertical-align: middle;\n",
              "    }\n",
              "\n",
              "    .dataframe tbody tr th {\n",
              "        vertical-align: top;\n",
              "    }\n",
              "\n",
              "    .dataframe thead th {\n",
              "        text-align: right;\n",
              "    }\n",
              "</style>\n",
              "<table border=\"1\" class=\"dataframe\">\n",
              "  <thead>\n",
              "    <tr style=\"text-align: right;\">\n",
              "      <th></th>\n",
              "      <th>movieId</th>\n",
              "      <th>title</th>\n",
              "      <th>genres</th>\n",
              "    </tr>\n",
              "  </thead>\n",
              "  <tbody>\n",
              "    <tr>\n",
              "      <th>0</th>\n",
              "      <td>movie_1</td>\n",
              "      <td>Toy Story (1995)</td>\n",
              "      <td>Adventure|Animation|Children|Comedy|Fantasy</td>\n",
              "    </tr>\n",
              "    <tr>\n",
              "      <th>1</th>\n",
              "      <td>movie_2</td>\n",
              "      <td>Jumanji (1995)</td>\n",
              "      <td>Adventure|Children|Fantasy</td>\n",
              "    </tr>\n",
              "    <tr>\n",
              "      <th>2</th>\n",
              "      <td>movie_3</td>\n",
              "      <td>Grumpier Old Men (1995)</td>\n",
              "      <td>Comedy|Romance</td>\n",
              "    </tr>\n",
              "    <tr>\n",
              "      <th>3</th>\n",
              "      <td>movie_4</td>\n",
              "      <td>Waiting to Exhale (1995)</td>\n",
              "      <td>Comedy|Drama|Romance</td>\n",
              "    </tr>\n",
              "    <tr>\n",
              "      <th>4</th>\n",
              "      <td>movie_5</td>\n",
              "      <td>Father of the Bride Part II (1995)</td>\n",
              "      <td>Comedy</td>\n",
              "    </tr>\n",
              "  </tbody>\n",
              "</table>\n",
              "</div>\n",
              "      <button class=\"colab-df-convert\" onclick=\"convertToInteractive('df-9637b9e9-6e2e-43e3-a9d6-0b0ca555f1f0')\"\n",
              "              title=\"Convert this dataframe to an interactive table.\"\n",
              "              style=\"display:none;\">\n",
              "        \n",
              "  <svg xmlns=\"http://www.w3.org/2000/svg\" height=\"24px\"viewBox=\"0 0 24 24\"\n",
              "       width=\"24px\">\n",
              "    <path d=\"M0 0h24v24H0V0z\" fill=\"none\"/>\n",
              "    <path d=\"M18.56 5.44l.94 2.06.94-2.06 2.06-.94-2.06-.94-.94-2.06-.94 2.06-2.06.94zm-11 1L8.5 8.5l.94-2.06 2.06-.94-2.06-.94L8.5 2.5l-.94 2.06-2.06.94zm10 10l.94 2.06.94-2.06 2.06-.94-2.06-.94-.94-2.06-.94 2.06-2.06.94z\"/><path d=\"M17.41 7.96l-1.37-1.37c-.4-.4-.92-.59-1.43-.59-.52 0-1.04.2-1.43.59L10.3 9.45l-7.72 7.72c-.78.78-.78 2.05 0 2.83L4 21.41c.39.39.9.59 1.41.59.51 0 1.02-.2 1.41-.59l7.78-7.78 2.81-2.81c.8-.78.8-2.07 0-2.86zM5.41 20L4 18.59l7.72-7.72 1.47 1.35L5.41 20z\"/>\n",
              "  </svg>\n",
              "      </button>\n",
              "      \n",
              "  <style>\n",
              "    .colab-df-container {\n",
              "      display:flex;\n",
              "      flex-wrap:wrap;\n",
              "      gap: 12px;\n",
              "    }\n",
              "\n",
              "    .colab-df-convert {\n",
              "      background-color: #E8F0FE;\n",
              "      border: none;\n",
              "      border-radius: 50%;\n",
              "      cursor: pointer;\n",
              "      display: none;\n",
              "      fill: #1967D2;\n",
              "      height: 32px;\n",
              "      padding: 0 0 0 0;\n",
              "      width: 32px;\n",
              "    }\n",
              "\n",
              "    .colab-df-convert:hover {\n",
              "      background-color: #E2EBFA;\n",
              "      box-shadow: 0px 1px 2px rgba(60, 64, 67, 0.3), 0px 1px 3px 1px rgba(60, 64, 67, 0.15);\n",
              "      fill: #174EA6;\n",
              "    }\n",
              "\n",
              "    [theme=dark] .colab-df-convert {\n",
              "      background-color: #3B4455;\n",
              "      fill: #D2E3FC;\n",
              "    }\n",
              "\n",
              "    [theme=dark] .colab-df-convert:hover {\n",
              "      background-color: #434B5C;\n",
              "      box-shadow: 0px 1px 3px 1px rgba(0, 0, 0, 0.15);\n",
              "      filter: drop-shadow(0px 1px 2px rgba(0, 0, 0, 0.3));\n",
              "      fill: #FFFFFF;\n",
              "    }\n",
              "  </style>\n",
              "\n",
              "      <script>\n",
              "        const buttonEl =\n",
              "          document.querySelector('#df-9637b9e9-6e2e-43e3-a9d6-0b0ca555f1f0 button.colab-df-convert');\n",
              "        buttonEl.style.display =\n",
              "          google.colab.kernel.accessAllowed ? 'block' : 'none';\n",
              "\n",
              "        async function convertToInteractive(key) {\n",
              "          const element = document.querySelector('#df-9637b9e9-6e2e-43e3-a9d6-0b0ca555f1f0');\n",
              "          const dataTable =\n",
              "            await google.colab.kernel.invokeFunction('convertToInteractive',\n",
              "                                                     [key], {});\n",
              "          if (!dataTable) return;\n",
              "\n",
              "          const docLinkHtml = 'Like what you see? Visit the ' +\n",
              "            '<a target=\"_blank\" href=https://colab.research.google.com/notebooks/data_table.ipynb>data table notebook</a>'\n",
              "            + ' to learn more about interactive tables.';\n",
              "          element.innerHTML = '';\n",
              "          dataTable['output_type'] = 'display_data';\n",
              "          await google.colab.output.renderOutput(dataTable, element);\n",
              "          const docLink = document.createElement('div');\n",
              "          docLink.innerHTML = docLinkHtml;\n",
              "          element.appendChild(docLink);\n",
              "        }\n",
              "      </script>\n",
              "    </div>\n",
              "  </div>\n",
              "  "
            ]
          },
          "metadata": {},
          "execution_count": 6
        }
      ],
      "source": [
        "movies.head()"
      ]
    },
    {
      "cell_type": "markdown",
      "id": "2BA5luOH9lR9",
      "metadata": {
        "id": "2BA5luOH9lR9"
      },
      "source": [
        "## **Calculating Pairwise and Item Frequency**\n",
        "\n",
        "Let's calculate item_frequency for each movie and pair_frequency for every possible pair of movies. We need these frequencies to build our Graph. The purpose of these frequencies is written below."
      ]
    },
    {
      "cell_type": "code",
      "execution_count": 7,
      "id": "MUfIqnXBnxxf",
      "metadata": {
        "colab": {
          "base_uri": "https://localhost:8080/"
        },
        "id": "MUfIqnXBnxxf",
        "outputId": "9a2eccb1-cb91-4ec3-a7f8-435ee7411ec5"
      },
      "outputs": [
        {
          "output_type": "stream",
          "name": "stderr",
          "text": [
            "Compute movie rating frequencies: 100%|██████████| 573/573 [00:00<00:00, 1141.78it/s]\n"
          ]
        }
      ],
      "source": [
        "min_rating = 5\n",
        "\n",
        "item_frequency = defaultdict(int)  # Dictionary to indicate how many times each movie has been watched\n",
        "\n",
        "pair_frequency = defaultdict(int)  # Dictionary to indicate how many times a particular pair of movies have been watched\n",
        "\n",
        "# Filter instances where the rating is greater than or equal to min_rating\n",
        "\n",
        "rated_movies = ratings[ratings.rating >= min_rating]\n",
        "\n",
        "# Group instances by the user. Here, each group contains movies watched by a particular user\n",
        "\n",
        "movies_grouped_by_users = list(rated_movies.groupby(\"userId\"))\n",
        "\n",
        "for group in tqdm(\n",
        "\n",
        "    movies_grouped_by_users,\n",
        "\n",
        "    position = 0,\n",
        "\n",
        "    leave = True,\n",
        "\n",
        "    desc = \"Compute movie rating frequencies\",\n",
        "\n",
        "):  # Iterating over all the groups\n",
        "\n",
        "    # Get a list of movies rated by the user\n",
        "\n",
        "    current_movies = list(group[1][\"movieId\"])\n",
        "\n",
        "    for i in range(len(current_movies)):\n",
        "\n",
        "        item_frequency[current_movies[i]] += 1  # Increasing count of item frequency for a particular movie on encountering it in a group\n",
        "\n",
        "        for j in range(i + 1, len(current_movies)):\n",
        "\n",
        "            x = min(current_movies[i], current_movies[j])\n",
        "\n",
        "            y = max(current_movies[i], current_movies[j])\n",
        "\n",
        "            pair_frequency[(x, y)] += 1  # Increasing count of pair frequency for a particular pair of movies on coming across it"
      ]
    },
    {
      "cell_type": "markdown",
      "id": "e_avGuIK-Hsj",
      "metadata": {
        "id": "e_avGuIK-Hsj"
      },
      "source": [
        "In the cell above, we are creating two dictionaries:\n",
        "- The first dictionary, i.e., 'item_frequency' is the item frequency where we calculate the number of times each movie has been watched, assuming every user has watched any particular movie exactly once.\n",
        "- The second dictionary, i.e., 'pair_frequency' is the pair-wise frequency, where we see how many users have watched both of these movies.\n",
        "- A greater value indicates higher probability of one of these movies being suggested when any new user has watched the other movie in the pair, i.e, if the pair-wise frequency of movie A and movie B is high, and a new user happens to watch movie A, they are likely to be suggested movie B."
      ]
    },
    {
      "cell_type": "markdown",
      "id": "HC9_7xvmNl2O",
      "metadata": {
        "id": "HC9_7xvmNl2O"
      },
      "source": [
        "## **Creating the Graph**\n",
        "\n",
        "We are trying to model what movies are frequently watched together based on all of the user data. To think of this more intuitively, the higher the weight of an edge between two movies A and B, the higher is the probability of movie B being suggested after you have watched movie A and vice versa."
      ]
    },
    {
      "cell_type": "code",
      "execution_count": 8,
      "id": "vPbIdGRTnxxg",
      "metadata": {
        "colab": {
          "base_uri": "https://localhost:8080/"
        },
        "id": "vPbIdGRTnxxg",
        "outputId": "07a02982-692f-4989-9d17-4f4a85d13e43"
      },
      "outputs": [
        {
          "output_type": "stream",
          "name": "stderr",
          "text": [
            "Creating the movie graph: 100%|██████████| 298586/298586 [00:00<00:00, 571237.47it/s]\n"
          ]
        }
      ],
      "source": [
        "min_weight = 10\n",
        "\n",
        "D = math.log(sum(item_frequency.values()))\n",
        "\n",
        "# Create the undirected graph with the movies as nodes\n",
        "\n",
        "movies_graph = nx.Graph()\n",
        "\n",
        "# Add weighted edges between movies\n",
        "\n",
        "# This automatically adds the movie nodes to the graph\n",
        "\n",
        "for pair in tqdm(\n",
        "\n",
        "    pair_frequency, position = 0, leave = True, desc = \"Creating the movie graph\"\n",
        "\n",
        "):  # Iterating over every pair of movies\n",
        "    x, y = pair  # Unpacking the tuple called 'pair' to receive the two movies\n",
        "\n",
        "\n",
        "    xy_frequency = pair_frequency[pair]  # Pair-wise frequency of two particular movies\n",
        "\n",
        "    x_frequency = item_frequency[x]  # Item frequency for the first movie in the pair\n",
        "\n",
        "    y_frequency = item_frequency[y]  # Item frequency for the second movie in the pair\n",
        "\n",
        "    # Calculating PMI index as a measure of the pairing strength\n",
        "\n",
        "    pmi = math.log(xy_frequency) - math.log(x_frequency) - math.log(y_frequency) + D\n",
        "\n",
        "    weight = pmi * xy_frequency\n",
        "\n",
        "    # Only include edges with weight >= min_weight\n",
        "\n",
        "    if weight >= min_weight:\n",
        "\n",
        "        movies_graph.add_edge(x, y, weight = weight)  # Adding the edge to those particular nodes"
      ]
    },
    {
      "cell_type": "markdown",
      "id": "pvNZ2cC9PEqj",
      "metadata": {
        "id": "pvNZ2cC9PEqj"
      },
      "source": [
        "To calculate the pairing strength between two movies, we are using the PMI index. We could use some other measures and that is completely the programmer's choice.\n",
        "\n",
        "So in our graph, our nodes are our movies and our edges are drawn based on the product of the PMI index and pair frequency for the two movies we are calculating the edge weight for. If this value exceeds our minimum weight (which is a hyperparameter defined by us, in this case, equal to 10) we draw an edge with the calculated weight."
      ]
    },
    {
      "cell_type": "code",
      "execution_count": 9,
      "id": "-RVP-s_Snxxh",
      "metadata": {
        "colab": {
          "base_uri": "https://localhost:8080/"
        },
        "id": "-RVP-s_Snxxh",
        "outputId": "9d5d5132-d964-4841-be7a-3f88ebf9fb13"
      },
      "outputs": [
        {
          "output_type": "stream",
          "name": "stdout",
          "text": [
            "Total number of graph nodes: 1405\n",
            "Total number of graph edges: 40043\n"
          ]
        }
      ],
      "source": [
        "print(\"Total number of graph nodes:\", movies_graph.number_of_nodes())\n",
        "\n",
        "print(\"Total number of graph edges:\", movies_graph.number_of_edges())"
      ]
    },
    {
      "cell_type": "markdown",
      "id": "yrKGem28RoFU",
      "metadata": {
        "id": "yrKGem28RoFU"
      },
      "source": [
        "## **Calculating Average Degree**\n",
        "\n",
        "The average degree often gives us an idea about the inter-connectivity of the nodes. Let's see how we can interpret the result."
      ]
    },
    {
      "cell_type": "code",
      "execution_count": 10,
      "id": "ma6Bl0Iknxxi",
      "metadata": {
        "colab": {
          "base_uri": "https://localhost:8080/"
        },
        "id": "ma6Bl0Iknxxi",
        "outputId": "a5766084-e6d6-43d0-bc44-6aaab2f0189e"
      },
      "outputs": [
        {
          "output_type": "stream",
          "name": "stdout",
          "text": [
            "Average node degree: 57.0\n"
          ]
        }
      ],
      "source": [
        "degrees = []\n",
        "\n",
        "for node in movies_graph.nodes:\n",
        "\n",
        "    degrees.append(movies_graph.degree[node])\n",
        "\n",
        "print(\"Average node degree:\", round(sum(degrees) / len(degrees), 2))"
      ]
    },
    {
      "cell_type": "markdown",
      "id": "PCQdLE03R3SJ",
      "metadata": {
        "id": "PCQdLE03R3SJ"
      },
      "source": [
        "This average degree comes out to be 57 when we are taking the minimum weight to be 10. This gives us an idea that on average every node is connected to 57 other nodes. To look at it intuitively, this gives us the assurance that every movie would have suggestions for what to watch next."
      ]
    },
    {
      "cell_type": "markdown",
      "id": "02S6YWctST4l",
      "metadata": {
        "id": "02S6YWctST4l"
      },
      "source": [
        "## **Creating Vocabulary lookup for Embedding**"
      ]
    },
    {
      "cell_type": "code",
      "execution_count": 11,
      "id": "WZGhWh7ynxxi",
      "metadata": {
        "id": "WZGhWh7ynxxi"
      },
      "outputs": [],
      "source": [
        "vocabulary = [\"NA\"] + list(movies_graph.nodes)\n",
        "\n",
        "vocabulary_lookup = {token: idx for idx, token in enumerate(vocabulary)}"
      ]
    },
    {
      "cell_type": "markdown",
      "id": "8Gbbu5cfTF08",
      "metadata": {
        "id": "8Gbbu5cfTF08"
      },
      "source": [
        "## **Traversing through our Graph: To pick the next node among all neighbors**\n",
        "\n",
        "The function 'next_step()' does the simple operation of traveling to the next node given you’re currently on a node, i.e., when you have watched a movie, what are the next movies you could consider."
      ]
    },
    {
      "cell_type": "code",
      "execution_count": 12,
      "id": "w4yi8qxYnxxj",
      "metadata": {
        "id": "w4yi8qxYnxxj"
      },
      "outputs": [],
      "source": [
        "def next_step(graph, previous, current, p, q):\n",
        "\n",
        "    neighbors = list(graph.neighbors(current))\n",
        "\n",
        "    weights = []\n",
        "\n",
        "    # Adjust the weights of the edges to the neighbors with the help of p and q so that we can control or give a preference to which category of nodes we would want to visit next\n",
        "\n",
        "    for neighbor in neighbors: # Looping through all the neighbors\n",
        "\n",
        "        if neighbor == previous:\n",
        "\n",
        "            # Control the probability to return to the previous node\n",
        "\n",
        "            weights.append(graph[current][neighbor][\"weight\"] / p)\n",
        "\n",
        "        elif graph.has_edge(neighbor, previous):\n",
        "\n",
        "            # The probability of visiting a local node\n",
        "\n",
        "            weights.append(graph[current][neighbor][\"weight\"])\n",
        "\n",
        "        else:\n",
        "\n",
        "            # Control the probability to move forward\n",
        "\n",
        "            weights.append(graph[current][neighbor][\"weight\"] / q)\n",
        "\n",
        "    # Compute the probabilities of visiting each neighbor\n",
        "\n",
        "    weight_sum = sum(weights)\n",
        "\n",
        "    probabilities = [weight / weight_sum for weight in weights]\n",
        "\n",
        "    # Probabilistically select a neighbor to visit\n",
        "\n",
        "    next = np.random.choice(neighbors, size = 1, p = probabilities)[0]\n",
        "\n",
        "    return next"
      ]
    },
    {
      "cell_type": "markdown",
      "id": "l8Q_A0TcToCU",
      "metadata": {
        "id": "l8Q_A0TcToCU"
      },
      "source": [
        "Since each node in the graph is likely to have more than one neighbor (judging from the average degree, which was 57), we have to take a probabilistic approach. In other words, since we have more than one option for the next step, we assign probabilities to each edge arising from our current node/movie, and then we make our random choice based on those probabilities.\n",
        "\n",
        "Now here we have two hyperparameters, p and q, through which we can modify the probabilities a little. The value of q should lie between 1 and p. This is because the probability of visiting a node that has an edge with the current node as well as an edge with a previous node should be the greatest. The probability of a node that has an edge with the current node but not with the previous node should be lesser than the previous case. The probability of re-visiting this node should be the least. Therefore 1>q>p should be kept in mind while playing with these hyperparameters."
      ]
    },
    {
      "cell_type": "markdown",
      "id": "LlPZ8EKHVcOD",
      "metadata": {
        "id": "LlPZ8EKHVcOD"
      },
      "source": [
        "## **Creating Walks across our Graph**\n",
        "\n",
        "We want to generate sequences of movies that are connected with each other through edges inside the graph. These sequences can be later used to generate training data for training our Neural Network."
      ]
    },
    {
      "cell_type": "code",
      "execution_count": 13,
      "id": "B2P6wPfPnxxj",
      "metadata": {
        "id": "B2P6wPfPnxxj"
      },
      "outputs": [],
      "source": [
        "def random_walk(graph, num_walks, num_steps, p, q):\n",
        "\n",
        "    walks = []\n",
        "\n",
        "    nodes = list(graph.nodes())\n",
        "\n",
        "    # Perform multiple iterations of the random walk\n",
        "\n",
        "    for walk_iteration in range(num_walks):\n",
        "\n",
        "        random.shuffle(nodes)\n",
        "\n",
        "        for node in tqdm(\n",
        "\n",
        "            nodes,\n",
        "\n",
        "            position = 0,\n",
        "\n",
        "            leave = True,\n",
        "\n",
        "            desc = f\"Random walks iteration {walk_iteration + 1} of {num_walks}\",\n",
        "        ):\n",
        "            # Start the walk with a random node from the graph\n",
        "\n",
        "            walk = [node]\n",
        "\n",
        "            # Randomly walk for num_steps by calling the next_step function we created above\n",
        "\n",
        "            while len(walk) < num_steps:\n",
        "\n",
        "                current = walk[-1]  # Current node is the last element of the array 'walk'\n",
        "\n",
        "                previous = walk[-2] if len(walk) > 1 else None  # If the length of our array 'walk' is more than one, then the previous node is the second last element of the array 'walk'\n",
        "\n",
        "                next = next_step(graph, previous, current, p, q)  # Compute the next node to visit\n",
        "\n",
        "                walk.append(next)  # Append the next node obtained to the array 'walk'\n",
        "\n",
        "            # Replace node ids (movieId) in the walk with token ids by looking at the vocabulary lookup\n",
        "\n",
        "            walk = [vocabulary_lookup[token] for token in walk]\n",
        "\n",
        "            # Add the walk to the generated sequence\n",
        "\n",
        "            walks.append(walk)\n",
        "\n",
        "    return walks"
      ]
    },
    {
      "cell_type": "markdown",
      "id": "goIiNVIWWKV2",
      "metadata": {
        "id": "goIiNVIWWKV2"
      },
      "source": [
        "This function has been created to create random walks with each walk having the number of movies defined by the num_steps argument. After we get each walk, we append them to an array, which we will use for generating our data for training the neural network through the generate_examples( ) function."
      ]
    },
    {
      "cell_type": "markdown",
      "id": "hjFFxv7kgl_v",
      "metadata": {
        "id": "hjFFxv7kgl_v"
      },
      "source": [
        "## **Setting Hyperparameters for traversing through the Graph**"
      ]
    },
    {
      "cell_type": "code",
      "execution_count": 14,
      "id": "s6lZWTIgnxxk",
      "metadata": {
        "colab": {
          "base_uri": "https://localhost:8080/"
        },
        "id": "s6lZWTIgnxxk",
        "outputId": "02f6b49f-14c4-41df-958c-0c267ca4ae82"
      },
      "outputs": [
        {
          "output_type": "stream",
          "name": "stderr",
          "text": [
            "Random walks iteration 1 of 5: 100%|██████████| 1405/1405 [00:10<00:00, 129.77it/s]\n",
            "Random walks iteration 2 of 5: 100%|██████████| 1405/1405 [00:13<00:00, 106.93it/s]\n",
            "Random walks iteration 3 of 5: 100%|██████████| 1405/1405 [00:08<00:00, 163.44it/s]\n",
            "Random walks iteration 4 of 5: 100%|██████████| 1405/1405 [00:05<00:00, 280.47it/s]\n",
            "Random walks iteration 5 of 5: 100%|██████████| 1405/1405 [00:04<00:00, 293.42it/s]"
          ]
        },
        {
          "output_type": "stream",
          "name": "stdout",
          "text": [
            "Number of walks generated: 7025\n"
          ]
        },
        {
          "output_type": "stream",
          "name": "stderr",
          "text": [
            "\n"
          ]
        }
      ],
      "source": [
        "# Random walk return parameter\n",
        "\n",
        "p = 2\n",
        "\n",
        "# Random walk in-out parameter\n",
        "\n",
        "q = 1.5\n",
        "\n",
        "# Number of iterations of random walks\n",
        "\n",
        "num_walks = 5\n",
        "\n",
        "# Number of steps of each random walk\n",
        "\n",
        "num_steps = 10\n",
        "\n",
        "walks = random_walk(movies_graph, num_walks, num_steps, p, q)\n",
        "\n",
        "print(\"Number of walks generated:\", len(walks))"
      ]
    },
    {
      "cell_type": "markdown",
      "id": "TUKqSUSsZ9rZ",
      "metadata": {
        "id": "TUKqSUSsZ9rZ"
      },
      "source": [
        "We have set the value of p to 2, and q should lie between 1 and p. So we have chosen its value as 1.5. We can try out various combinations for these hyperparameters and check their result."
      ]
    },
    {
      "cell_type": "markdown",
      "id": "ZMqNznkRhKEO",
      "metadata": {
        "id": "ZMqNznkRhKEO"
      },
      "source": [
        "## **Generating Pairs of Movies that should have closer Embeddings**\n",
        "\n",
        "In the generate_examples( ) function, we use the skipgram function, which creates positive and negative samples. To get an intuition about positive and negative samples, please refer to the walkthrough document."
      ]
    },
    {
      "cell_type": "code",
      "execution_count": 15,
      "id": "eFj8wV86nxxk",
      "metadata": {
        "colab": {
          "base_uri": "https://localhost:8080/"
        },
        "id": "eFj8wV86nxxk",
        "outputId": "1181f8ca-4773-4e96-c488-67a6e6953c5f"
      },
      "outputs": [
        {
          "output_type": "stream",
          "name": "stderr",
          "text": [
            "Generating postive and negative examples: 100%|██████████| 7025/7025 [00:12<00:00, 547.36it/s]\n"
          ]
        }
      ],
      "source": [
        "def generate_examples(sequences, window_size, num_negative_samples, vocabulary_size):\n",
        "\n",
        "    example_weights = defaultdict(int)\n",
        "\n",
        "    # Iterate over all sequences (walks)\n",
        "\n",
        "    for sequence in tqdm(\n",
        "\n",
        "        sequences,\n",
        "\n",
        "        position = 0,\n",
        "\n",
        "        leave = True,\n",
        "\n",
        "        desc = f\"Generating postive and negative examples\",\n",
        "    ):\n",
        "\n",
        "        # Generate positive and negative skipgram pairs for a sequence or walk\n",
        "\n",
        "        pairs, labels = keras.preprocessing.sequence.skipgrams(\n",
        "\n",
        "            sequence,\n",
        "\n",
        "            vocabulary_size = vocabulary_size,\n",
        "\n",
        "            window_size = window_size,\n",
        "\n",
        "            negative_samples = num_negative_samples,\n",
        "\n",
        "        )\n",
        "        for idx in range(len(pairs)):  # Iterating through all pairs received from the skipgram function\n",
        "\n",
        "            pair = pairs[idx]  # Extracting the pair of movies\n",
        "\n",
        "            label = labels[idx]  # Extracting the labels\n",
        "\n",
        "            target, context = min(pair[0], pair[1]), max(pair[0], pair[1])\n",
        "\n",
        "            if target == context:\n",
        "\n",
        "                continue\n",
        "\n",
        "            if(label == 1):  # If a positive sample is generated we label them 1, otherwise we label them 0\n",
        "\n",
        "                previous_negative_label = 0\n",
        "\n",
        "                previous_negative_entry = (target, context, previous_negative_label)\n",
        "\n",
        "                example_weights[previous_negative_entry] = 0  # Making the previous entry of the negative sample equal to zero because we have a positive sample now\n",
        "\n",
        "                entry = (target, context, label)\n",
        "\n",
        "                example_weights[entry] += 1\n",
        "\n",
        "            if(label == 0):  # If a negative sample is generated\n",
        "\n",
        "                querylabel = 1\n",
        "\n",
        "                queryentry = (target, context, querylabel)  # We check if a positive sample with the same pair of movies exist\n",
        "\n",
        "                if ( example_weights[queryentry]>0):\n",
        "\n",
        "                    continue  # We skip adding this entry to our entry if already a positive sample exists\n",
        "\n",
        "                else:\n",
        "\n",
        "                    entry = (target, context, label)\n",
        "\n",
        "                    example_weights[entry] +=1  # If a positive sample doesn't exist, we add the negative example\n",
        "\n",
        "    targets, contexts, labels, weights = [], [], [], []\n",
        "\n",
        "    for entry in example_weights:\n",
        "\n",
        "        weight = example_weights[entry]\n",
        "\n",
        "        if(weight > 0):\n",
        "\n",
        "            target, context, label = entry  # Tuple unpacking of the 'entry' tuple\n",
        "\n",
        "            targets.append(target)\n",
        "\n",
        "            contexts.append(context)\n",
        "\n",
        "            labels.append(label)\n",
        "\n",
        "            weights.append(weight)\n",
        "\n",
        "    return np.array(targets), np.array(contexts), np.array(labels), np.array(weights)\n",
        "\n",
        "\n",
        "num_negative_samples = 4\n",
        "\n",
        "targets, contexts, labels, weights = generate_examples(\n",
        "\n",
        "    sequences = walks,\n",
        "\n",
        "    window_size = num_steps,\n",
        "\n",
        "    num_negative_samples = num_negative_samples,\n",
        "\n",
        "    vocabulary_size = len(vocabulary),\n",
        "\n",
        ")"
      ]
    },
    {
      "cell_type": "markdown",
      "id": "RdL_p-wWiHQJ",
      "metadata": {
        "id": "RdL_p-wWiHQJ"
      },
      "source": [
        "The above function generate_examples() calls skipgram function of keras.preprocessing. The skipgram function takes a corpus and generates pairs of words. If both words in the pair are a part of the corpus, we label them 1. Otherwise, we label them 0. Here our corpus is the array of random walks. So skipgram generates pairs of movies. If both of those movies have been present in a particular random walk, they are labeled as 1, otherwise 0."
      ]
    },
    {
      "cell_type": "code",
      "execution_count": 16,
      "id": "4P1KFFKUnxxk",
      "metadata": {
        "colab": {
          "base_uri": "https://localhost:8080/"
        },
        "id": "4P1KFFKUnxxk",
        "outputId": "5de99171-a938-48f9-fae0-b1e951b610be"
      },
      "outputs": [
        {
          "output_type": "stream",
          "name": "stdout",
          "text": [
            "Targets shape: (725550,)\n",
            "Contexts shape: (725550,)\n",
            "Labels shape: (725550,)\n",
            "Weights shape: (725550,)\n"
          ]
        }
      ],
      "source": [
        "print(f\"Targets shape: {targets.shape}\")\n",
        "\n",
        "print(f\"Contexts shape: {contexts.shape}\")\n",
        "\n",
        "print(f\"Labels shape: {labels.shape}\")\n",
        "\n",
        "print(f\"Weights shape: {weights.shape}\")"
      ]
    },
    {
      "cell_type": "markdown",
      "id": "Doi8os-5jRv2",
      "metadata": {
        "id": "Doi8os-5jRv2"
      },
      "source": [
        "## **Generating Data in a Classification format for our Neural Network Training**\n",
        "\n",
        "Our data needs to be in a particular format so that it fits our Neural network architecture inputs. Let's do that through these pre-processing activities."
      ]
    },
    {
      "cell_type": "code",
      "execution_count": 17,
      "id": "RL_0uL3Xnxxl",
      "metadata": {
        "id": "RL_0uL3Xnxxl"
      },
      "outputs": [],
      "source": [
        "batch_size = 1024\n",
        "\n",
        "def create_dataset(targets, contexts, labels, weights, batch_size):\n",
        "\n",
        "    inputs = {\n",
        "\n",
        "        \"target\": targets,\n",
        "\n",
        "        \"context\": contexts,\n",
        "\n",
        "    }  # Pre-processing the targets, contexts, and labels vectors to fit our Neural Network pipeline\n",
        "\n",
        "    dataset = tf.data.Dataset.from_tensor_slices((inputs, labels, weights))\n",
        "\n",
        "    dataset = dataset.shuffle(buffer_size = batch_size * 2)  # Shuffling the data set to remove any chance of sequential data\n",
        "\n",
        "    dataset = dataset.batch(batch_size, drop_remainder = True)\n",
        "\n",
        "    dataset = dataset.prefetch(tf.data.AUTOTUNE)\n",
        "\n",
        "    return dataset\n",
        "\n",
        "\n",
        "dataset = create_dataset(\n",
        "\n",
        "    targets = targets,\n",
        "\n",
        "    contexts = contexts,\n",
        "\n",
        "    labels = labels,\n",
        "\n",
        "    weights = weights,\n",
        "\n",
        "    batch_size = batch_size,\n",
        ")\n"
      ]
    },
    {
      "cell_type": "markdown",
      "id": "4aIuLCiGj1Pl",
      "metadata": {
        "id": "4aIuLCiGj1Pl"
      },
      "source": [
        "The output of the generate_example gives us target, context, and label vectors. So from these three vectors, we create our own dataset for a classification task, where target and context movies would be our independent variables. And the label would be our dependent variable. And we build a Neural Network in a way so that it takes a look at the target movie and the context movie and it can predict the label value."
      ]
    },
    {
      "cell_type": "markdown",
      "id": "rCmlKoAZlUUt",
      "metadata": {
        "id": "rCmlKoAZlUUt"
      },
      "source": [
        "## **Hyperparameters for Neural Network Training**"
      ]
    },
    {
      "cell_type": "code",
      "execution_count": 18,
      "id": "I-y6Q0eanxxl",
      "metadata": {
        "id": "I-y6Q0eanxxl"
      },
      "outputs": [],
      "source": [
        "learning_rate = 0.001\n",
        "\n",
        "embedding_dim = 50\n",
        "\n",
        "num_epochs = 10"
      ]
    },
    {
      "cell_type": "markdown",
      "id": "ne7kaaV0ljBF",
      "metadata": {
        "id": "ne7kaaV0ljBF"
      },
      "source": [
        "## **Creating our Model**\n",
        "\n",
        "Let's build a Neural Network Architecture which would take the target and context movie as input and try to predict the output label."
      ]
    },
    {
      "cell_type": "code",
      "execution_count": 19,
      "id": "EDu3hhYQnxxm",
      "metadata": {
        "id": "EDu3hhYQnxxm"
      },
      "outputs": [],
      "source": [
        "def create_model(vocabulary_size, embedding_dim):\n",
        "\n",
        "    inputs = {\n",
        "\n",
        "        \"target\": layers.Input(name = \"target\", shape = (), dtype = \"int32\"),\n",
        "\n",
        "        \"context\": layers.Input(name = \"context\", shape = (), dtype = \"int32\"),\n",
        "\n",
        "    }\n",
        "    # Initialize item embeddings\n",
        "\n",
        "    embed_item = layers.Embedding(\n",
        "\n",
        "        input_dim = vocabulary_size,\n",
        "\n",
        "        output_dim = embedding_dim,\n",
        "\n",
        "        embeddings_initializer = \"he_normal\",\n",
        "\n",
        "        embeddings_regularizer = keras.regularizers.l2(1e-6),\n",
        "\n",
        "        name=\"item_embeddings\",\n",
        "    )\n",
        "\n",
        "    # Lookup embeddings for the target\n",
        "\n",
        "    target_embeddings = embed_item(inputs[\"target\"])\n",
        "\n",
        "    # Lookup embeddings for the context\n",
        "\n",
        "    context_embeddings = embed_item(inputs[\"context\"])\n",
        "\n",
        "    # Compute dot similarity between target and context embeddings\n",
        "\n",
        "    logits = layers.Dot(axes = 1, normalize = False, name = \"dot_similarity\")(\n",
        "\n",
        "        [target_embeddings, context_embeddings]\n",
        "    )\n",
        "\n",
        "    # Create the model\n",
        "\n",
        "    model = keras.Model(inputs = inputs, outputs = logits)\n",
        "\n",
        "    return model"
      ]
    },
    {
      "cell_type": "markdown",
      "id": "KBQUhTuulnd0",
      "metadata": {
        "id": "KBQUhTuulnd0"
      },
      "source": [
        "This model is fairly simple. There is an Embedding layer that converts the target and context to target embeddings and context embeddings, respectively. Then we take the dot product of these two embeddings to get an output on the scale of 0 to 1. This way it tries to train with the training data."
      ]
    },
    {
      "cell_type": "code",
      "execution_count": 20,
      "id": "DSQhpEftnxxm",
      "metadata": {
        "id": "DSQhpEftnxxm"
      },
      "outputs": [],
      "source": [
        "model = create_model(len(vocabulary), embedding_dim)\n",
        "\n",
        "model.compile(\n",
        "    optimizer = keras.optimizers.Adam(learning_rate),\n",
        "\n",
        "    loss = keras.losses.BinaryCrossentropy(from_logits = True),\n",
        "\n",
        ")  # Setting up the model's optimizers"
      ]
    },
    {
      "cell_type": "code",
      "execution_count": 21,
      "id": "YZGjzwDLnxxm",
      "metadata": {
        "colab": {
          "base_uri": "https://localhost:8080/"
        },
        "id": "YZGjzwDLnxxm",
        "outputId": "e5e84a43-e0b2-46b7-d219-73ec97d84130"
      },
      "outputs": [
        {
          "output_type": "stream",
          "name": "stdout",
          "text": [
            "Requirement already satisfied: pydot in /usr/local/lib/python3.10/dist-packages (1.4.2)\n",
            "Requirement already satisfied: pyparsing>=2.1.4 in /usr/local/lib/python3.10/dist-packages (from pydot) (3.1.0)\n"
          ]
        }
      ],
      "source": [
        "!pip install pydot"
      ]
    },
    {
      "cell_type": "markdown",
      "id": "de5WCKuKms9l",
      "metadata": {
        "id": "de5WCKuKms9l"
      },
      "source": [
        "## **Visualizing the Model**\n",
        "\n",
        "Keras comes with an in-built visualization tool. Let's use that and visualize our architecture."
      ]
    },
    {
      "cell_type": "code",
      "execution_count": 22,
      "id": "ZH0AR3Onnxxn",
      "metadata": {
        "colab": {
          "base_uri": "https://localhost:8080/",
          "height": 404
        },
        "id": "ZH0AR3Onnxxn",
        "outputId": "31388a34-215e-4e29-f074-a52c17d39f9e"
      },
      "outputs": [
        {
          "output_type": "execute_result",
          "data": {
            "image/png": "[encoded data removed]",
            "text/plain": [
              "<IPython.core.display.Image object>"
            ]
          },
          "metadata": {},
          "execution_count": 22
        }
      ],
      "source": [
        "keras.utils.plot_model(\n",
        "\n",
        "    model, show_shapes = True, show_dtype = True, show_layer_names = True,\n",
        ")\n"
      ]
    },
    {
      "cell_type": "markdown",
      "id": "Uiiqut75m3H7",
      "metadata": {
        "id": "Uiiqut75m3H7"
      },
      "source": [
        "## **Training Phase**"
      ]
    },
    {
      "cell_type": "code",
      "execution_count": 23,
      "id": "h3h6bwxOnxxn",
      "metadata": {
        "colab": {
          "base_uri": "https://localhost:8080/"
        },
        "id": "h3h6bwxOnxxn",
        "outputId": "81c58b4d-b452-452c-9bef-58d4a5dac693"
      },
      "outputs": [
        {
          "output_type": "stream",
          "name": "stdout",
          "text": [
            "Epoch 1/10\n",
            "708/708 [==============================] - 6s 7ms/step - loss: 2.1143\n",
            "Epoch 2/10\n",
            "708/708 [==============================] - 9s 13ms/step - loss: 1.7572\n",
            "Epoch 3/10\n",
            "708/708 [==============================] - 10s 14ms/step - loss: 1.6860\n",
            "Epoch 4/10\n",
            "708/708 [==============================] - 11s 16ms/step - loss: 1.6564\n",
            "Epoch 5/10\n",
            "708/708 [==============================] - 6s 8ms/step - loss: 1.6370\n",
            "Epoch 6/10\n",
            "708/708 [==============================] - 6s 8ms/step - loss: 1.6222\n",
            "Epoch 7/10\n",
            "708/708 [==============================] - 5s 7ms/step - loss: 1.6092\n",
            "Epoch 8/10\n",
            "708/708 [==============================] - 6s 8ms/step - loss: 1.5960\n",
            "Epoch 9/10\n",
            "708/708 [==============================] - 5s 7ms/step - loss: 1.5814\n",
            "Epoch 10/10\n",
            "708/708 [==============================] - 5s 7ms/step - loss: 1.5654\n"
          ]
        }
      ],
      "source": [
        "history = model.fit(dataset, epochs = num_epochs)"
      ]
    },
    {
      "cell_type": "code",
      "execution_count": 24,
      "id": "eumd6Bv7nxxn",
      "metadata": {
        "colab": {
          "base_uri": "https://localhost:8080/",
          "height": 449
        },
        "id": "eumd6Bv7nxxn",
        "outputId": "900d21fd-a049-4a03-c343-d8a45212c416"
      },
      "outputs": [
        {
          "output_type": "display_data",
          "data": {
            "text/plain": [
              "<Figure size 640x480 with 1 Axes>"
            ],
            "image/png": "[encoded data removed]"
          },
          "metadata": {}
        }
      ],
      "source": [
        "plt.plot(history.history[\"loss\"])\n",
        "\n",
        "plt.ylabel(\"loss\")\n",
        "\n",
        "plt.xlabel(\"epoch\")\n",
        "\n",
        "plt.show()"
      ]
    },
    {
      "cell_type": "markdown",
      "id": "paec_0SOnEst",
      "metadata": {
        "id": "paec_0SOnEst"
      },
      "source": [
        "## **Extracting the Embedding Vector**"
      ]
    },
    {
      "cell_type": "code",
      "execution_count": 25,
      "id": "l1UUp_PZnxxo",
      "metadata": {
        "colab": {
          "base_uri": "https://localhost:8080/"
        },
        "id": "l1UUp_PZnxxo",
        "outputId": "f4bbf7bc-7de8-41b5-a173-cfa3efc09a2e"
      },
      "outputs": [
        {
          "output_type": "stream",
          "name": "stdout",
          "text": [
            "Embeddings shape: (1406, 50)\n"
          ]
        }
      ],
      "source": [
        "movie_embeddings = model.get_layer(\"item_embeddings\").get_weights()[0]  # Extracting the layer weight by layer name\n",
        "\n",
        "print(\"Embeddings shape:\", movie_embeddings.shape)"
      ]
    },
    {
      "cell_type": "markdown",
      "id": "L9xCSG7cnQYr",
      "metadata": {
        "id": "L9xCSG7cnQYr"
      },
      "source": [
        "We had created a self-supervised task and now we take out the embedding vectors so that we can directly check for similarity among any two movies after they are converted to their particular movie_id by the get_movie_id_by_title()."
      ]
    },
    {
      "cell_type": "code",
      "execution_count": 26,
      "id": "cRyUwj07nxxo",
      "metadata": {
        "id": "cRyUwj07nxxo"
      },
      "outputs": [],
      "source": [
        "query_movies = [\n",
        "\n",
        "    \"Matrix, The (1999)\",\n",
        "\n",
        "    \"Star Wars: Episode IV - A New Hope (1977)\",\n",
        "\n",
        "    \"Lion King, The (1994)\",\n",
        "\n",
        "    \"Terminator 2: Judgment Day (1991)\",\n",
        "\n",
        "    \"Godfather, The (1972)\",\n",
        "]"
      ]
    },
    {
      "cell_type": "markdown",
      "id": "HuxMzgzupQy0",
      "metadata": {
        "id": "HuxMzgzupQy0"
      },
      "source": [
        "## **Converting Query movies to Query Embeddings**"
      ]
    },
    {
      "cell_type": "code",
      "execution_count": 27,
      "id": "QtlGH6X7nxxo",
      "metadata": {
        "id": "QtlGH6X7nxxo"
      },
      "outputs": [],
      "source": [
        "query_embeddings = []\n",
        "\n",
        "for movie_title in query_movies:\n",
        "\n",
        "    movieId = get_movie_id_by_title(movie_title)  # Getting id from the title of the movie\n",
        "\n",
        "    token_id = vocabulary_lookup[movieId]  # Getting index to lookup for embedding task\n",
        "\n",
        "    movie_embedding = movie_embeddings[token_id]  # Getting embedding for query movies\n",
        "\n",
        "    query_embeddings.append(movie_embedding)\n",
        "\n",
        "query_embeddings = np.array(query_embeddings)"
      ]
    },
    {
      "cell_type": "markdown",
      "id": "9xDw1fIFpdAU",
      "metadata": {
        "id": "9xDw1fIFpdAU"
      },
      "source": [
        "## **Finding the top 5 similar Embeddings**"
      ]
    },
    {
      "cell_type": "code",
      "execution_count": 28,
      "id": "hmELYQSanxxo",
      "metadata": {
        "id": "hmELYQSanxxo"
      },
      "outputs": [],
      "source": [
        "similarities = tf.linalg.matmul(\n",
        "\n",
        "    tf.math.l2_normalize(query_embeddings),  # Normalizing the results of multiplication to get output of dot product on a scale of 0 to 1\n",
        "\n",
        "    tf.math.l2_normalize(movie_embeddings),\n",
        "\n",
        "    transpose_b = True,\n",
        ")\n",
        "\n",
        "_, indices = tf.math.top_k(similarities, k = 5)\n",
        "\n",
        "indices = indices.numpy().tolist()"
      ]
    },
    {
      "cell_type": "markdown",
      "id": "tW25JTskpo_l",
      "metadata": {
        "id": "tW25JTskpo_l"
      },
      "source": [
        "## **Converting those top 5 Embeddings to Movie titles**"
      ]
    },
    {
      "cell_type": "code",
      "execution_count": 29,
      "id": "9nt8qE6jnxxp",
      "metadata": {
        "colab": {
          "base_uri": "https://localhost:8080/"
        },
        "id": "9nt8qE6jnxxp",
        "outputId": "8dd0647f-7bb1-4543-aa02-d7dac8656e22"
      },
      "outputs": [
        {
          "output_type": "stream",
          "name": "stdout",
          "text": [
            "Matrix, The (1999)\n",
            "------------------\n",
            "- Matrix, The (1999)\n",
            "- Star Wars: Episode IV - A New Hope (1977)\n",
            "- Pulp Fiction (1994)\n",
            "- Terminator 2: Judgment Day (1991)\n",
            "- Fight Club (1999)\n",
            "\n",
            "Star Wars: Episode IV - A New Hope (1977)\n",
            "-----------------------------------------\n",
            "- Star Wars: Episode IV - A New Hope (1977)\n",
            "- Star Wars: Episode VI - Return of the Jedi (1983)\n",
            "- Raiders of the Lost Ark (Indiana Jones and the Raiders of the Lost Ark) (1981)\n",
            "- Terminator 2: Judgment Day (1991)\n",
            "- Star Wars: Episode V - The Empire Strikes Back (1980)\n",
            "\n",
            "Lion King, The (1994)\n",
            "---------------------\n",
            "- Lion King, The (1994)\n",
            "- Braveheart (1995)\n",
            "- Aladdin (1992)\n",
            "- Jurassic Park (1993)\n",
            "- Fugitive, The (1993)\n",
            "\n",
            "Terminator 2: Judgment Day (1991)\n",
            "---------------------------------\n",
            "- Terminator 2: Judgment Day (1991)\n",
            "- Braveheart (1995)\n",
            "- Fugitive, The (1993)\n",
            "- Star Wars: Episode VI - Return of the Jedi (1983)\n",
            "- Forrest Gump (1994)\n",
            "\n",
            "Godfather, The (1972)\n",
            "---------------------\n",
            "- Godfather, The (1972)\n",
            "- Casablanca (1942)\n",
            "- Apocalypse Now (1979)\n",
            "- Godfather: Part II, The (1974)\n",
            "- Rear Window (1954)\n",
            "\n"
          ]
        }
      ],
      "source": [
        "for idx, title in enumerate(query_movies):\n",
        "\n",
        "    print(title)\n",
        "\n",
        "    print(\"\".rjust(len(title), \"-\"))\n",
        "\n",
        "    similar_tokens = indices[idx]\n",
        "\n",
        "    for token in similar_tokens:\n",
        "\n",
        "        similar_movieId = vocabulary[token]\n",
        "\n",
        "        similar_title = get_movie_title_by_id(similar_movieId)\n",
        "\n",
        "        print(f\"- {similar_title}\")\n",
        "\n",
        "    print()"
      ]
    },
    {
      "cell_type": "markdown",
      "id": "lqO4Os5t5P5U",
      "metadata": {
        "id": "lqO4Os5t5P5U"
      },
      "source": [
        "## **Conclusion**\n",
        "\n",
        "- We have converted our user data which had ratings for movies to a self-supervised task of training an embedding vector, which is ultimately helping us in suggesting top 'k' similar movies for a particular.\n",
        "- We have used techniques of random walks and skipgram models to generate examples of pairs of similar nodes that help in node embedding.\n",
        "- We have used a graph neural network to solve a recommendation problem."
      ]
    }
  ],
  "metadata": {
    "colab": {
      "provenance": []
    },
    "kernelspec": {
      "display_name": "Python 3 (ipykernel)",
      "language": "python",
      "name": "python3"
    },
    "language_info": {
      "codemirror_mode": {
        "name": "ipython",
        "version": 3
      },
      "file_extension": ".py",
      "mimetype": "text/x-python",
      "name": "python",
      "nbconvert_exporter": "python",
      "pygments_lexer": "ipython3",
      "version": "3.9.7"
    }
  },
  "nbformat": 4,
  "nbformat_minor": 5
}