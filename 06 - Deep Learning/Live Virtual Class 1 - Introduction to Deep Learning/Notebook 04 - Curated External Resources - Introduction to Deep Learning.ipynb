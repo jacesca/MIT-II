{
 "cells": [
  {
   "cell_type": "markdown",
   "id": "70e20f35",
   "metadata": {},
   "source": [
    "# Curated External Resources - Introduction to Deep Learning"
   ]
  },
  {
   "cell_type": "markdown",
   "id": "01102737",
   "metadata": {},
   "source": [
    "-------------------"
   ]
  },
  {
   "cell_type": "markdown",
   "id": "d8bc1a37",
   "metadata": {},
   "source": [
    "Please find below some curated external links to articles, and open-source video content about concepts related to deep learning and feed-forward neural networks.\n",
    "\n",
    "1. [The essence of Derivatives](https://www.youtube.com/watch?v=WUvTyaaNkzM): This video by 3blue1brown will help you understand the basics of derivatives.\n",
    "2. [Understanding Gradient descent using Regression](https://www.youtube.com/watch?v=sDv4f4s2SB8&t=532s): This video by StartQuest will help you understand the working of gradient descent.\n",
    "3. [Building Blocks of Neural Networks](https://web.archive.org/web/20210306110050/https://missinglink.ai/guides/neural-network-concepts/complete-guide-artificial-neural-networks/): This is a detailed read on neural networks that starts from the building blocks of neural networks and goes into the various activation functions, the problem of overfitting, and discusses the hyperparameters in NN.\n",
    "4. [Activation functions](https://ml-cheatsheet.readthedocs.io/en/latest/activation_functions.html): This is a good summary reading that talks about the advantages and disadvantages of various activation functions used in neural networks.\n",
    "5. [Gradient Descent Algorithm](https://machinelearningmastery.com/gradient-descent-for-machine-learning/): This article talks bout the gradient descent algorithm for optimization in NNs and the intuition behind its variations like BGD and SGD.\n",
    "6. [Visualizing Neural Networks](https://playground.tensorflow.org/#activation=tanh&batchSize=10&dataset=circle&regDataset=reg-plane&learningRate=0.03&regularizationRate=0&noise=0&networkShape=4,2&seed=0.42226&showTestData=false&discretize=false&percTrainData=50&x=true&y=true&xTimesY=false&xSquared=false&ySquared=false&cosX=false&sinX=false&cosY=false&sinY=false&collectStats=false&problem=classification&initZero=false&hideText=false): This is a neural network playground where you can use some neural networks for regression and classification problems. You can also try changing the hyperparameters to see the changes in predictions.\n",
    "7. [Neural Networks and Deep Learning](http://neuralnetworksanddeeplearning.com/chap1.html): This is a very detailed guide on the concepts of neural networks and deep learning. It dives into the working of the neural networks through an example of recognizing handwritten digits."
   ]
  },
  {
   "cell_type": "markdown",
   "id": "e9f02293",
   "metadata": {},
   "source": [
    "-------------------"
   ]
  }
 ],
 "metadata": {
  "kernelspec": {
   "display_name": "Python 3 (ipykernel)",
   "language": "python",
   "name": "python3"
  },
  "language_info": {
   "codemirror_mode": {
    "name": "ipython",
    "version": 3
   },
   "file_extension": ".py",
   "mimetype": "text/x-python",
   "name": "python",
   "nbconvert_exporter": "python",
   "pygments_lexer": "ipython3",
   "version": "3.10.11"
  }
 },
 "nbformat": 4,
 "nbformat_minor": 5
}
