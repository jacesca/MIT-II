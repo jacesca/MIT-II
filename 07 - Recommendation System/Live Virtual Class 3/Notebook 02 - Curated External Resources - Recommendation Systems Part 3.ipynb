{
 "cells": [
  {
   "cell_type": "markdown",
   "id": "12952cce",
   "metadata": {},
   "source": [
    "# Curated External Resources - Recommendation Systems Part 3"
   ]
  },
  {
   "cell_type": "markdown",
   "id": "7e68e907",
   "metadata": {},
   "source": [
    "------------------------------"
   ]
  },
  {
   "cell_type": "markdown",
   "id": "29fdb0c5",
   "metadata": {},
   "source": [
    "Please find below some curated external links to articles, and open-source video content about the concepts related to Recommendation Systems using matrix factorization.\n",
    "\n",
    "1. [Recommendation Using Matrix Factorization](https://medium.com/@paritosh_30025/recommendation-using-matrix-factorization-5223a8ee1f4): This article covers the introduction to matrix factorization with the help of a problem statement with a detailed explanation. It also contains the introduction to regularization in recommendation system problems.\n",
    "2. [How does Netflix recommend movies using Matrix Factorization](https://www.youtube.com/watch?v=ZspR5PZemcs&t=653s): This video contains the introduction to matrix factorization (using a movie recommendation example) with a detailed explanation of components of the user-item interaction matrix along with latent features. In the end, it also covers the problem of sparsity in recommendation systems."
   ]
  },
  {
   "cell_type": "markdown",
   "id": "13540dfc",
   "metadata": {},
   "source": [
    "------------------------------"
   ]
  }
 ],
 "metadata": {
  "kernelspec": {
   "display_name": "Python 3 (ipykernel)",
   "language": "python",
   "name": "python3"
  },
  "language_info": {
   "codemirror_mode": {
    "name": "ipython",
    "version": 3
   },
   "file_extension": ".py",
   "mimetype": "text/x-python",
   "name": "python",
   "nbconvert_exporter": "python",
   "pygments_lexer": "ipython3",
   "version": "3.10.11"
  }
 },
 "nbformat": 4,
 "nbformat_minor": 5
}
