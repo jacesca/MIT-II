{
 "cells": [
  {
   "cell_type": "markdown",
   "id": "847bbc18",
   "metadata": {},
   "source": [
    "# Practice Quiz - Recommendation Systems"
   ]
  },
  {
   "cell_type": "markdown",
   "id": "7c2fb8b7",
   "metadata": {},
   "source": [
    "---------------------------"
   ]
  },
  {
   "cell_type": "markdown",
   "id": "a04e71d6",
   "metadata": {},
   "source": [
    "### 1. Which of the following is a limitation of Collaborative Filtering?\n",
    "\n",
    "- It cannot handle both explicit and implicit feedback from user\n",
    "- **It can be computationally expensive for large datasets as it needs to calculate similarities between items or users ☑** \n",
    "- It can handle the cold start problem well\n",
    "- It cannot provide personalized recommendations to the users\n",
    "\n",
    "> Collaborative Filtering can be computationally expensive for large datasets, especially for User-based Collaborative Filtering, which requires computing similarity between all pairs of users. This can make it challenging to scale to vast datasets."
   ]
  },
  {
   "cell_type": "markdown",
   "id": "3abd086f",
   "metadata": {},
   "source": [
    "### 2. Which of the following statements is true about the Clustering technique in Recommendation Systems?\n",
    "- Clustering assumes all users are similar or all items are similar\n",
    "- Clustering is used to find groups of dissimilar types of data\n",
    "- **Clustering is based on user-item interactions and assumes similar users/items are in the same cluster ☑**\n",
    "- Clustering requires calculating the average rating of items and subtracting them from every rating given by that user\n",
    "\n",
    "> Clustering is based on user-item interactions and assumes similar users/items are in the same cluster. In recommendation systems, clustering is used to group users or items based on their similarities in terms of their behavior, preferences, or characteristics. By clustering similar users or items together, recommendations can be made based on the preferences or patterns observed within each cluster."
   ]
  },
  {
   "cell_type": "markdown",
   "id": "eafdd03c",
   "metadata": {},
   "source": [
    "### 3. Suppose you are designing a Movie Recommender System based on Content-based Filtering. What hypothetical characteristics of movies could you use to make recommendations to users?\n",
    "\n",
    "A) The user's favourite genre\n",
    "B) The director of the movie\n",
    "C) The duration of the movie\n",
    "\n",
    "- Only A and B\n",
    "- Only A\n",
    "- **A, B, and C ☑**\n",
    "- Only C\n",
    "\n",
    "> Content-based Filtering utilizes additional information about items, such as movies, to make recommendations. This additional information can include various characteristics of movies such as genre, director, duration, actors, plot summary, and other features that can describe the content of the movie. Therefore, all of the above options are characteristics that can be used in Content-based Filtering for movie recommendations."
   ]
  },
  {
   "cell_type": "markdown",
   "id": "c53a09ae",
   "metadata": {},
   "source": [
    "### 4. Which of the following examples demonstrates the use of a Recommendation System?\n",
    "- A search engine showing results based on keywords\n",
    "- A calculator app performing arithmetic operations\n",
    "- **Netflix suggesting similar movies based on your viewing history ☑**\n",
    "- A weather app showing the current temperature in your area\n",
    "\n",
    "> A recommendation system is a system or an automated system that provides suggestions/recommendations to users. In the case of Netflix, it suggests similar movies based on the user's viewing history. Option a) describes a search engine showing results based on keywords, which is not an example of a recommendation system."
   ]
  },
  {
   "cell_type": "markdown",
   "id": "d8dae654",
   "metadata": {},
   "source": [
    "### 5. What is the difference between Collaborative Filtering and Content-based Filtering in Recommendation Systems?\n",
    "- Collaborative Filtering uses only item features, while Content-based Filtering uses user features\n",
    "- **Collaborative Filtering predicts a user's preference based on similar preferences of other users, while Content-based Filtering predicts a user's preference based on the characteristics of items they have previously liked ☑**\n",
    "- Collaborative Filtering has no cold start problem, while Content-based Filtering faces a cold start problem\n",
    "- There is no difference between Collaborative Filtering and Content-based Filtering\n",
    "\n",
    "> Collaborative Filtering and Content-based Filtering are two common approaches to recommendation systems. Collaborative Filtering uses data on the past behavior of users to predict their future preferences. This involves finding other users with similar preferences and recommending items they have liked but the user hasn't seen yet. Content-based filtering, on the other hand, focuses on the characteristics of items a user has liked in the past and recommends items with similar features or attributes."
   ]
  },
  {
   "cell_type": "markdown",
   "id": "d84231ae",
   "metadata": {},
   "source": [
    "### 6. What is the purpose of Singular Value Decomposition (SVD) in Recommendation Systems?\n",
    "- **To decompose the user-item matrix into latent factors ☑**\n",
    "- To identify the most or least popular items in the dataset\n",
    "- To increase the number of features/dimensions in the user-item matrix\n",
    "- To replace missing values in the user-item matrix with an irrational number\n",
    "\n",
    "> Singular Value Decomposition (SVD) is a matrix factorization technique that is commonly used in recommendation systems to decompose the user-item matrix into latent factors. These factors represent underlying characteristics or features of the items and users and allow for more accurate predictions of user preferences. SVD can help to reduce the dimensionality of the matrix and can be used to fill in missing values as well."
   ]
  },
  {
   "cell_type": "markdown",
   "id": "84b89fcb",
   "metadata": {},
   "source": [
    "### 7. Which of the following is NOT true about Singular Value Decomposition (SVD)?\n",
    "- SVD decomposes a matrix into three smaller matrices that can be used to reconstruct the original matrix\n",
    "- SVD estimates the missing values in the user-item interaction matrix\n",
    "- The shapes of the U and V matrices are mxr and rxn, respectively, where m represents the number of users (rows), n represents the number of items (columns) in the user-item interaction matrix, and r represents the number of latent features\n",
    "- **Latent features generated by SVD represent directly observable and interpretable characteristics of users or items ☑**\n",
    "\n",
    "> Truncated SVD produces matrices with a specified number of columns, not necessarily n columns, and is more effective for sparse matrices."
   ]
  },
  {
   "cell_type": "markdown",
   "id": "e8fe7b75",
   "metadata": {},
   "source": [
    "### 8. Which of the following statements is true regarding the use of neural networks in Recommendation Systems?\n",
    "- Neural Networks are not useful in Recommendation Systems because they are too complex\n",
    "- Neural Networks can only be used in Recommendation Systems for predicting ratings of products that are popular\n",
    "- **Neural Networks can be used in Recommendation Systems for both rating prediction and item recommendation ☑**\n",
    "- Neural Networks are only effective in small Recommendation Systems with few users and items\n",
    "\n",
    "> Neural Networks are a powerful tool for making recommendations in large and complex systems. They can be used to predict user ratings for products, but they can also be used to recommend specific items to users based on their preferences and behavior. Neural networks can handle large amounts of data and learn complex relationships between users, items, and their attributes, making them a popular choice for recommendation systems."
   ]
  },
  {
   "cell_type": "markdown",
   "id": "b9e6779e",
   "metadata": {},
   "source": [
    "### 9. What is the first step involved in applying Clustering technique in Recommendation Systems?\n",
    "- Obtain representation of each user in low-dimension space\n",
    "- Perform K-means clustering\n",
    "- **Compute similarity between each pair of N users ☑**\n",
    "- Observing characteristics of clusters\n",
    "\n",
    "> Step 1 in the given process involves computing similarity between each pair of N users. This is typically done using a similarity metric such as cosine similarity or Pearson correlation. The result is a similarity matrix of size N x N, where each entry (i,j) represents the similarity between user i and user j."
   ]
  },
  {
   "cell_type": "markdown",
   "id": "2dcc54a8",
   "metadata": {},
   "source": [
    "### 10. Which of the following is an advantage of using Hybrid Recommendation Systems based on Popularity and Collaborative Filtering Recommendation Systems?\n",
    "- Improved accuracy in recommending items \n",
    "- Simpler implementation compared to other recommendation systems\n",
    "- **Ability to handle cold-start problem without additional data ☑**\n",
    "- Requires less computational resources compared to other recommendation systems\n",
    "\n",
    "> Hybrid recommendation systems combine the strengths of multiple recommendation techniques, such as content-based filtering and collaborative filtering, to improve the accuracy of recommendations."
   ]
  },
  {
   "cell_type": "markdown",
   "id": "26ee4adf",
   "metadata": {},
   "source": [
    "---------------------------"
   ]
  }
 ],
 "metadata": {
  "kernelspec": {
   "display_name": "Python 3 (ipykernel)",
   "language": "python",
   "name": "python3"
  },
  "language_info": {
   "codemirror_mode": {
    "name": "ipython",
    "version": 3
   },
   "file_extension": ".py",
   "mimetype": "text/x-python",
   "name": "python",
   "nbconvert_exporter": "python",
   "pygments_lexer": "ipython3",
   "version": "3.10.9"
  }
 },
 "nbformat": 4,
 "nbformat_minor": 5
}
