{
 "cells": [
  {
   "cell_type": "markdown",
   "id": "3b3059aa",
   "metadata": {},
   "source": [
    "# Quiz - Recommendation Systems"
   ]
  },
  {
   "cell_type": "markdown",
   "id": "c0bf0202",
   "metadata": {},
   "source": [
    "---------------"
   ]
  },
  {
   "cell_type": "markdown",
   "id": "969ebd6d",
   "metadata": {},
   "source": [
    "### 1. Which of the following is true about recommendation systems?\n",
    "- They can help item providers promote their items to right user\n",
    "- They can help identify products most relevant to the user\n",
    "- They can help websites improve user engagement and increase online sales\n",
    "- **All of the above ☑**\n",
    "\n",
    "> Recommendation systems help to recommend the products and increase user engagement by considering certain factors. It can help to identify the products most relevant to the user, help websites improve user engagement, and increase online sales. It also helps item providers promote their items to the right user."
   ]
  },
  {
   "cell_type": "markdown",
   "id": "d7809014",
   "metadata": {},
   "source": [
    "### 2. Which of the following could be the challenge(s) of recommendation systems?\n",
    "\n",
    "A) They can end up creating an information bubble \n",
    "B) Feedback loops\n",
    "\n",
    "- Only A\n",
    "- Only B\n",
    "- **Both A and B ☑**\n",
    "- Neither A nor B\n",
    "\n",
    "> Information from a few users can limit the performance of the recommendation engine. It will end up creating a less flexible, and less reliable recommendation system.\n",
    ">\n",
    "> Popularity bias is well-known in recommendation algorithms; a few popular items are regularly recommended while the rest of the other items are ignored. The consumers will then consume these recommendations, and their responses will be recorded and added to the system, creating a feedback loop."
   ]
  },
  {
   "cell_type": "markdown",
   "id": "d697d685",
   "metadata": {},
   "source": [
    "### 3. State whether the following statement is True or False:\n",
    "\n",
    "Content-based recommender systems can use both user and item features for the recommendations.\n",
    "\n",
    "- **True ☑**\n",
    "- False\n",
    "\n",
    "> The idea of content-based recommender methods is to try to build a model, based on the available features, that explain the observed user-item interactions."
   ]
  },
  {
   "cell_type": "markdown",
   "id": "1d63e3d2",
   "metadata": {},
   "source": [
    "### 4. Which of the following is an example of content-based recommendation systems? \n",
    "\n",
    "A) Recommending movies to a user based on the information (tags, genre, description etc )of movies rated by that user in the past\n",
    "B) Recommending the most popular movies\n",
    "C) Randomly recommending movies from a list of movies\n",
    "\n",
    "- **Only A ☑**\n",
    "- Only B and C\n",
    "- Only A and C\n",
    "- Only B\n",
    "\n",
    "> A user-provided data is used by a content-based recommender. On the basis of this information, a user profile is created, which is subsequently used to provide recommendations to the user. Recommending movies based on previously seen movies is an example of a content-based recommendation system.\n",
    "> \n",
    "> Recommending popular movies comes under the averaging recommender system.\n",
    "> \n",
    "> Recommending movies randomly from a list of movies doesn't take the user input data, it will recommend based on the available movies (random choice)."
   ]
  },
  {
   "cell_type": "markdown",
   "id": "ab670165",
   "metadata": {},
   "source": [
    "### 5. Which of the following are fundamental intuitions behind collaborative filtering?\n",
    "\n",
    "A) Similar users will rate the items similarly\n",
    "B) Similar users will not rate the items similarly\n",
    "C) Similar items will be rated similarly\n",
    "\n",
    "- Only A and B\n",
    "- Only B and C\n",
    "- **Only A and C ☑**\n",
    "- Only A\n",
    "\n",
    "> Similar users will rate the items similarly and Similar items will be rated similarly are the fundamental intuitions behind collaborative filtering. It looks at the items they like and combines them to create a ranked list of suggestions.\n",
    ">\n",
    "> Ratings for an item depending on its popularity is an example of Averaging Recommender system."
   ]
  },
  {
   "cell_type": "markdown",
   "id": "ad999ba8",
   "metadata": {},
   "source": [
    "### 6. Recommending items using matrix estimation can be helpful in _____:\n",
    "\n",
    "A) Providing personalized recommendations\n",
    "\n",
    "B) Capturing latent features of items from the user-item interaction matrix\n",
    "\n",
    "- Only A\n",
    "- Only B\n",
    "- **Both A and B ☑**\n",
    "- Neither A nor B\n",
    "\n",
    "> Recommending items using matrix estimation can be helpful in providing personalized recommendations. Also, matrix estimation helps to capture the latent features of items from the user-item interaction matrix."
   ]
  },
  {
   "cell_type": "markdown",
   "id": "3270b5df",
   "metadata": {},
   "source": [
    "### 7. SVD can decompose a matrix A (of size m x n) into three components, namely U, V, and S, where U is an orthogonal matrix, S is a diagonal matrix, and V is an orthogonal matrix in such a way that A = U * S * VT. Read the below statements:\n",
    "\n",
    "\n",
    "A) Dimension of U is m x r\n",
    "B) S is a square matrix of dimension r x r\n",
    "C) Dimension of VT is r x r\n",
    "D) Dimension of VT is r x n\n",
    "\n",
    "Here, r is the rank of matrix A. Which of the above statements are correct?\n",
    "\n",
    "- Only A, B, and C\n",
    "- Only A and B\n",
    "- **Only A, B, and D ☑**\n",
    "- Only A and D\n",
    "\n",
    "> The dimensions of components of U, S, and V are m x r, r x r, and r x n, respectively. Here, S is a square matrix of size r x r. The dimensions of the constituent matrices are in such a way that the dimension of the product matrix is m x n, which is the same as the dimension of the original matrix. "
   ]
  },
  {
   "cell_type": "markdown",
   "id": "e373e330",
   "metadata": {},
   "source": [
    "### 8. Recommending items that are similar to the items that the user has already purchased. This is an example of:\n",
    "\n",
    "A) Item-based Collaborative Filtering\n",
    "\n",
    "B) User-based Collaborative Filtering\n",
    "\n",
    "- **Only A ☑**\n",
    "- Only B\n",
    "- Both A and B\n",
    "- Neither A nor B\n",
    "\n",
    "> Item-Item Collaborative Filtering is a technique used to predict the items that a user likes based on finding similarities between items that the user had rated with that of the target items. Example: Recommending items that are similar to the items that the user has already purchased.\n",
    ">\n",
    "> User-based collaborative filtering needs the data of other users who have similar tastes to that of the target user."
   ]
  },
  {
   "cell_type": "markdown",
   "id": "84db3b1a",
   "metadata": {},
   "source": [
    "### 9. Which of the following statements is/are true about hybrid based recommendation systems?\n",
    "\n",
    "A) It combines both content and collaborative filtering method\n",
    "B) It usually gives good results as compared to only content-based or collaborative filtering based recommendation systems\n",
    "\n",
    "- Only A\n",
    "- Only B\n",
    "- **Both A and B ☑**\n",
    "- Neither A nor B\n",
    "\n",
    "> A hybrid-based recommendation system combines both content and collaborative filtering methods. It usually gives good results as compared to only content-based or collaborative filtering based recommendation systems.\n",
    ">\n",
    "> Hybrid-based recommendation systems are personalized, recommend the users based on their content as well as similar users having the same taste. It is an effective technique."
   ]
  },
  {
   "cell_type": "markdown",
   "id": "b5622d87",
   "metadata": {},
   "source": [
    "### 10. What is the correct order of steps to perform matrix estimation using the content-based approach?\n",
    "\n",
    "1. Combine both estimates Lobs and LME\n",
    "2. Compute difference matrix Ldiff, where Ldiff = L - Lobs\n",
    "3. Learn a function (regressor or classifier) Fobs and obtain Lobs\n",
    "4. Use matrix estimation on Ldiff to obtain LME\n",
    "\n",
    "Where, L is the original user-item matrix.\n",
    "\n",
    "- 1, 2, 3, 4\n",
    "- 2, 3, 1, 4\n",
    "- **3, 2, 4, 1 ☑**\n",
    "- 4, 3, 1, 2\n",
    "\n",
    "> The correct order of steps to perform matrix estimation using a content based approach is:\n",
    "> \n",
    "> 1. Learn a function (regressor or classifier) fobs and obtain Lobs\n",
    "> 2. Compute difference matrix Ldiff, Where Ldiff = L - Lobs\n",
    "> 3. Use matrix estimation on Ldiff to obtain LME\n",
    "> 4. Combine both estimates Lobs and LME"
   ]
  },
  {
   "cell_type": "markdown",
   "id": "32874288",
   "metadata": {},
   "source": [
    "---------------"
   ]
  }
 ],
 "metadata": {
  "kernelspec": {
   "display_name": "Python 3 (ipykernel)",
   "language": "python",
   "name": "python3"
  },
  "language_info": {
   "codemirror_mode": {
    "name": "ipython",
    "version": 3
   },
   "file_extension": ".py",
   "mimetype": "text/x-python",
   "name": "python",
   "nbconvert_exporter": "python",
   "pygments_lexer": "ipython3",
   "version": "3.10.9"
  }
 },
 "nbformat": 4,
 "nbformat_minor": 5
}
