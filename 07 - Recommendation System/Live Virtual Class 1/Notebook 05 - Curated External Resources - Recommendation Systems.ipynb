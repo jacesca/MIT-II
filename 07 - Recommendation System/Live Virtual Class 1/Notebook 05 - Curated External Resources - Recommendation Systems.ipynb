{
 "cells": [
  {
   "cell_type": "markdown",
   "id": "6f716047",
   "metadata": {},
   "source": [
    "# Curated External Resources - Recommendation Systems"
   ]
  },
  {
   "cell_type": "markdown",
   "id": "374def93",
   "metadata": {},
   "source": [
    "------------------"
   ]
  },
  {
   "cell_type": "markdown",
   "id": "1a06f15f",
   "metadata": {},
   "source": [
    "Please find below some curated external links to articles, and open-source video content about the concepts related to different types of Recommendation Systems.\n",
    "\n",
    "1. [Recommendation Systems](): This is an in-depth guide that starts by explaining the working of recommendation systems and goes into the various techniques to build them such as content-based, collaborative filtering, and matrix factorization. This article further gives real-life examples of recommendation systems.\n",
    "\n",
    "2. [Content-Based Recommendation System](https://www.youtube.com/watch?v=vCMWgIQ_iBg): This video contains the basic definition of a content-based recommendation system and the working of the same. It also contains an example of movie recommendations using a content-based recommendation system.\n",
    "\n",
    "3. [Content-Based Recommender with an example](https://www.analyticsvidhya.com/blog/2015/08/beginners-guide-learn-content-based-recommender-systems/): This article explains the working of content-based recommendation systems with concepts like term frequency, inverse document frequency, and the vector space model. It also covers two case studies to make the concepts clearer."
   ]
  },
  {
   "cell_type": "markdown",
   "id": "99522348",
   "metadata": {},
   "source": [
    "-----------------------------------"
   ]
  }
 ],
 "metadata": {
  "kernelspec": {
   "display_name": "Python 3 (ipykernel)",
   "language": "python",
   "name": "python3"
  },
  "language_info": {
   "codemirror_mode": {
    "name": "ipython",
    "version": 3
   },
   "file_extension": ".py",
   "mimetype": "text/x-python",
   "name": "python",
   "nbconvert_exporter": "python",
   "pygments_lexer": "ipython3",
   "version": "3.10.11"
  }
 },
 "nbformat": 4,
 "nbformat_minor": 5
}
