{
  "nbformat": 4,
  "nbformat_minor": 0,
  "metadata": {
    "colab": {
      "provenance": []
    },
    "kernelspec": {
      "name": "python3",
      "display_name": "Python 3"
    },
    "language_info": {
      "name": "python"
    }
  },
  "cells": [
    {
      "cell_type": "markdown",
      "source": [
        "# Surprise\n",
        "\n",
        "Documentation:\n",
        "* [Overview](https://surprise.readthedocs.io/en/stable/getting_started.html)\n",
        "* [Reader](https://surprise.readthedocs.io/en/stable/reader.html)\n",
        "* [KNNBasic](https://surprise.readthedocs.io/en/stable/knn_inspired.html)\n",
        "* [GridSearchCV](https://surprise.readthedocs.io/en/stable/model_selection.html)\n",
        "* [SVD](https://surprise.readthedocs.io/en/stable/matrix_factorization.html)"
      ],
      "metadata": {
        "id": "8knq0LymVwWj"
      }
    },
    {
      "cell_type": "markdown",
      "source": [
        "----------------------------------------------"
      ],
      "metadata": {
        "id": "LHHnAhaWWP0u"
      }
    },
    {
      "cell_type": "code",
      "execution_count": null,
      "metadata": {
        "colab": {
          "base_uri": "https://localhost:8080/"
        },
        "id": "1B711Kk0Vd7F",
        "outputId": "85e5828b-e2d2-4769-815a-f07fa6fe8292"
      },
      "outputs": [
        {
          "output_type": "stream",
          "name": "stdout",
          "text": [
            "Collecting surprise\n",
            "  Downloading surprise-0.1-py2.py3-none-any.whl (1.8 kB)\n",
            "Collecting scikit-surprise (from surprise)\n",
            "  Downloading scikit-surprise-1.1.3.tar.gz (771 kB)\n",
            "\u001b[2K     \u001b[90m━━━━━━━━━━━━━━━━━━━━━━━━━━━━━━━━━━━━━━\u001b[0m \u001b[32m772.0/772.0 kB\u001b[0m \u001b[31m11.0 MB/s\u001b[0m eta \u001b[36m0:00:00\u001b[0m\n",
            "\u001b[?25h  Preparing metadata (setup.py) ... \u001b[?25l\u001b[?25hdone\n",
            "Requirement already satisfied: joblib>=1.0.0 in /usr/local/lib/python3.10/dist-packages (from scikit-surprise->surprise) (1.2.0)\n",
            "Requirement already satisfied: numpy>=1.17.3 in /usr/local/lib/python3.10/dist-packages (from scikit-surprise->surprise) (1.22.4)\n",
            "Requirement already satisfied: scipy>=1.3.2 in /usr/local/lib/python3.10/dist-packages (from scikit-surprise->surprise) (1.10.1)\n",
            "Building wheels for collected packages: scikit-surprise\n",
            "  Building wheel for scikit-surprise (setup.py) ... \u001b[?25l\u001b[?25hdone\n",
            "  Created wheel for scikit-surprise: filename=scikit_surprise-1.1.3-cp310-cp310-linux_x86_64.whl size=3096312 sha256=db91baad98ab5a0e623ff5d9ddf9ef53efaf44c443a9dc8110f315d17b36d5c3\n",
            "  Stored in directory: /root/.cache/pip/wheels/a5/ca/a8/4e28def53797fdc4363ca4af740db15a9c2f1595ebc51fb445\n",
            "Successfully built scikit-surprise\n",
            "Installing collected packages: scikit-surprise, surprise\n",
            "Successfully installed scikit-surprise-1.1.3 surprise-0.1\n"
          ]
        }
      ],
      "source": [
        "# Installing the surprise library\n",
        "!pip install surprise"
      ]
    },
    {
      "cell_type": "markdown",
      "source": [
        "## Automatic cross-validation\n",
        "Surprise has a set of built-in algorithms and datasets for you to play with. In its simplest form, it only takes a few lines of code to run a cross-validation procedure:"
      ],
      "metadata": {
        "id": "XjlmCj1XWNQA"
      }
    },
    {
      "cell_type": "code",
      "source": [
        "from surprise import Dataset, SVD\n",
        "from surprise.model_selection import cross_validate\n",
        "\n",
        "\n",
        "# Load the movielens-100k dataset (download it if needed),\n",
        "data = Dataset.load_builtin(\"ml-100k\")\n",
        "\n",
        "# We'll use the famous SVD algorithm.\n",
        "algo = SVD()\n",
        "\n",
        "# Run 5-fold cross-validation and print results\n",
        "cross_validate(algo, data, measures=[\"RMSE\", \"MAE\"], cv=5, verbose=True)"
      ],
      "metadata": {
        "colab": {
          "base_uri": "https://localhost:8080/"
        },
        "id": "W3l7cTh9V1UD",
        "outputId": "02ac8fa6-90a7-4458-f9ad-317bdf5a2054"
      },
      "execution_count": null,
      "outputs": [
        {
          "output_type": "stream",
          "name": "stdout",
          "text": [
            "Dataset ml-100k could not be found. Do you want to download it? [Y/n] Y\n",
            "Trying to download dataset from https://files.grouplens.org/datasets/movielens/ml-100k.zip...\n",
            "Done! Dataset ml-100k has been saved to /root/.surprise_data/ml-100k\n",
            "Evaluating RMSE, MAE of algorithm SVD on 5 split(s).\n",
            "\n",
            "                  Fold 1  Fold 2  Fold 3  Fold 4  Fold 5  Mean    Std     \n",
            "RMSE (testset)    0.9299  0.9382  0.9367  0.9428  0.9342  0.9364  0.0043  \n",
            "MAE (testset)     0.7306  0.7402  0.7389  0.7421  0.7374  0.7379  0.0040  \n",
            "Fit time          1.92    1.41    1.34    1.34    1.31    1.46    0.23    \n",
            "Test time         0.25    0.23    0.15    0.22    0.15    0.20    0.04    \n"
          ]
        },
        {
          "output_type": "execute_result",
          "data": {
            "text/plain": [
              "{'test_rmse': array([0.92994542, 0.9382178 , 0.93671236, 0.94281865, 0.93421103]),\n",
              " 'test_mae': array([0.73058309, 0.74020641, 0.73889782, 0.74214171, 0.7374359 ]),\n",
              " 'fit_time': (1.9205353260040283,\n",
              "  1.411344051361084,\n",
              "  1.3413453102111816,\n",
              "  1.3377370834350586,\n",
              "  1.311593770980835),\n",
              " 'test_time': (0.24835419654846191,\n",
              "  0.22771310806274414,\n",
              "  0.14618396759033203,\n",
              "  0.2190074920654297,\n",
              "  0.14524269104003906)}"
            ]
          },
          "metadata": {},
          "execution_count": 2
        }
      ]
    },
    {
      "cell_type": "markdown",
      "source": [
        "## Train-test split and the fit() method\n",
        "\n",
        "If you don’t want to run a full cross-validation procedure, you can use the train_test_split() to sample a trainset and a testset with given sizes, and use the accuracy metric of your chosing. You’ll need to use the fit() method which will train the algorithm on the trainset, and the test() method which will return the predictions made from the testset:"
      ],
      "metadata": {
        "id": "8C9bsOetY1pQ"
      }
    },
    {
      "cell_type": "code",
      "source": [
        "from surprise import accuracy, Dataset, SVD\n",
        "from surprise.model_selection import train_test_split\n",
        "\n",
        "# Load the movielens-100k dataset (download it if needed),\n",
        "data = Dataset.load_builtin(\"ml-100k\")\n",
        "\n",
        "# sample random trainset and testset\n",
        "# test set is made of 25% of the ratings.\n",
        "trainset, testset = train_test_split(data, test_size=0.25)\n",
        "\n",
        "# We'll use the famous SVD algorithm.\n",
        "algo = SVD()\n",
        "\n",
        "# Train the algorithm on the trainset, and predict ratings for the testset\n",
        "algo.fit(trainset)\n",
        "predictions = algo.test(testset)\n",
        "\n",
        "# Then compute RMSE\n",
        "accuracy.rmse(predictions)"
      ],
      "metadata": {
        "colab": {
          "base_uri": "https://localhost:8080/"
        },
        "id": "N3bQQuH_Xjsw",
        "outputId": "edff5088-621c-4490-e5f5-f0565e9c1644"
      },
      "execution_count": null,
      "outputs": [
        {
          "output_type": "stream",
          "name": "stdout",
          "text": [
            "RMSE: 0.9406\n"
          ]
        },
        {
          "output_type": "execute_result",
          "data": {
            "text/plain": [
              "0.9406495875390333"
            ]
          },
          "metadata": {},
          "execution_count": 3
        }
      ]
    },
    {
      "cell_type": "markdown",
      "source": [
        "Note that you can train and test an algorithm with the following one-line:"
      ],
      "metadata": {
        "id": "sQlmmsLgZGlk"
      }
    },
    {
      "cell_type": "code",
      "source": [
        "predictions = algo.fit(trainset).test(testset)\n",
        "predictions[:5]"
      ],
      "metadata": {
        "colab": {
          "base_uri": "https://localhost:8080/"
        },
        "id": "ueSPKMu_Y9qE",
        "outputId": "6f7fb0b2-5089-4951-dcb9-26dcd212f104"
      },
      "execution_count": null,
      "outputs": [
        {
          "output_type": "execute_result",
          "data": {
            "text/plain": [
              "[Prediction(uid='557', iid='739', r_ui=3.0, est=3.4470389200291676, details={'was_impossible': False}),\n",
              " Prediction(uid='463', iid='242', r_ui=2.0, est=3.7757362956163436, details={'was_impossible': False}),\n",
              " Prediction(uid='927', iid='374', r_ui=4.0, est=3.2157036523257547, details={'was_impossible': False}),\n",
              " Prediction(uid='847', iid='426', r_ui=2.0, est=2.3555473500956223, details={'was_impossible': False}),\n",
              " Prediction(uid='354', iid='664', r_ui=5.0, est=3.7842489915909137, details={'was_impossible': False})]"
            ]
          },
          "metadata": {},
          "execution_count": 6
        }
      ]
    },
    {
      "cell_type": "markdown",
      "source": [
        "## Train on a whole trainset and the predict() method\n",
        "\n",
        "Obviously, we could also simply fit our algorithm to the whole dataset, rather than running cross-validation. This can be done by using the build_full_trainset() method which will build a trainset object:"
      ],
      "metadata": {
        "id": "_KX1c5AfZYT2"
      }
    },
    {
      "cell_type": "code",
      "source": [
        "from surprise import Dataset, KNNBasic\n",
        "\n",
        "# Load the movielens-100k dataset\n",
        "data = Dataset.load_builtin(\"ml-100k\")\n",
        "\n",
        "# Retrieve the trainset.\n",
        "trainset = data.build_full_trainset()\n",
        "\n",
        "# Build an algorithm, and train it.\n",
        "algo = KNNBasic()\n",
        "algo.fit(trainset)"
      ],
      "metadata": {
        "colab": {
          "base_uri": "https://localhost:8080/"
        },
        "id": "NzN2M9MHZLzW",
        "outputId": "75e30e08-fef7-4b1a-ef21-7024ed1f548e"
      },
      "execution_count": null,
      "outputs": [
        {
          "output_type": "stream",
          "name": "stdout",
          "text": [
            "Computing the msd similarity matrix...\n",
            "Done computing similarity matrix.\n"
          ]
        },
        {
          "output_type": "execute_result",
          "data": {
            "text/plain": [
              "<surprise.prediction_algorithms.knns.KNNBasic at 0x7ff92d2f8a30>"
            ]
          },
          "metadata": {},
          "execution_count": 7
        }
      ]
    },
    {
      "cell_type": "markdown",
      "source": [
        "We can now predict ratings by directly calling the predict() method. Let’s say you’re interested in user 196 and item 302 (make sure they’re in the trainset!), and you know that the true rating $r_{ui} = 4$\n",
        ":"
      ],
      "metadata": {
        "id": "-momOptQZvqm"
      }
    },
    {
      "cell_type": "code",
      "source": [
        "uid = str(196)  # raw user id (as in the ratings file). They are **strings**!\n",
        "iid = str(302)  # raw item id (as in the ratings file). They are **strings**!\n",
        "\n",
        "# get a prediction for specific users and items.\n",
        "pred = algo.predict(uid, iid, r_ui=4, verbose=True)\n",
        "pred"
      ],
      "metadata": {
        "colab": {
          "base_uri": "https://localhost:8080/"
        },
        "id": "ot45wp3dZewi",
        "outputId": "6f9a7163-e7ec-40ec-a553-7d6ab3e60c81"
      },
      "execution_count": null,
      "outputs": [
        {
          "output_type": "stream",
          "name": "stdout",
          "text": [
            "user: 196        item: 302        r_ui = 4.00   est = 4.06   {'actual_k': 40, 'was_impossible': False}\n"
          ]
        },
        {
          "output_type": "execute_result",
          "data": {
            "text/plain": [
              "Prediction(uid='196', iid='302', r_ui=4, est=4.06292421377939, details={'actual_k': 40, 'was_impossible': False})"
            ]
          },
          "metadata": {},
          "execution_count": 9
        }
      ]
    },
    {
      "cell_type": "markdown",
      "source": [
        "------------------------------------------"
      ],
      "metadata": {
        "id": "5IX2Ak-7aE5c"
      }
    }
  ]
}