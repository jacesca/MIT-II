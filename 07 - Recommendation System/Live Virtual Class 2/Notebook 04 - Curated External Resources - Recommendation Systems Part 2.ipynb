{
 "cells": [
  {
   "cell_type": "markdown",
   "id": "f69447cf",
   "metadata": {},
   "source": [
    "# Curated External Resources - Recommendation Systems Part 2"
   ]
  },
  {
   "cell_type": "markdown",
   "id": "7768b716",
   "metadata": {},
   "source": [
    "-----------------------"
   ]
  },
  {
   "cell_type": "markdown",
   "id": "b68118a6",
   "metadata": {},
   "source": [
    "Please find below some curated external links to articles, and open-source video content about the concepts related to different types of Recommendation Systems.\n",
    "\n",
    "1. [Collaborative filtering](https://www.youtube.com/watch?v=h9gpufJFF-0): This video contains an introduction to a collaborative filtering-based recommendation system and different kinds of similarity measuring techniques used to measure similarity between vectors. In the end, it also covers different types of collaborative filtering that are used to make recommendations.\n",
    "2. [Matrix Factorization](https://www.youtube.com/watch?v=P5mlg91as1c): This video goes over the definition, operation, and properties of the singular value decomposition approach. It also covers the interpretation of the SVD algorithm with help of an example (movie recommendation).\n",
    "3. [Matrix Factorization](https://www.mygreatlearning.com/blog/matrix-factorization-explained/): The basics of matrix factorization are covered in this article. It also explains how content-based (with the help of the TF-IDF vectorizer) and collaborative filtering work, as well as their benefits and drawbacks."
   ]
  },
  {
   "cell_type": "markdown",
   "id": "5df585e4",
   "metadata": {},
   "source": [
    "-----------------------"
   ]
  }
 ],
 "metadata": {
  "kernelspec": {
   "display_name": "Python 3 (ipykernel)",
   "language": "python",
   "name": "python3"
  },
  "language_info": {
   "codemirror_mode": {
    "name": "ipython",
    "version": 3
   },
   "file_extension": ".py",
   "mimetype": "text/x-python",
   "name": "python",
   "nbconvert_exporter": "python",
   "pygments_lexer": "ipython3",
   "version": "3.10.11"
  }
 },
 "nbformat": 4,
 "nbformat_minor": 5
}
