{
 "cells": [
  {
   "cell_type": "markdown",
   "metadata": {
    "id": "Q91KqmCRu64D"
   },
   "source": [
    "# **Deep Learning Project: Street View Housing Number Digit Recognition**\n",
    "\n",
    "# **Marks: 60**\n",
    "\n",
    "--------------\n",
    "## **Context**\n",
    "--------------\n",
    "\n",
    "One of the most interesting tasks in deep learning is to recognize objects in natural scenes. The ability to process visual information using machine learning algorithms can be very useful as demonstrated in various applications.\n",
    "\n",
    "The SVHN dataset contains over 600,000 labeled digits cropped from street-level photos. It is one of the most popular image recognition datasets. It has been used in neural networks created by Google to improve the map quality by automatically transcribing the address numbers from a patch of pixels. The transcribed number with a known street address helps pinpoint the location of the building it represents.\n",
    "\n",
    "----------------\n",
    "## **Objective**\n",
    "----------------\n",
    "\n",
    "Our objective is to predict the number depicted inside the image by using Artificial or Fully Connected Feed Forward Neural Networks and Convolutional Neural Networks. We will go through various models of each and finally select the one that is giving us the best performance.\n",
    "\n",
    "-------------\n",
    "## **Dataset**\n",
    "-------------\n",
    "Here, we will use a subset of the original data to save some computation time. The dataset is provided as a .h5 file. The basic preprocessing steps have been applied on the dataset."
   ]
  },
  {
   "cell_type": "markdown",
   "metadata": {
    "id": "8z2Z7-OAs8QG"
   },
   "source": [
    "## **Mount the drive**\n",
    "\n",
    "Let us start by mounting the Google drive. You can run the below cell to mount the Google drive."
   ]
  },
  {
   "cell_type": "code",
   "execution_count": 1,
   "metadata": {
    "colab": {
     "base_uri": "https://localhost:8080/"
    },
    "id": "03lDyQUuef7z",
    "outputId": "679993b3-c91c-4b81-dba4-02ffb72c04a8"
   },
   "outputs": [
    {
     "name": "stdout",
     "output_type": "stream",
     "text": [
      "Mounted at /content/drive\n"
     ]
    }
   ],
   "source": [
    "from google.colab import drive\n",
    "drive.mount('/content/drive')"
   ]
  },
  {
   "cell_type": "code",
   "execution_count": 2,
   "metadata": {
    "colab": {
     "base_uri": "https://localhost:8080/"
    },
    "id": "9eECTB_x83eZ",
    "outputId": "aaef6093-c5ff-4ad1-d7da-a533fd24d5d3"
   },
   "outputs": [
    {
     "name": "stdout",
     "output_type": "stream",
     "text": [
      "SVHN_single_grey1.h5\n"
     ]
    }
   ],
   "source": [
    "!ls '/content/drive/MyDrive/Colab Notebooks/Project/data/'"
   ]
  },
  {
   "cell_type": "markdown",
   "metadata": {
    "id": "C8U3DUa3eNsT"
   },
   "source": [
    "## **Importing the necessary libraries**"
   ]
  },
  {
   "cell_type": "code",
   "execution_count": 3,
   "metadata": {
    "id": "MJtZrUgH4Ofv"
   },
   "outputs": [],
   "source": [
    "import numpy as np\n",
    "import pandas as pd\n",
    "import matplotlib.pyplot as plt\n",
    "import seaborn as sns\n",
    "import h5py\n",
    "import random\n",
    "\n",
    "from sklearn.model_selection import train_test_split\n",
    "from sklearn.preprocessing import MinMaxScaler\n",
    "from sklearn.metrics import classification_report, confusion_matrix\n",
    "\n",
    "import tensorflow as tf\n",
    "from tensorflow.keras import backend\n",
    "from tensorflow.keras.models import Sequential\n",
    "from tensorflow.keras.layers import Dense, Dropout, Activation, BatchNormalization, Conv2D, LeakyReLU, MaxPooling2D, Flatten\n",
    "from tensorflow.keras.losses import categorical_crossentropy\n",
    "from tensorflow.keras.optimizers import Adam\n",
    "from tensorflow.keras.utils import to_categorical"
   ]
  },
  {
   "cell_type": "markdown",
   "metadata": {
    "id": "ucnevGLoyKf_"
   },
   "source": [
    "**Let us check the version of tensorflow.**"
   ]
  },
  {
   "cell_type": "code",
   "execution_count": 4,
   "metadata": {
    "colab": {
     "base_uri": "https://localhost:8080/"
    },
    "id": "W5as47YxyJVk",
    "outputId": "c1fac755-dd43-4e39-d96b-48396a22da9e"
   },
   "outputs": [
    {
     "name": "stdout",
     "output_type": "stream",
     "text": [
      "2.12.0\n"
     ]
    }
   ],
   "source": [
    "print(tf.__version__)"
   ]
  },
  {
   "cell_type": "markdown",
   "metadata": {
    "id": "8lsux2ZwyTTR"
   },
   "source": [
    "## **Load the dataset**\n",
    "\n",
    "- Let us now load the dataset that is available as a .h5 file.\n",
    "- Split the data into the train and the test dataset."
   ]
  },
  {
   "cell_type": "code",
   "execution_count": 5,
   "metadata": {
    "colab": {
     "base_uri": "https://localhost:8080/"
    },
    "id": "BApX9qgNsqV0",
    "outputId": "2adcb3ed-9939-4ab0-c84a-13bd605d95cc",
    "scrolled": true
   },
   "outputs": [
    {
     "name": "stdout",
     "output_type": "stream",
     "text": [
      "<KeysViewHDF5 ['X_test', 'X_train', 'X_val', 'y_test', 'y_train', 'y_val']>\n"
     ]
    }
   ],
   "source": [
    "# Loading the data\n",
    "file = '/content/drive/MyDrive/Colab Notebooks/Project/data/SVHN_single_grey1.h5'\n",
    "with h5py.File(file, 'r') as h5f:\n",
    "  print(h5f.keys())\n",
    "\n",
    "  # Load training data\n",
    "  X_train = h5f['X_train'][:]\n",
    "  y_train = h5f['y_train'][:]\n",
    "\n",
    "  # Load testing data\n",
    "  X_test = h5f['X_test'][:]\n",
    "  y_test = h5f['y_test'][:]\n",
    "\n",
    "  # Loading validating data\n",
    "  X_val = h5f['X_val'][:]\n",
    "  y_val = h5f['y_val'][:]"
   ]
  },
  {
   "cell_type": "code",
   "execution_count": 6,
   "metadata": {
    "colab": {
     "base_uri": "https://localhost:8080/"
    },
    "id": "y3lwKpOefkpA",
    "outputId": "9b857a06-f722-4e6c-e69a-b1c2532da7cb"
   },
   "outputs": [
    {
     "name": "stdout",
     "output_type": "stream",
     "text": [
      "\n",
      "Train set: (42000, 32, 32), (42000,)\n",
      "Test  set: (18000, 32, 32), (18000,)\n",
      "Val   set: (60000, 32, 32), (60000,)\n",
      "\n"
     ]
    }
   ],
   "source": [
    "print(f\"\"\"\n",
    "Train set: {X_train.shape}, {y_train.shape}\n",
    "Test  set: {X_test.shape}, {y_test.shape}\n",
    "Val   set: {X_val.shape}, {y_val.shape}\n",
    "\"\"\")"
   ]
  },
  {
   "cell_type": "markdown",
   "metadata": {
    "id": "hVe0CYpUgj7w"
   },
   "source": [
    "Check the number of images in the training and the testing dataset."
   ]
  },
  {
   "cell_type": "code",
   "execution_count": 7,
   "metadata": {
    "colab": {
     "base_uri": "https://localhost:8080/"
    },
    "id": "JBRJTd9KuloA",
    "outputId": "0b14eaac-358e-4087-f861-4c032e133b3f"
   },
   "outputs": [
    {
     "name": "stdout",
     "output_type": "stream",
     "text": [
      "\n",
      "Train set: 42000 images.\n",
      "Test  set: 18000 images.\n",
      "Val   set: 60000 images.\n",
      "\n"
     ]
    }
   ],
   "source": [
    "print(f\"\"\"\n",
    "Train set: {X_train.shape[0]} images.\n",
    "Test  set: {X_test.shape[0]} images.\n",
    "Val   set: {X_val.shape[0]} images.\n",
    "\"\"\")"
   ]
  },
  {
   "cell_type": "markdown",
   "metadata": {
    "id": "akTUOfLlgwoM"
   },
   "source": [
    "**Observation:**\n",
    "\n",
    "- There are $42,000$ images in the train set, and $18,000$ images in the test set.\n",
    "- There are also $60,000$ images in the validation set"
   ]
  },
  {
   "cell_type": "markdown",
   "metadata": {
    "id": "kxODV6HKykuc"
   },
   "source": [
    "## **Visualizing images**\n",
    "\n",
    "- Use X_train to visualize the first 10 images.\n",
    "- Use Y_train to print the first 10 labels."
   ]
  },
  {
   "cell_type": "code",
   "execution_count": 8,
   "metadata": {
    "colab": {
     "base_uri": "https://localhost:8080/",
     "height": 316
    },
    "id": "Bvsc8ytHsqWD",
    "outputId": "11f01d86-ad35-46d0-c6e2-e9d8a170bdef"
   },
   "outputs": [
    {
     "data": {
      "image/png": "[encoded data removed]",
      "text/plain": [
       "<Figure size 800x300 with 10 Axes>"
      ]
     },
     "metadata": {},
     "output_type": "display_data"
    }
   ],
   "source": [
    "# Show the first 10 images\n",
    "fig = plt.figure(figsize = (8, 3))\n",
    "\n",
    "for i in range(10):\n",
    "    plt.subplot(2, 5, i+1)\n",
    "    plt.imshow(X_train[i], cmap = \"gray\")\n",
    "    plt.title(y_train[i])\n",
    "    plt.axis('off')\n",
    "\n",
    "fig.suptitle('First 10 images')\n",
    "plt.tight_layout()\n",
    "plt.show()"
   ]
  },
  {
   "cell_type": "code",
   "execution_count": 9,
   "metadata": {
    "colab": {
     "base_uri": "https://localhost:8080/"
    },
    "id": "adKE1YZ1TpkZ",
    "outputId": "a6665801-11e8-4744-d8a2-03c96a8c4451"
   },
   "outputs": [
    {
     "data": {
      "text/plain": [
       "3    4281\n",
       "5    4232\n",
       "2    4197\n",
       "9    4196\n",
       "7    4192\n",
       "4    4188\n",
       "8    4188\n",
       "0    4186\n",
       "1    4172\n",
       "6    4168\n",
       "dtype: int64"
      ]
     },
     "execution_count": 9,
     "metadata": {},
     "output_type": "execute_result"
    }
   ],
   "source": [
    "pd.Series(y_train).value_counts()"
   ]
  },
  {
   "cell_type": "code",
   "execution_count": 10,
   "metadata": {
    "colab": {
     "base_uri": "https://localhost:8080/",
     "height": 430
    },
    "id": "Q7wa-3WQUPmM",
    "outputId": "f4cfac17-5a89-4a34-d305-4507c1afd9a9"
   },
   "outputs": [
    {
     "data": {
      "image/png": "[encoded data removed]",
      "text/plain": [
       "<Figure size 640x480 with 1 Axes>"
      ]
     },
     "metadata": {},
     "output_type": "display_data"
    }
   ],
   "source": [
    "_ = sns.countplot(x=pd.Series(y_train))"
   ]
  },
  {
   "cell_type": "markdown",
   "metadata": {
    "id": "bJuaCiFVU8ju"
   },
   "source": [
    "**Observation:**\n",
    "\n",
    "- The target variable looks to be balance (uniformly) distributed."
   ]
  },
  {
   "cell_type": "markdown",
   "metadata": {
    "id": "kzoyeXHOy80N"
   },
   "source": [
    "## **Data preparation**\n",
    "\n",
    "- Print the shape and the array of pixels for the first image in the training dataset.\n",
    "- Normalize the train and the test dataset by dividing by 255.\n",
    "- Print the new shapes of the train and the test dataset.\n",
    "- One-hot encode the target variable."
   ]
  },
  {
   "cell_type": "code",
   "execution_count": 11,
   "metadata": {
    "colab": {
     "base_uri": "https://localhost:8080/"
    },
    "id": "NqndzQXng9rL",
    "outputId": "53b391dd-b393-4a0b-9ba4-9b44d66a0863"
   },
   "outputs": [
    {
     "name": "stdout",
     "output_type": "stream",
     "text": [
      "\n",
      "First image\n",
      "Shape: (32, 32)\n",
      "\n",
      "Pixels:\n",
      "[[ 33.0704  30.2601  26.852  ...  71.4471  58.2204  42.9939]\n",
      " [ 25.2283  25.5533  29.9765 ... 113.0209 103.3639  84.2949]\n",
      " [ 26.2775  22.6137  40.4763 ... 113.3028 121.775  115.4228]\n",
      " ...\n",
      " [ 28.5502  36.212   45.0801 ...  24.1359  25.0927  26.0603]\n",
      " [ 38.4352  26.4733  23.2717 ...  28.1094  29.4683  30.0661]\n",
      " [ 50.2984  26.0773  24.0389 ...  49.6682  50.853   53.0377]]\n",
      "\n"
     ]
    }
   ],
   "source": [
    "# First image\n",
    "print(f\"\"\"\n",
    "First image\n",
    "Shape: {X_train[0].shape}\n",
    "\n",
    "Pixels:\n",
    "{X_train[0]}\n",
    "\"\"\")"
   ]
  },
  {
   "cell_type": "markdown",
   "metadata": {
    "id": "f4CQkKtQ0XII"
   },
   "source": [
    "### **Normalize the train and the test data**"
   ]
  },
  {
   "cell_type": "code",
   "execution_count": 12,
   "metadata": {
    "id": "q_yUUTp_mUzB"
   },
   "outputs": [],
   "source": [
    "X_train_norm = X_train/255\n",
    "X_test_norm = X_test/255\n",
    "X_val_norm = X_val/255"
   ]
  },
  {
   "cell_type": "markdown",
   "metadata": {
    "id": "YSlYN6pb8kMY"
   },
   "source": [
    "Print the shapes of Training and Test data"
   ]
  },
  {
   "cell_type": "code",
   "execution_count": 13,
   "metadata": {
    "colab": {
     "base_uri": "https://localhost:8080/"
    },
    "id": "t7FSqOpamWkH",
    "outputId": "e0558b8e-de61-4c47-9db5-b267e8cc4e20"
   },
   "outputs": [
    {
     "name": "stdout",
     "output_type": "stream",
     "text": [
      "\n",
      "Train set: (42000, 1024), (42000,)\n",
      "Test  set: (18000, 1024), (18000,)\n",
      "Val   set: (60000, 1024), (60000,)\n",
      "\n"
     ]
    }
   ],
   "source": [
    "# Reshaping the images into 2D array\n",
    "X_train_2D = X_train_norm.reshape(X_train_norm.shape[0], -1)\n",
    "X_test_2D  = X_test_norm.reshape(X_test_norm.shape[0], -1)\n",
    "X_val_2D   = X_val_norm.reshape(X_val_norm.shape[0], -1)\n",
    "\n",
    "print(f\"\"\"\n",
    "Train set: {X_train_2D.shape}, {y_train.shape}\n",
    "Test  set: {X_test_2D.shape}, {y_test.shape}\n",
    "Val   set: {X_val_2D.shape}, {y_val.shape}\n",
    "\"\"\")"
   ]
  },
  {
   "cell_type": "code",
   "execution_count": 14,
   "metadata": {
    "colab": {
     "base_uri": "https://localhost:8080/"
    },
    "id": "zTQOPhBRIQ27",
    "outputId": "fe72e3b3-3d29-4c06-eb4c-be656f9e13a9"
   },
   "outputs": [
    {
     "data": {
      "text/plain": [
       "((42000,), 42000)"
      ]
     },
     "execution_count": 14,
     "metadata": {},
     "output_type": "execute_result"
    }
   ],
   "source": [
    "X_train_norm.shape[:-2], X_train_norm.shape[0]"
   ]
  },
  {
   "cell_type": "markdown",
   "metadata": {
    "id": "0uLxXBpz81vk"
   },
   "source": [
    "### **One-hot encode output**"
   ]
  },
  {
   "cell_type": "code",
   "execution_count": 15,
   "metadata": {
    "colab": {
     "base_uri": "https://localhost:8080/"
    },
    "id": "zL0lYER4sqWw",
    "outputId": "5a08ac69-37a9-490b-f1f9-a37bfd44f562"
   },
   "outputs": [
    {
     "name": "stdout",
     "output_type": "stream",
     "text": [
      "\n",
      "y_train before encoding: [2 6 7 ... 7 0 4]\n",
      "Unique values: [0 1 2 3 4 5 6 7 8 9]\n",
      "Shape: (42000,)\n",
      "\n",
      "y_train after encoding:\n",
      "[[0. 0. 1. ... 0. 0. 0.]\n",
      " [0. 0. 0. ... 0. 0. 0.]\n",
      " [0. 0. 0. ... 1. 0. 0.]\n",
      " ...\n",
      " [0. 0. 0. ... 1. 0. 0.]\n",
      " [1. 0. 0. ... 0. 0. 0.]\n",
      " [0. 0. 0. ... 0. 0. 0.]]\n",
      "Shape: (42000, 10)\n",
      "\n"
     ]
    }
   ],
   "source": [
    "# One-hot encode\n",
    "y_train_encode = to_categorical(y_train)\n",
    "y_test_encode = to_categorical(y_test)\n",
    "y_val_encode = to_categorical(y_val)\n",
    "\n",
    "print(f\"\"\"\n",
    "y_train before encoding: {y_train}\n",
    "Unique values: {np.unique(y_train)}\n",
    "Shape: {y_train.shape}\n",
    "\n",
    "y_train after encoding:\n",
    "{y_train_encode}\n",
    "Shape: {y_train_encode.shape}\n",
    "\"\"\")"
   ]
  },
  {
   "cell_type": "markdown",
   "metadata": {
    "id": "ViqPOTquCF76"
   },
   "source": [
    "**Observation:**\n",
    "\n",
    "- We have 10 unique values in the target variable, so after encoding y_train, we have 1 column for each possible value in y_train."
   ]
  },
  {
   "cell_type": "markdown",
   "metadata": {
    "id": "CMjhtGdvArk-"
   },
   "source": [
    "## **Crating global functions to plot the accuracy and lose function.**"
   ]
  },
  {
   "cell_type": "code",
   "execution_count": 16,
   "metadata": {
    "id": "tdFIwrXZA0-9"
   },
   "outputs": [],
   "source": [
    "def plot_model_result(result, model_name):\n",
    "    \"\"\"\n",
    "    Plot the accuracy and loss values of the model.\n",
    "    \"\"\"\n",
    "    fig = plt.figure(figsize = (10, 3))\n",
    "\n",
    "    # Plotting the Accuracy\n",
    "    plt.subplot(1, 2, 1)\n",
    "    plt.plot(result.history['accuracy'])\n",
    "    plt.plot(result.history['val_accuracy'])\n",
    "    plt.ylabel('Accuracy')\n",
    "    plt.xlabel('Epoch')\n",
    "    plt.legend(['train', 'validation'], loc='upper left')\n",
    "\n",
    "    # Plotting the Loss\n",
    "    plt.subplot(1, 2, 2)\n",
    "    plt.plot(result.history['loss'])\n",
    "    plt.plot(result.history['val_loss'])\n",
    "    plt.ylabel('Loss')\n",
    "    plt.xlabel('Epoch')\n",
    "    plt.legend(['train', 'validation'], loc='upper left')\n",
    "\n",
    "    fig.suptitle(model_name)\n",
    "    plt.show()"
   ]
  },
  {
   "cell_type": "code",
   "execution_count": 17,
   "metadata": {
    "id": "lgbotm-CBffZ"
   },
   "outputs": [],
   "source": [
    "def plot_confussion_matrix(cm, model_name):\n",
    "    \"\"\"\n",
    "    Plot the confussion matrix.\n",
    "    \"\"\"\n",
    "    plt.figure(figsize = (5, 5))\n",
    "    sns.heatmap(cm, annot=True, cmap=\"cool\", fmt='g', cbar=False)\n",
    "    plt.xlabel(\"Actual Values\")\n",
    "    plt.ylabel(\"Predicted Values\")\n",
    "    plt.title(f\"Confusion Matrix - {model_name}\")\n",
    "    plt.show()"
   ]
  },
  {
   "cell_type": "markdown",
   "metadata": {
    "id": "yH-gVrzuByNA"
   },
   "source": [
    "## **Model Building**\n",
    "\n",
    "Now that we have done the data preprocessing, let's build an ANN model.\n",
    "\n",
    "### Fix the seed for random number generators"
   ]
  },
  {
   "cell_type": "code",
   "execution_count": 18,
   "metadata": {
    "id": "BcKRwrGn0XIL"
   },
   "outputs": [],
   "source": [
    "# Clearing the keras model history\n",
    "backend.clear_session()\n",
    "\n",
    "# Fixing the seed\n",
    "np.random.seed(42)\n",
    "random.seed(42)\n",
    "tf.random.set_seed(42)"
   ]
  },
  {
   "cell_type": "markdown",
   "metadata": {
    "id": "UJDUoaEj1d6e"
   },
   "source": [
    "### **Model Architecture**\n",
    "- Write a function that returns a sequential model with the following architecture:\n",
    " - First hidden layer with **64 nodes and the relu activation** and the **input shape = (1024, )**\n",
    " - Second hidden layer with **32 nodes and the relu activation**\n",
    " - Output layer with **activation as 'softmax' and number of nodes equal to the number of classes, i.e., 10**\n",
    " - Compile the model with the **loss equal to categorical_crossentropy, optimizer equal to Adam(learning_rate = 0.001), and metric equal to 'accuracy'**. Do not fit the model here, just return the compiled model.\n",
    "- Call the nn_model_1 function and store the model in a new variable.\n",
    "- Print the summary of the model.\n",
    "- Fit on the train data with a **validation split of 0.2, batch size = 128, verbose = 1, and epochs = 20**. Store the model building history to use later for visualization."
   ]
  },
  {
   "cell_type": "code",
   "execution_count": 19,
   "metadata": {
    "id": "BrqN5QpUQZXd"
   },
   "outputs": [],
   "source": [
    "def nn_model_1():\n",
    "    model = Sequential()\n",
    "\n",
    "    # Input layer\n",
    "    model.add(Dense(activation='relu', input_dim=1024, units=64))\n",
    "    # Hidden layer\n",
    "    model.add(Dense(activation='relu', units=32))\n",
    "    # Output layer\n",
    "    model.add(Dense(10, activation = 'softmax'))\n",
    "\n",
    "    # Compile the model\n",
    "    model.compile(optimizer=Adam(learning_rate=0.001), loss='categorical_crossentropy', metrics=['accuracy'])\n",
    "\n",
    "    return model"
   ]
  },
  {
   "cell_type": "markdown",
   "metadata": {
    "id": "A48z6ucF0XIP"
   },
   "source": [
    "### **Build and train an ANN model as per the above mentioned architecture.**"
   ]
  },
  {
   "cell_type": "code",
   "execution_count": 20,
   "metadata": {
    "colab": {
     "base_uri": "https://localhost:8080/"
    },
    "id": "gx5pXDC9jKyM",
    "outputId": "16fe3e0f-3aa7-434d-8ecb-3fa92ac5f6a1"
   },
   "outputs": [
    {
     "name": "stdout",
     "output_type": "stream",
     "text": [
      "Model: \"sequential\"\n",
      "_________________________________________________________________\n",
      " Layer (type)                Output Shape              Param #   \n",
      "=================================================================\n",
      " dense (Dense)               (None, 64)                65600     \n",
      "                                                                 \n",
      " dense_1 (Dense)             (None, 32)                2080      \n",
      "                                                                 \n",
      " dense_2 (Dense)             (None, 10)                330       \n",
      "                                                                 \n",
      "=================================================================\n",
      "Total params: 68,010\n",
      "Trainable params: 68,010\n",
      "Non-trainable params: 0\n",
      "_________________________________________________________________\n"
     ]
    }
   ],
   "source": [
    "model_1 = nn_model_1()\n",
    "model_1.summary()"
   ]
  },
  {
   "cell_type": "code",
   "execution_count": 21,
   "metadata": {
    "colab": {
     "base_uri": "https://localhost:8080/"
    },
    "id": "bXyQyposYC09",
    "outputId": "dcd213a9-1c8f-41c2-8ede-da9f80d1f70b"
   },
   "outputs": [
    {
     "data": {
      "text/plain": [
       "262.5"
      ]
     },
     "execution_count": 21,
     "metadata": {},
     "output_type": "execute_result"
    }
   ],
   "source": [
    "# Batches in each Epoch\n",
    "X_train_2D.shape[0]*0.8/128"
   ]
  },
  {
   "cell_type": "code",
   "execution_count": 22,
   "metadata": {
    "colab": {
     "base_uri": "https://localhost:8080/"
    },
    "id": "Cmi81Gr5sqW-",
    "outputId": "49cb96de-95d5-4bdc-a328-282ec47f77cc"
   },
   "outputs": [
    {
     "name": "stdout",
     "output_type": "stream",
     "text": [
      "Epoch 1/20\n",
      "263/263 [==============================] - 7s 5ms/step - loss: 2.2966 - accuracy: 0.1149 - val_loss: 2.2563 - val_accuracy: 0.1470\n",
      "Epoch 2/20\n",
      "263/263 [==============================] - 1s 5ms/step - loss: 2.1132 - accuracy: 0.2275 - val_loss: 1.9753 - val_accuracy: 0.3154\n",
      "Epoch 3/20\n",
      "263/263 [==============================] - 1s 5ms/step - loss: 1.9138 - accuracy: 0.3293 - val_loss: 1.8557 - val_accuracy: 0.3582\n",
      "Epoch 4/20\n",
      "263/263 [==============================] - 1s 5ms/step - loss: 1.8125 - accuracy: 0.3811 - val_loss: 1.7706 - val_accuracy: 0.4001\n",
      "Epoch 5/20\n",
      "263/263 [==============================] - 1s 4ms/step - loss: 1.7037 - accuracy: 0.4256 - val_loss: 1.6556 - val_accuracy: 0.4427\n",
      "Epoch 6/20\n",
      "263/263 [==============================] - 1s 4ms/step - loss: 1.5946 - accuracy: 0.4629 - val_loss: 1.5464 - val_accuracy: 0.4857\n",
      "Epoch 7/20\n",
      "263/263 [==============================] - 1s 4ms/step - loss: 1.5175 - accuracy: 0.4941 - val_loss: 1.5090 - val_accuracy: 0.4979\n",
      "Epoch 8/20\n",
      "263/263 [==============================] - 1s 4ms/step - loss: 1.4536 - accuracy: 0.5185 - val_loss: 1.4151 - val_accuracy: 0.5376\n",
      "Epoch 9/20\n",
      "263/263 [==============================] - 1s 4ms/step - loss: 1.4040 - accuracy: 0.5407 - val_loss: 1.3873 - val_accuracy: 0.5474\n",
      "Epoch 10/20\n",
      "263/263 [==============================] - 1s 4ms/step - loss: 1.3676 - accuracy: 0.5537 - val_loss: 1.3481 - val_accuracy: 0.5687\n",
      "Epoch 11/20\n",
      "263/263 [==============================] - 1s 4ms/step - loss: 1.3443 - accuracy: 0.5624 - val_loss: 1.3295 - val_accuracy: 0.5713\n",
      "Epoch 12/20\n",
      "263/263 [==============================] - 1s 4ms/step - loss: 1.3253 - accuracy: 0.5676 - val_loss: 1.3168 - val_accuracy: 0.5727\n",
      "Epoch 13/20\n",
      "263/263 [==============================] - 1s 4ms/step - loss: 1.3049 - accuracy: 0.5742 - val_loss: 1.2980 - val_accuracy: 0.5779\n",
      "Epoch 14/20\n",
      "263/263 [==============================] - 2s 7ms/step - loss: 1.2917 - accuracy: 0.5785 - val_loss: 1.3109 - val_accuracy: 0.5737\n",
      "Epoch 15/20\n",
      "263/263 [==============================] - 1s 5ms/step - loss: 1.2774 - accuracy: 0.5844 - val_loss: 1.2992 - val_accuracy: 0.5843\n",
      "Epoch 16/20\n",
      "263/263 [==============================] - 1s 5ms/step - loss: 1.2680 - accuracy: 0.5904 - val_loss: 1.2595 - val_accuracy: 0.5975\n",
      "Epoch 17/20\n",
      "263/263 [==============================] - 1s 4ms/step - loss: 1.2575 - accuracy: 0.5935 - val_loss: 1.2456 - val_accuracy: 0.6056\n",
      "Epoch 18/20\n",
      "263/263 [==============================] - 1s 4ms/step - loss: 1.2453 - accuracy: 0.5978 - val_loss: 1.2487 - val_accuracy: 0.6020\n",
      "Epoch 19/20\n",
      "263/263 [==============================] - 1s 4ms/step - loss: 1.2384 - accuracy: 0.6002 - val_loss: 1.2526 - val_accuracy: 0.5960\n",
      "Epoch 20/20\n",
      "263/263 [==============================] - 1s 4ms/step - loss: 1.2327 - accuracy: 0.6046 - val_loss: 1.2324 - val_accuracy: 0.6118\n"
     ]
    }
   ],
   "source": [
    "history_1 = model_1.fit(X_train_2D, y_train_encode, validation_split=0.2, verbose=1, epochs=20, batch_size=128)"
   ]
  },
  {
   "cell_type": "markdown",
   "metadata": {
    "id": "MeF8XSWz0XIU"
   },
   "source": [
    "### **Plot the Training and Validation Accuracies and write down your Observations.**"
   ]
  },
  {
   "cell_type": "code",
   "execution_count": 23,
   "metadata": {
    "colab": {
     "base_uri": "https://localhost:8080/",
     "height": 341
    },
    "id": "gLfy4l1mcVl3",
    "outputId": "3a8f9b46-ef51-40eb-a9f2-90919d5015ed"
   },
   "outputs": [
    {
     "data": {
      "image/png": "[encoded data removed]",
      "text/plain": [
       "<Figure size 1000x300 with 2 Axes>"
      ]
     },
     "metadata": {},
     "output_type": "display_data"
    }
   ],
   "source": [
    "plot_model_result(history_1, 'Model 1')"
   ]
  },
  {
   "cell_type": "markdown",
   "metadata": {
    "id": "pGBbQpLONX7k"
   },
   "source": [
    "**Observations:**\n",
    "\n",
    "- For 20 epochs, we are getting an accuracy of about 67% in the training data as in the validation data.\n",
    "- We can see from the above plot that the model has done similarly in the training set as in the validation set, however the model is performing poorly.\n",
    "- There is a fluctuation around epoch 15, maybe trying a learning rate smaller we can see the behavior in train data and in validation data."
   ]
  },
  {
   "cell_type": "markdown",
   "metadata": {
    "id": "z0qgLMBZm5-K"
   },
   "source": [
    "Let's build one more model with higher complexity and see if we can improve the performance of the model.\n",
    "\n",
    "First, we need to clear the previous model's history from the Keras backend. Also, let's fix the seed again after clearing the backend."
   ]
  },
  {
   "cell_type": "code",
   "execution_count": 24,
   "metadata": {
    "id": "I_ih3wEU9wIk"
   },
   "outputs": [],
   "source": [
    "# Clearing the keras model history\n",
    "backend.clear_session()\n",
    "\n",
    "# Fixing the seed\n",
    "np.random.seed(42)\n",
    "random.seed(42)\n",
    "tf.random.set_seed(42)"
   ]
  },
  {
   "cell_type": "markdown",
   "metadata": {
    "id": "lT6o3TIKuCtk"
   },
   "source": [
    "### **Second Model Architecture**\n",
    "- Write a function that returns a sequential model with the following architecture:\n",
    " - First hidden layer with **256 nodes and the relu activation** and the **input shape = (1024, )**\n",
    " - Second hidden layer with **128 nodes and the relu activation**\n",
    " - Add the **Dropout layer with the rate equal to 0.2**\n",
    " - Third hidden layer with **64 nodes and the relu activation**\n",
    " - Fourth hidden layer with **64 nodes and the relu activation**\n",
    " - Fifth hidden layer with **32 nodes and the relu activation**\n",
    " - Add the **BatchNormalization layer**\n",
    " - Output layer with **activation as 'softmax' and number of nodes equal to the number of classes, i.e., 10**\n",
    " -Compile the model with the **loss equal to categorical_crossentropy, optimizer equal to Adam(learning_rate = 0.0005), and metric equal to 'accuracy'**. Do not fit the model here, just return the compiled model.\n",
    "- Call the nn_model_2 function and store the model in a new variable.\n",
    "- Print the summary of the model.\n",
    "- Fit on the train data with a **validation split of 0.2, batch size = 128, verbose = 1, and epochs = 30**. Store the model building history to use later for visualization."
   ]
  },
  {
   "cell_type": "code",
   "execution_count": 25,
   "metadata": {
    "id": "jGUcef20jiej"
   },
   "outputs": [],
   "source": [
    "def nn_model_2():\n",
    "    model = Sequential()\n",
    "\n",
    "    # Input layer\n",
    "    model.add(Dense(activation='relu', input_dim=1024, units=256))\n",
    "    # Hidden layer\n",
    "    model.add(Dense(activation='relu', units=128))\n",
    "    model.add(Dropout(0.2))\n",
    "    model.add(Dense(activation='relu', units=64))\n",
    "    model.add(Dense(activation='relu', units=64))\n",
    "    model.add(Dense(activation='relu', units=32))\n",
    "    model.add(BatchNormalization())\n",
    "    # Output layer\n",
    "    model.add(Dense(10, activation = 'softmax'))\n",
    "\n",
    "    # Compile the model\n",
    "    model.compile(optimizer=Adam(learning_rate=0.0005), loss='categorical_crossentropy', metrics=['accuracy'])\n",
    "\n",
    "    return model"
   ]
  },
  {
   "cell_type": "markdown",
   "metadata": {
    "id": "f-ZjNBmH0XIV"
   },
   "source": [
    "### **Build and train the new ANN model as per the above mentioned architecture**"
   ]
  },
  {
   "cell_type": "code",
   "execution_count": 26,
   "metadata": {
    "colab": {
     "base_uri": "https://localhost:8080/"
    },
    "id": "EEPYLFIPnSDP",
    "outputId": "be3a13ba-1a1a-4b6d-a2d4-871ceb2d1705"
   },
   "outputs": [
    {
     "name": "stdout",
     "output_type": "stream",
     "text": [
      "Model: \"sequential\"\n",
      "_________________________________________________________________\n",
      " Layer (type)                Output Shape              Param #   \n",
      "=================================================================\n",
      " dense (Dense)               (None, 256)               262400    \n",
      "                                                                 \n",
      " dense_1 (Dense)             (None, 128)               32896     \n",
      "                                                                 \n",
      " dropout (Dropout)           (None, 128)               0         \n",
      "                                                                 \n",
      " dense_2 (Dense)             (None, 64)                8256      \n",
      "                                                                 \n",
      " dense_3 (Dense)             (None, 64)                4160      \n",
      "                                                                 \n",
      " dense_4 (Dense)             (None, 32)                2080      \n",
      "                                                                 \n",
      " batch_normalization (BatchN  (None, 32)               128       \n",
      " ormalization)                                                   \n",
      "                                                                 \n",
      " dense_5 (Dense)             (None, 10)                330       \n",
      "                                                                 \n",
      "=================================================================\n",
      "Total params: 310,250\n",
      "Trainable params: 310,186\n",
      "Non-trainable params: 64\n",
      "_________________________________________________________________\n"
     ]
    }
   ],
   "source": [
    "model_2 = nn_model_2()\n",
    "model_2.summary()"
   ]
  },
  {
   "cell_type": "code",
   "execution_count": 27,
   "metadata": {
    "colab": {
     "base_uri": "https://localhost:8080/"
    },
    "id": "ugDYEjJLIJAL",
    "outputId": "d2ac1986-aceb-46a4-e555-fba549020d2b"
   },
   "outputs": [
    {
     "data": {
      "text/plain": [
       "262.5"
      ]
     },
     "execution_count": 27,
     "metadata": {},
     "output_type": "execute_result"
    }
   ],
   "source": [
    "# Batches in each Epoch\n",
    "X_train_2D.shape[0]*0.8/128"
   ]
  },
  {
   "cell_type": "code",
   "execution_count": 28,
   "metadata": {
    "colab": {
     "base_uri": "https://localhost:8080/"
    },
    "id": "01ig6BrF1KVy",
    "outputId": "02227d13-6e95-40cd-a7b9-445bf0cd8367"
   },
   "outputs": [
    {
     "name": "stdout",
     "output_type": "stream",
     "text": [
      "Epoch 1/30\n",
      "263/263 [==============================] - 6s 9ms/step - loss: 2.3277 - accuracy: 0.0990 - val_loss: 2.3063 - val_accuracy: 0.0963\n",
      "Epoch 2/30\n",
      "263/263 [==============================] - 2s 6ms/step - loss: 2.3036 - accuracy: 0.1051 - val_loss: 2.2994 - val_accuracy: 0.1054\n",
      "Epoch 3/30\n",
      "263/263 [==============================] - 2s 6ms/step - loss: 2.1215 - accuracy: 0.2011 - val_loss: 1.9763 - val_accuracy: 0.2895\n",
      "Epoch 4/30\n",
      "263/263 [==============================] - 1s 5ms/step - loss: 1.6067 - accuracy: 0.4441 - val_loss: 1.4775 - val_accuracy: 0.5421\n",
      "Epoch 5/30\n",
      "263/263 [==============================] - 1s 5ms/step - loss: 1.3450 - accuracy: 0.5522 - val_loss: 1.2734 - val_accuracy: 0.5969\n",
      "Epoch 6/30\n",
      "263/263 [==============================] - 1s 5ms/step - loss: 1.2291 - accuracy: 0.6012 - val_loss: 1.1368 - val_accuracy: 0.6296\n",
      "Epoch 7/30\n",
      "263/263 [==============================] - 1s 5ms/step - loss: 1.1580 - accuracy: 0.6285 - val_loss: 1.0669 - val_accuracy: 0.6595\n",
      "Epoch 8/30\n",
      "263/263 [==============================] - 1s 5ms/step - loss: 1.0877 - accuracy: 0.6506 - val_loss: 0.9946 - val_accuracy: 0.6858\n",
      "Epoch 9/30\n",
      "263/263 [==============================] - 2s 6ms/step - loss: 1.0453 - accuracy: 0.6665 - val_loss: 0.9727 - val_accuracy: 0.6880\n",
      "Epoch 10/30\n",
      "263/263 [==============================] - 2s 7ms/step - loss: 1.0254 - accuracy: 0.6721 - val_loss: 0.9835 - val_accuracy: 0.6842\n",
      "Epoch 11/30\n",
      "263/263 [==============================] - 2s 7ms/step - loss: 0.9832 - accuracy: 0.6878 - val_loss: 0.8888 - val_accuracy: 0.7235\n",
      "Epoch 12/30\n",
      "263/263 [==============================] - 1s 5ms/step - loss: 0.9490 - accuracy: 0.6988 - val_loss: 0.9424 - val_accuracy: 0.7015\n",
      "Epoch 13/30\n",
      "263/263 [==============================] - 1s 5ms/step - loss: 0.9522 - accuracy: 0.6957 - val_loss: 0.8532 - val_accuracy: 0.7317\n",
      "Epoch 14/30\n",
      "263/263 [==============================] - 2s 6ms/step - loss: 0.9081 - accuracy: 0.7114 - val_loss: 0.8332 - val_accuracy: 0.7387\n",
      "Epoch 15/30\n",
      "263/263 [==============================] - 1s 5ms/step - loss: 0.8941 - accuracy: 0.7175 - val_loss: 0.8470 - val_accuracy: 0.7342\n",
      "Epoch 16/30\n",
      "263/263 [==============================] - 1s 5ms/step - loss: 0.8684 - accuracy: 0.7246 - val_loss: 0.8130 - val_accuracy: 0.7436\n",
      "Epoch 17/30\n",
      "263/263 [==============================] - 2s 6ms/step - loss: 0.8622 - accuracy: 0.7292 - val_loss: 0.7968 - val_accuracy: 0.7508\n",
      "Epoch 18/30\n",
      "263/263 [==============================] - 2s 6ms/step - loss: 0.8391 - accuracy: 0.7341 - val_loss: 0.7816 - val_accuracy: 0.7563\n",
      "Epoch 19/30\n",
      "263/263 [==============================] - 2s 7ms/step - loss: 0.8333 - accuracy: 0.7370 - val_loss: 0.8364 - val_accuracy: 0.7357\n",
      "Epoch 20/30\n",
      "263/263 [==============================] - 2s 6ms/step - loss: 0.8265 - accuracy: 0.7380 - val_loss: 0.8034 - val_accuracy: 0.7473\n",
      "Epoch 21/30\n",
      "263/263 [==============================] - 1s 5ms/step - loss: 0.8101 - accuracy: 0.7424 - val_loss: 0.7561 - val_accuracy: 0.7686\n",
      "Epoch 22/30\n",
      "263/263 [==============================] - 1s 5ms/step - loss: 0.7981 - accuracy: 0.7492 - val_loss: 0.7550 - val_accuracy: 0.7663\n",
      "Epoch 23/30\n",
      "263/263 [==============================] - 1s 5ms/step - loss: 0.7829 - accuracy: 0.7529 - val_loss: 0.7972 - val_accuracy: 0.7518\n",
      "Epoch 24/30\n",
      "263/263 [==============================] - 2s 6ms/step - loss: 0.7765 - accuracy: 0.7539 - val_loss: 0.7540 - val_accuracy: 0.7674\n",
      "Epoch 25/30\n",
      "263/263 [==============================] - 1s 5ms/step - loss: 0.7626 - accuracy: 0.7574 - val_loss: 0.7450 - val_accuracy: 0.7717\n",
      "Epoch 26/30\n",
      "263/263 [==============================] - 1s 5ms/step - loss: 0.7620 - accuracy: 0.7597 - val_loss: 0.7457 - val_accuracy: 0.7686\n",
      "Epoch 27/30\n",
      "263/263 [==============================] - 2s 6ms/step - loss: 0.7504 - accuracy: 0.7618 - val_loss: 0.7608 - val_accuracy: 0.7607\n",
      "Epoch 28/30\n",
      "263/263 [==============================] - 2s 7ms/step - loss: 0.7391 - accuracy: 0.7663 - val_loss: 0.7495 - val_accuracy: 0.7702\n",
      "Epoch 29/30\n",
      "263/263 [==============================] - 2s 6ms/step - loss: 0.7310 - accuracy: 0.7648 - val_loss: 0.7689 - val_accuracy: 0.7605\n",
      "Epoch 30/30\n",
      "263/263 [==============================] - 1s 5ms/step - loss: 0.7201 - accuracy: 0.7729 - val_loss: 0.7274 - val_accuracy: 0.7775\n"
     ]
    }
   ],
   "source": [
    "history_2 = model_2.fit(X_train_2D, y_train_encode, validation_split=0.2, verbose=1, epochs=30, batch_size=128)"
   ]
  },
  {
   "cell_type": "markdown",
   "metadata": {
    "id": "ZJYsvjmw0XIX"
   },
   "source": [
    "### **Plot the Training and Validation Accuracies and write down your Observations.**"
   ]
  },
  {
   "cell_type": "code",
   "execution_count": 29,
   "metadata": {
    "colab": {
     "base_uri": "https://localhost:8080/",
     "height": 341
    },
    "id": "RQjR8vcglbxS",
    "outputId": "d570a1b2-195a-4565-91c9-75c8a57410ad"
   },
   "outputs": [
    {
     "data": {
      "image/png": "[encoded data removed]",
      "text/plain": [
       "<Figure size 1000x300 with 2 Axes>"
      ]
     },
     "metadata": {},
     "output_type": "display_data"
    }
   ],
   "source": [
    "plot_model_result(history_2, 'Model 2')"
   ]
  },
  {
   "cell_type": "markdown",
   "metadata": {
    "id": "VPW1LlD61RDn"
   },
   "source": [
    "**Observations:**\n",
    "\n",
    "- For 30 epochs, we are getting an accuracy of about 76% in the training data as in the validation data. We can see from the above plot that the model has done similarly in the training set as in the validation set.\n",
    "- Even do, there is an improvement in the model, we still having a poor performance in the data."
   ]
  },
  {
   "cell_type": "markdown",
   "metadata": {
    "id": "8kuXx9Bvu00f"
   },
   "source": [
    "## **Predictions on the test data**\n",
    "\n",
    "- Make predictions on the test set using the second model.\n",
    "- Print the obtained results using the classification report and the confusion matrix.\n",
    "- Final observations on the obtained results."
   ]
  },
  {
   "cell_type": "code",
   "execution_count": 30,
   "metadata": {
    "colab": {
     "base_uri": "https://localhost:8080/"
    },
    "id": "xbWMEtTj5Ad0",
    "outputId": "5ae30a7e-8439-4082-f245-18009c4329e0"
   },
   "outputs": [
    {
     "name": "stdout",
     "output_type": "stream",
     "text": [
      "563/563 [==============================] - 1s 2ms/step\n",
      "\n",
      "First 10 predicted values:\n",
      "[2, 7, 2, 9, 0, 9, 3, 5, 1, 4]\n",
      "\n"
     ]
    }
   ],
   "source": [
    "# Make predictions on the test set\n",
    "y_pred = model_2.predict(X_test_2D)\n",
    "y_pred = [np.argmax(i) for i in y_pred]\n",
    "print(f\"\"\"\n",
    "First 10 predicted values:\n",
    "{y_pred[:10]}\n",
    "\"\"\")"
   ]
  },
  {
   "cell_type": "markdown",
   "metadata": {
    "id": "i3li8Ib08yts"
   },
   "source": [
    "**Note:** Earlier, we noticed that each entry of the target variable is a one-hot encoded vector but to print the classification report and confusion matrix, we must convert each entry of y_test to a single label."
   ]
  },
  {
   "cell_type": "code",
   "execution_count": 31,
   "metadata": {
    "colab": {
     "base_uri": "https://localhost:8080/"
    },
    "id": "TVvF4pdJpvFp",
    "outputId": "c10fa6b6-130a-4ae2-8607-fc47c75af270"
   },
   "outputs": [
    {
     "data": {
      "text/plain": [
       "array([[1281,   68,   55,   39,   74,   15,   92,   27,   50,  113],\n",
       "       [   6, 1535,   34,   45,   74,   14,   16,   51,   29,   24],\n",
       "       [   2,   38, 1488,   47,   46,   25,   10,   71,   31,   45],\n",
       "       [  12,   54,   82, 1274,   38,  127,   14,   39,   45,   34],\n",
       "       [  14,   70,   39,   20, 1554,   21,   20,   13,   21,   40],\n",
       "       [  12,   39,   37,  181,   18, 1277,   53,   12,   84,   55],\n",
       "       [  23,   43,   29,   30,   99,   98, 1319,   14,  156,   21],\n",
       "       [   6,   99,  122,   38,   22,   18,   15, 1440,   12,   36],\n",
       "       [  11,   58,   57,   64,   58,   76,   87,   12, 1313,   76],\n",
       "       [  23,   59,   54,   73,   52,   55,   16,   36,   68, 1368]])"
      ]
     },
     "execution_count": 31,
     "metadata": {},
     "output_type": "execute_result"
    }
   ],
   "source": [
    "# Confusion matrix\n",
    "cm = confusion_matrix([int(x) for x in y_test], y_pred)\n",
    "cm"
   ]
  },
  {
   "cell_type": "markdown",
   "metadata": {
    "id": "1_SIoopr0XIg"
   },
   "source": [
    "### **Print the classification report and the confusion matrix for the test predictions. Write your observations on the final results.**"
   ]
  },
  {
   "cell_type": "code",
   "execution_count": 32,
   "metadata": {
    "colab": {
     "base_uri": "https://localhost:8080/",
     "height": 487
    },
    "id": "NByu7uAQ8x9P",
    "outputId": "960b9ad7-6430-482f-fa67-37101aff713a"
   },
   "outputs": [
    {
     "data": {
      "image/png": "[encoded data removed]",
      "text/plain": [
       "<Figure size 500x500 with 1 Axes>"
      ]
     },
     "metadata": {},
     "output_type": "display_data"
    }
   ],
   "source": [
    "# Plotting the confusion matrix\n",
    "plot_confussion_matrix(cm, 'Model 2')"
   ]
  },
  {
   "cell_type": "code",
   "execution_count": 33,
   "metadata": {
    "colab": {
     "base_uri": "https://localhost:8080/"
    },
    "id": "esLMBRZXpzkV",
    "outputId": "56a45de3-26af-497f-aa25-056221309365"
   },
   "outputs": [
    {
     "name": "stdout",
     "output_type": "stream",
     "text": [
      "              precision    recall  f1-score   support\n",
      "\n",
      "           0       0.92      0.71      0.80      1814\n",
      "           1       0.74      0.84      0.79      1828\n",
      "           2       0.75      0.83      0.78      1803\n",
      "           3       0.70      0.74      0.72      1719\n",
      "           4       0.76      0.86      0.81      1812\n",
      "           5       0.74      0.72      0.73      1768\n",
      "           6       0.80      0.72      0.76      1832\n",
      "           7       0.84      0.80      0.82      1808\n",
      "           8       0.73      0.72      0.73      1812\n",
      "           9       0.75      0.76      0.76      1804\n",
      "\n",
      "    accuracy                           0.77     18000\n",
      "   macro avg       0.77      0.77      0.77     18000\n",
      "weighted avg       0.77      0.77      0.77     18000\n",
      "\n"
     ]
    }
   ],
   "source": [
    "print(classification_report(y_test, y_pred))"
   ]
  },
  {
   "cell_type": "markdown",
   "metadata": {
    "id": "DjErl4GA2u9s"
   },
   "source": [
    "**Final Observations:**\n",
    "\n",
    "- We can see that numbers 4, 7, 0, and 2 has reached the best perfomance. But we can also see that in all categories the model is not able to identify the correct digit in around 25% of cases."
   ]
  },
  {
   "cell_type": "markdown",
   "metadata": {
    "id": "xkR4JioMsuIV"
   },
   "source": [
    "## **Using Convolutional Neural Networks**"
   ]
  },
  {
   "cell_type": "markdown",
   "metadata": {
    "id": "YN2YgkGL_6xQ"
   },
   "source": [
    "### **Load the dataset again and split the data into the train and the test dataset.**"
   ]
  },
  {
   "cell_type": "code",
   "execution_count": 34,
   "metadata": {
    "colab": {
     "base_uri": "https://localhost:8080/"
    },
    "id": "mqM204HbAjP2",
    "outputId": "343b4cd2-39e3-4f7c-8567-089065a40e98",
    "scrolled": true
   },
   "outputs": [
    {
     "data": {
      "text/plain": [
       "((42000, 32, 32),\n",
       " (42000,),\n",
       " (18000, 32, 32),\n",
       " (18000,),\n",
       " (60000, 32, 32),\n",
       " (60000,))"
      ]
     },
     "execution_count": 34,
     "metadata": {},
     "output_type": "execute_result"
    }
   ],
   "source": [
    "# We have preserved the original data, that's why we do not need to reload the data again\n",
    "X_train.shape, y_train.shape, X_test.shape, y_test.shape, X_val.shape, y_val.shape"
   ]
  },
  {
   "cell_type": "markdown",
   "metadata": {
    "id": "6fPqF_xGAjQB"
   },
   "source": [
    "Check the number of images in the training and the testing dataset."
   ]
  },
  {
   "cell_type": "code",
   "execution_count": 35,
   "metadata": {
    "colab": {
     "base_uri": "https://localhost:8080/"
    },
    "id": "gTLJZWjPAjQB",
    "outputId": "776d57a7-0f11-4849-8f37-1c67fadfaa80"
   },
   "outputs": [
    {
     "name": "stdout",
     "output_type": "stream",
     "text": [
      "\n",
      "Train set: 42000 images.\n",
      "Test  set: 18000 images.\n",
      "Val   set: 60000 images.\n",
      "\n"
     ]
    }
   ],
   "source": [
    "print(f\"\"\"\n",
    "Train set: {X_train.shape[0]} images.\n",
    "Test  set: {X_test.shape[0]} images.\n",
    "Val   set: {X_val.shape[0]} images.\n",
    "\"\"\")"
   ]
  },
  {
   "cell_type": "markdown",
   "metadata": {
    "id": "9qyMiP_rAjQB"
   },
   "source": [
    "**Observation:**\n",
    "\n",
    "- There are $42,000$ images in the train set, and $18,000$ images in the test set.\n",
    "- There are also $60,000$ images in the validation set"
   ]
  },
  {
   "cell_type": "markdown",
   "metadata": {
    "id": "OJndFfEVAjQG"
   },
   "source": [
    "## **Data preparation**\n",
    "\n",
    "- Print the shape and the array of pixels for the first image in the training dataset.\n",
    "- Reshape the train and the test dataset because we always have to give a 4D array as input to CNNs.\n",
    "- Normalize the train and the test dataset by dividing by 255.\n",
    "- Print the new shapes of the train and the test dataset.\n",
    "- One-hot encode the target variable."
   ]
  },
  {
   "cell_type": "code",
   "execution_count": 36,
   "metadata": {
    "colab": {
     "base_uri": "https://localhost:8080/"
    },
    "id": "W4uXqKz1AjQG",
    "outputId": "9bf754a1-9811-4576-a761-8a6214e8ef7f"
   },
   "outputs": [
    {
     "name": "stdout",
     "output_type": "stream",
     "text": [
      "\n",
      "First image\n",
      "Shape: (32, 32)\n",
      "\n",
      "Pixels:\n",
      "[[ 33.0704  30.2601  26.852  ...  71.4471  58.2204  42.9939]\n",
      " [ 25.2283  25.5533  29.9765 ... 113.0209 103.3639  84.2949]\n",
      " [ 26.2775  22.6137  40.4763 ... 113.3028 121.775  115.4228]\n",
      " ...\n",
      " [ 28.5502  36.212   45.0801 ...  24.1359  25.0927  26.0603]\n",
      " [ 38.4352  26.4733  23.2717 ...  28.1094  29.4683  30.0661]\n",
      " [ 50.2984  26.0773  24.0389 ...  49.6682  50.853   53.0377]]\n",
      "\n"
     ]
    }
   ],
   "source": [
    "# First image\n",
    "print(f\"\"\"\n",
    "First image\n",
    "Shape: {X_train[0].shape}\n",
    "\n",
    "Pixels:\n",
    "{X_train[0]}\n",
    "\"\"\")"
   ]
  },
  {
   "cell_type": "markdown",
   "metadata": {
    "id": "at30iiX1__7F"
   },
   "source": [
    "Reshape the dataset to be able to pass them to CNNs. Remember that we always have to give a 4D array as input to CNNs"
   ]
  },
  {
   "cell_type": "code",
   "execution_count": 37,
   "metadata": {
    "id": "D9YPwf9ysqWU"
   },
   "outputs": [],
   "source": [
    "# Reshaping the images into 4D array\n",
    "X_train_4D = X_train_norm.reshape(*X_train_norm.shape, 1)\n",
    "X_test_4D  = X_test_norm.reshape(*X_test_norm.shape, 1)\n",
    "X_val_4D   = X_val_norm.reshape(*X_val_norm.shape, 1)"
   ]
  },
  {
   "cell_type": "markdown",
   "metadata": {
    "id": "ODYnoLfaAEGx"
   },
   "source": [
    "Normalize inputs from 0-255 to 0-1"
   ]
  },
  {
   "cell_type": "code",
   "execution_count": 38,
   "metadata": {
    "colab": {
     "base_uri": "https://localhost:8080/"
    },
    "id": "eOGLAn40AjQG",
    "outputId": "32333bc8-5f01-412d-aa8b-6857351a0a7f"
   },
   "outputs": [
    {
     "name": "stdout",
     "output_type": "stream",
     "text": [
      "\n",
      "Values in X_train data goes from 0.0 to 1.0\n",
      "\n"
     ]
    }
   ],
   "source": [
    "# The data we have reshaped is already normalized\n",
    "print(f\"\"\"\n",
    "Values in X_train data goes from {round(X_train_4D.min(), 1)} to {round(X_train_4D.max(), 1)}\n",
    "\"\"\")"
   ]
  },
  {
   "cell_type": "markdown",
   "metadata": {
    "id": "cS9T4HqjAoyM"
   },
   "source": [
    "Print New shape of Training and Test"
   ]
  },
  {
   "cell_type": "code",
   "execution_count": 39,
   "metadata": {
    "colab": {
     "base_uri": "https://localhost:8080/"
    },
    "id": "5qf8S5NQAjQG",
    "outputId": "8684d4a2-83b5-4ea9-a126-c2c9728aea0d"
   },
   "outputs": [
    {
     "name": "stdout",
     "output_type": "stream",
     "text": [
      "\n",
      "Train set: (42000, 32, 32, 1), (42000,)\n",
      "Test  set: (18000, 32, 32, 1), (18000,)\n",
      "Val   set: (60000, 32, 32, 1), (60000,)\n",
      "\n"
     ]
    }
   ],
   "source": [
    "print(f\"\"\"\n",
    "Train set: {X_train_4D.shape}, {y_train.shape}\n",
    "Test  set: {X_test_4D.shape}, {y_test.shape}\n",
    "Val   set: {X_val_4D.shape}, {y_val.shape}\n",
    "\"\"\")"
   ]
  },
  {
   "cell_type": "markdown",
   "metadata": {
    "id": "10QaOV-xR7Jn"
   },
   "source": [
    "### **One-hot encode the labels in the target variable y_train and y_test.**"
   ]
  },
  {
   "cell_type": "code",
   "execution_count": 40,
   "metadata": {
    "colab": {
     "base_uri": "https://localhost:8080/"
    },
    "id": "3KHWFWKMAjQH",
    "outputId": "389d183d-4243-4e4d-8fea-f22de8c43d5e"
   },
   "outputs": [
    {
     "name": "stdout",
     "output_type": "stream",
     "text": [
      "\n",
      "y_train after encoding shape: (42000, 10)\n",
      "y_test after encoding shape: (18000, 10)\n",
      "y_val after encoding shape: (60000, 10)\n",
      "\n"
     ]
    }
   ],
   "source": [
    "# We have preserved the encoded y variable:\n",
    "print(f\"\"\"\n",
    "y_train after encoding shape: {y_train_encode.shape}\n",
    "y_test after encoding shape: {y_test_encode.shape}\n",
    "y_val after encoding shape: {y_val_encode.shape}\n",
    "\"\"\")"
   ]
  },
  {
   "cell_type": "markdown",
   "metadata": {
    "id": "H-8jYVQTAjQH"
   },
   "source": [
    "**Observation:**\n",
    "\n",
    "- We have 10 unique values in the target variable, so after encoding y_train, we have 1 column for each possible value in y_train."
   ]
  },
  {
   "cell_type": "markdown",
   "metadata": {
    "id": "Vjx_LI4_AjQH"
   },
   "source": [
    "## **Model Building**\n",
    "\n",
    "Now that we have done data preprocessing, let's build a CNN model.\n",
    "Fix the seed for random number generators"
   ]
  },
  {
   "cell_type": "code",
   "execution_count": 41,
   "metadata": {
    "id": "ZY5pyF4-KDNt"
   },
   "outputs": [],
   "source": [
    "# Clearing the keras model history\n",
    "backend.clear_session()\n",
    "\n",
    "# Fixing the seed\n",
    "np.random.seed(42)\n",
    "random.seed(42)\n",
    "tf.random.set_seed(42)"
   ]
  },
  {
   "cell_type": "markdown",
   "metadata": {
    "id": "1JUAczhzAjQH"
   },
   "source": [
    "### **Model Architecture**\n",
    "- **Write a function** that returns a sequential model with the following architecture:\n",
    " - First Convolutional layer with **16 filters and the kernel size of 3x3**. Use the **'same' padding** and provide the **input shape = (32, 32, 1)**\n",
    " - Add a **LeakyRelu layer** with the **slope equal to 0.1**\n",
    " - Second Convolutional layer with **32 filters and the kernel size of 3x3 with 'same' padding**\n",
    " - Another **LeakyRelu** with the **slope equal to 0.1**\n",
    " - A **max-pooling layer** with a **pool size of 2x2**\n",
    " - **Flatten** the output from the previous layer\n",
    " - Add a **dense layer with 32 nodes**\n",
    " - Add a **LeakyRelu layer with the slope equal to 0.1**\n",
    " - Add the final **output layer with nodes equal to the number of classes, i.e., 10** and **'softmax' as the activation function**\n",
    " - Compile the model with the **loss equal to categorical_crossentropy, optimizer equal to Adam(learning_rate = 0.001), and metric equal to 'accuracy'**. Do not fit the model here, just return the compiled model.\n",
    "- Call the function cnn_model_1 and store the output in a new variable.\n",
    "- Print the summary of the model.\n",
    "- Fit the model on the training data with a **validation split of 0.2, batch size = 32, verbose = 1, and epochs = 20**. Store the model building history to use later for visualization."
   ]
  },
  {
   "cell_type": "code",
   "execution_count": 42,
   "metadata": {
    "id": "L1jOYANWAjQH"
   },
   "outputs": [],
   "source": [
    "def cnn_model_1():\n",
    "    model = Sequential([\n",
    "        Conv2D(filters=16, kernel_size=(3, 3), padding=\"same\", input_shape=(32, 32, 1)),\n",
    "        LeakyReLU(0.1),\n",
    "        Conv2D(filters=32, kernel_size=(3, 3), padding=\"same\"),\n",
    "        LeakyReLU(0.1),\n",
    "        MaxPooling2D((2, 2)),\n",
    "        Flatten(),\n",
    "        Dense(32),\n",
    "        LeakyReLU(0.1),\n",
    "        Dense(10, activation='softmax')\n",
    "    ])\n",
    "\n",
    "    # Compile the model\n",
    "    model.compile(optimizer=Adam(learning_rate=0.0001), loss='categorical_crossentropy', metrics=['accuracy'])\n",
    "\n",
    "    return model"
   ]
  },
  {
   "cell_type": "markdown",
   "metadata": {
    "id": "JWsAd45JKDNu"
   },
   "source": [
    "### **Build and train a CNN model as per the above mentioned architecture.**"
   ]
  },
  {
   "cell_type": "code",
   "execution_count": 43,
   "metadata": {
    "colab": {
     "base_uri": "https://localhost:8080/"
    },
    "id": "rJamFWT8_ORe",
    "outputId": "580420a6-592c-4fa0-b7cb-31accd002b1e"
   },
   "outputs": [
    {
     "name": "stdout",
     "output_type": "stream",
     "text": [
      "Model: \"sequential\"\n",
      "_________________________________________________________________\n",
      " Layer (type)                Output Shape              Param #   \n",
      "=================================================================\n",
      " conv2d (Conv2D)             (None, 32, 32, 16)        160       \n",
      "                                                                 \n",
      " leaky_re_lu (LeakyReLU)     (None, 32, 32, 16)        0         \n",
      "                                                                 \n",
      " conv2d_1 (Conv2D)           (None, 32, 32, 32)        4640      \n",
      "                                                                 \n",
      " leaky_re_lu_1 (LeakyReLU)   (None, 32, 32, 32)        0         \n",
      "                                                                 \n",
      " max_pooling2d (MaxPooling2D  (None, 16, 16, 32)       0         \n",
      " )                                                               \n",
      "                                                                 \n",
      " flatten (Flatten)           (None, 8192)              0         \n",
      "                                                                 \n",
      " dense (Dense)               (None, 32)                262176    \n",
      "                                                                 \n",
      " leaky_re_lu_2 (LeakyReLU)   (None, 32)                0         \n",
      "                                                                 \n",
      " dense_1 (Dense)             (None, 10)                330       \n",
      "                                                                 \n",
      "=================================================================\n",
      "Total params: 267,306\n",
      "Trainable params: 267,306\n",
      "Non-trainable params: 0\n",
      "_________________________________________________________________\n"
     ]
    }
   ],
   "source": [
    "model_3 = cnn_model_1()\n",
    "model_3.summary()"
   ]
  },
  {
   "cell_type": "code",
   "execution_count": 44,
   "metadata": {
    "colab": {
     "base_uri": "https://localhost:8080/"
    },
    "id": "QUpMFUprIPw_",
    "outputId": "63d60bfa-54d0-482f-e83c-89df9431a881"
   },
   "outputs": [
    {
     "data": {
      "text/plain": [
       "1050.0"
      ]
     },
     "execution_count": 44,
     "metadata": {},
     "output_type": "execute_result"
    }
   ],
   "source": [
    "# Batches in each Epoch\n",
    "X_train_4D.shape[0]*0.8/32"
   ]
  },
  {
   "cell_type": "code",
   "execution_count": 45,
   "metadata": {
    "colab": {
     "base_uri": "https://localhost:8080/"
    },
    "id": "4445DjbP_NyQ",
    "outputId": "3058606d-45b1-4cbd-8397-ddaed9655d95"
   },
   "outputs": [
    {
     "name": "stdout",
     "output_type": "stream",
     "text": [
      "Epoch 1/20\n",
      "1050/1050 [==============================] - 11s 4ms/step - loss: 2.1059 - accuracy: 0.2928 - val_loss: 1.6354 - val_accuracy: 0.5740\n",
      "Epoch 2/20\n",
      "1050/1050 [==============================] - 5s 5ms/step - loss: 1.2353 - accuracy: 0.6738 - val_loss: 0.9718 - val_accuracy: 0.7523\n",
      "Epoch 3/20\n",
      "1050/1050 [==============================] - 5s 5ms/step - loss: 0.8641 - accuracy: 0.7684 - val_loss: 0.7976 - val_accuracy: 0.7794\n",
      "Epoch 4/20\n",
      "1050/1050 [==============================] - 4s 4ms/step - loss: 0.7307 - accuracy: 0.7987 - val_loss: 0.7033 - val_accuracy: 0.8051\n",
      "Epoch 5/20\n",
      "1050/1050 [==============================] - 6s 6ms/step - loss: 0.6655 - accuracy: 0.8151 - val_loss: 0.6668 - val_accuracy: 0.8133\n",
      "Epoch 6/20\n",
      "1050/1050 [==============================] - 4s 4ms/step - loss: 0.6207 - accuracy: 0.8262 - val_loss: 0.6510 - val_accuracy: 0.8118\n",
      "Epoch 7/20\n",
      "1050/1050 [==============================] - 4s 4ms/step - loss: 0.5928 - accuracy: 0.8340 - val_loss: 0.6251 - val_accuracy: 0.8282\n",
      "Epoch 8/20\n",
      "1050/1050 [==============================] - 5s 5ms/step - loss: 0.5713 - accuracy: 0.8402 - val_loss: 0.6201 - val_accuracy: 0.8294\n",
      "Epoch 9/20\n",
      "1050/1050 [==============================] - 4s 4ms/step - loss: 0.5522 - accuracy: 0.8451 - val_loss: 0.5924 - val_accuracy: 0.8355\n",
      "Epoch 10/20\n",
      "1050/1050 [==============================] - 6s 5ms/step - loss: 0.5373 - accuracy: 0.8475 - val_loss: 0.5811 - val_accuracy: 0.8424\n",
      "Epoch 11/20\n",
      "1050/1050 [==============================] - 5s 5ms/step - loss: 0.5231 - accuracy: 0.8521 - val_loss: 0.5887 - val_accuracy: 0.8363\n",
      "Epoch 12/20\n",
      "1050/1050 [==============================] - 4s 4ms/step - loss: 0.5133 - accuracy: 0.8534 - val_loss: 0.5758 - val_accuracy: 0.8444\n",
      "Epoch 13/20\n",
      "1050/1050 [==============================] - 5s 5ms/step - loss: 0.5010 - accuracy: 0.8566 - val_loss: 0.5904 - val_accuracy: 0.8388\n",
      "Epoch 14/20\n",
      "1050/1050 [==============================] - 5s 5ms/step - loss: 0.4914 - accuracy: 0.8599 - val_loss: 0.5561 - val_accuracy: 0.8498\n",
      "Epoch 15/20\n",
      "1050/1050 [==============================] - 4s 4ms/step - loss: 0.4832 - accuracy: 0.8628 - val_loss: 0.5603 - val_accuracy: 0.8451\n",
      "Epoch 16/20\n",
      "1050/1050 [==============================] - 5s 5ms/step - loss: 0.4736 - accuracy: 0.8643 - val_loss: 0.5574 - val_accuracy: 0.8471\n",
      "Epoch 17/20\n",
      "1050/1050 [==============================] - 5s 4ms/step - loss: 0.4667 - accuracy: 0.8663 - val_loss: 0.5534 - val_accuracy: 0.8488\n",
      "Epoch 18/20\n",
      "1050/1050 [==============================] - 5s 4ms/step - loss: 0.4569 - accuracy: 0.8696 - val_loss: 0.5592 - val_accuracy: 0.8498\n",
      "Epoch 19/20\n",
      "1050/1050 [==============================] - 6s 6ms/step - loss: 0.4486 - accuracy: 0.8701 - val_loss: 0.5476 - val_accuracy: 0.8479\n",
      "Epoch 20/20\n",
      "1050/1050 [==============================] - 4s 4ms/step - loss: 0.4431 - accuracy: 0.8712 - val_loss: 0.5449 - val_accuracy: 0.8536\n"
     ]
    }
   ],
   "source": [
    "history_3 = model_3.fit(X_train_4D, y_train_encode, validation_split=0.2, verbose=1, epochs=20, batch_size=32)"
   ]
  },
  {
   "cell_type": "markdown",
   "metadata": {
    "id": "JPzfIf9kKDNw"
   },
   "source": [
    "### **Plot the Training and Validation Accuracies and Write your observations.**"
   ]
  },
  {
   "cell_type": "code",
   "execution_count": 46,
   "metadata": {
    "colab": {
     "base_uri": "https://localhost:8080/",
     "height": 341
    },
    "id": "07oUCr1kAjQH",
    "outputId": "4d352430-0ff6-48d5-fd83-4c9303fd06dd"
   },
   "outputs": [
    {
     "data": {
      "image/png": "[encoded data removed]",
      "text/plain": [
       "<Figure size 1000x300 with 2 Axes>"
      ]
     },
     "metadata": {},
     "output_type": "display_data"
    }
   ],
   "source": [
    "plot_model_result(history_3, 'Model 3 (CNN)')"
   ]
  },
  {
   "cell_type": "markdown",
   "metadata": {
    "id": "P6zTLyp9AjQH"
   },
   "source": [
    "**Observations:**\n",
    "\n",
    "- The accuracy of the model in the training data is 88% meanwhile in the validation data is 85%\n",
    "- We can see from the above plot that the model has improved in the training data, however, there is some overfitting.\n"
   ]
  },
  {
   "cell_type": "markdown",
   "metadata": {
    "id": "Ukvtg2eMAjQH"
   },
   "source": [
    "Let's build another model and see if we can get a better model with generalized performance.\n",
    "\n",
    "First, we need to clear the previous model's history from the Keras backend. Also, let's fix the seed again after clearing the backend."
   ]
  },
  {
   "cell_type": "code",
   "execution_count": 47,
   "metadata": {
    "id": "HbKi93HTolGW"
   },
   "outputs": [],
   "source": [
    "# Clearing the keras model history\n",
    "backend.clear_session()\n",
    "\n",
    "# Fixing the seed\n",
    "np.random.seed(42)\n",
    "random.seed(42)\n",
    "tf.random.set_seed(42)"
   ]
  },
  {
   "cell_type": "markdown",
   "metadata": {
    "id": "Ep19Jd8HAjQH"
   },
   "source": [
    "### **Second Model Architecture**\n",
    "\n",
    "- Write a function that returns a sequential model with the following architecture:\n",
    " - First Convolutional layer with **16 filters and the kernel size of 3x3**. Use the **'same' padding** and provide the **input shape = (32, 32, 1)**\n",
    " - Add a **LeakyRelu layer** with the **slope equal to 0.1**\n",
    " - Second Convolutional layer with **32 filters and the kernel size of 3x3 with 'same' padding**\n",
    " - Add **LeakyRelu** with the **slope equal to 0.1**\n",
    " - Add a **max-pooling layer** with a **pool size of 2x2**\n",
    " - Add a **BatchNormalization layer**\n",
    " - Third Convolutional layer with **32 filters and the kernel size of 3x3 with 'same' padding**\n",
    " - Add a **LeakyRelu layer with the slope equal to 0.1**\n",
    " - Fourth Convolutional layer **64 filters and the kernel size of 3x3 with 'same' padding**\n",
    " - Add a **LeakyRelu layer with the slope equal to 0.1**\n",
    " - Add a **max-pooling layer** with a **pool size of 2x2**\n",
    " - Add a **BatchNormalization layer**\n",
    " - **Flatten** the output from the previous layer\n",
    " - Add a **dense layer with 32 nodes**\n",
    " - Add a **LeakyRelu layer with the slope equal to 0.1**\n",
    " - Add a **dropout layer with the rate equal to 0.5**\n",
    " - Add the final **output layer with nodes equal to the number of classes, i.e., 10** and **'softmax' as the activation function**\n",
    " - Compile the model with the **categorical_crossentropy loss, adam optimizers (learning_rate = 0.001), and metric equal to 'accuracy'**. Do not fit the model here, just return the compiled model.\n",
    "- Call the function cnn_model_2 and store the model in a new variable.\n",
    "- Print the summary of the model.\n",
    "- Fit the model on the train data with a **validation split of 0.2, batch size = 128, verbose = 1, and epochs = 30**. Store the model building history to use later for visualization."
   ]
  },
  {
   "cell_type": "code",
   "execution_count": 48,
   "metadata": {
    "id": "Vj_cSeqZIvkJ"
   },
   "outputs": [],
   "source": [
    "def cnn_model_2():\n",
    "    model = Sequential([\n",
    "        Conv2D(filters=16, kernel_size=(3, 3), padding=\"same\", input_shape=(32, 32, 1)),\n",
    "        LeakyReLU(0.1),\n",
    "        Conv2D(filters=32, kernel_size=(3, 3), padding=\"same\"),\n",
    "        LeakyReLU(0.1),\n",
    "        MaxPooling2D((2, 2)),\n",
    "        BatchNormalization(),\n",
    "        Conv2D(filters=32, kernel_size=(3, 3), padding=\"same\"),\n",
    "        LeakyReLU(0.1),\n",
    "        Conv2D(filters=64, kernel_size=(3, 3), padding=\"same\"),\n",
    "        LeakyReLU(0.1),\n",
    "        MaxPooling2D(pool_size = (2, 2)),\n",
    "        BatchNormalization(),\n",
    "        Flatten(),\n",
    "        Dense(32),\n",
    "        LeakyReLU(0.1),\n",
    "        Dropout(0.5),\n",
    "        Dense(10, activation='softmax')\n",
    "    ])\n",
    "\n",
    "    # Compile the model\n",
    "    model.compile(optimizer=Adam(learning_rate=0.0001), loss='categorical_crossentropy', metrics=['accuracy'])\n",
    "\n",
    "    return model"
   ]
  },
  {
   "cell_type": "markdown",
   "metadata": {
    "id": "y5IBLS1eKDNy"
   },
   "source": [
    "### **Build and train the second CNN model as per the above mentioned architecture.**"
   ]
  },
  {
   "cell_type": "code",
   "execution_count": 49,
   "metadata": {
    "colab": {
     "base_uri": "https://localhost:8080/"
    },
    "id": "wk9sl2UEAjQH",
    "outputId": "462b2324-739d-4dc2-e816-bb5f8b627c38"
   },
   "outputs": [
    {
     "name": "stdout",
     "output_type": "stream",
     "text": [
      "Model: \"sequential\"\n",
      "_________________________________________________________________\n",
      " Layer (type)                Output Shape              Param #   \n",
      "=================================================================\n",
      " conv2d (Conv2D)             (None, 32, 32, 16)        160       \n",
      "                                                                 \n",
      " leaky_re_lu (LeakyReLU)     (None, 32, 32, 16)        0         \n",
      "                                                                 \n",
      " conv2d_1 (Conv2D)           (None, 32, 32, 32)        4640      \n",
      "                                                                 \n",
      " leaky_re_lu_1 (LeakyReLU)   (None, 32, 32, 32)        0         \n",
      "                                                                 \n",
      " max_pooling2d (MaxPooling2D  (None, 16, 16, 32)       0         \n",
      " )                                                               \n",
      "                                                                 \n",
      " batch_normalization (BatchN  (None, 16, 16, 32)       128       \n",
      " ormalization)                                                   \n",
      "                                                                 \n",
      " conv2d_2 (Conv2D)           (None, 16, 16, 32)        9248      \n",
      "                                                                 \n",
      " leaky_re_lu_2 (LeakyReLU)   (None, 16, 16, 32)        0         \n",
      "                                                                 \n",
      " conv2d_3 (Conv2D)           (None, 16, 16, 64)        18496     \n",
      "                                                                 \n",
      " leaky_re_lu_3 (LeakyReLU)   (None, 16, 16, 64)        0         \n",
      "                                                                 \n",
      " max_pooling2d_1 (MaxPooling  (None, 8, 8, 64)         0         \n",
      " 2D)                                                             \n",
      "                                                                 \n",
      " batch_normalization_1 (Batc  (None, 8, 8, 64)         256       \n",
      " hNormalization)                                                 \n",
      "                                                                 \n",
      " flatten (Flatten)           (None, 4096)              0         \n",
      "                                                                 \n",
      " dense (Dense)               (None, 32)                131104    \n",
      "                                                                 \n",
      " leaky_re_lu_4 (LeakyReLU)   (None, 32)                0         \n",
      "                                                                 \n",
      " dropout (Dropout)           (None, 32)                0         \n",
      "                                                                 \n",
      " dense_1 (Dense)             (None, 10)                330       \n",
      "                                                                 \n",
      "=================================================================\n",
      "Total params: 164,362\n",
      "Trainable params: 164,170\n",
      "Non-trainable params: 192\n",
      "_________________________________________________________________\n"
     ]
    }
   ],
   "source": [
    "model_4 = cnn_model_2()\n",
    "model_4.summary()"
   ]
  },
  {
   "cell_type": "code",
   "execution_count": 50,
   "metadata": {
    "colab": {
     "base_uri": "https://localhost:8080/"
    },
    "id": "GJuJGz_MOYg8",
    "outputId": "a2227d04-75d9-4fc6-d5fa-2205a12601e6"
   },
   "outputs": [
    {
     "data": {
      "text/plain": [
       "262.5"
      ]
     },
     "execution_count": 50,
     "metadata": {},
     "output_type": "execute_result"
    }
   ],
   "source": [
    "# Batches in each Epoch\n",
    "X_train_4D.shape[0]*0.8/128"
   ]
  },
  {
   "cell_type": "code",
   "execution_count": 51,
   "metadata": {
    "colab": {
     "base_uri": "https://localhost:8080/"
    },
    "id": "lUVmvH14Oa6Y",
    "outputId": "2d298ca5-d66e-4ace-e3d8-818c93ebb8ed"
   },
   "outputs": [
    {
     "name": "stdout",
     "output_type": "stream",
     "text": [
      "Epoch 1/30\n",
      "263/263 [==============================] - 7s 13ms/step - loss: 2.1486 - accuracy: 0.2146 - val_loss: 2.2977 - val_accuracy: 0.1195\n",
      "Epoch 2/30\n",
      "263/263 [==============================] - 3s 10ms/step - loss: 1.4167 - accuracy: 0.5125 - val_loss: 1.3356 - val_accuracy: 0.6020\n",
      "Epoch 3/30\n",
      "263/263 [==============================] - 3s 10ms/step - loss: 1.0299 - accuracy: 0.6637 - val_loss: 0.7679 - val_accuracy: 0.7915\n",
      "Epoch 4/30\n",
      "263/263 [==============================] - 2s 9ms/step - loss: 0.8641 - accuracy: 0.7259 - val_loss: 0.6058 - val_accuracy: 0.8346\n",
      "Epoch 5/30\n",
      "263/263 [==============================] - 3s 10ms/step - loss: 0.7683 - accuracy: 0.7591 - val_loss: 0.5631 - val_accuracy: 0.8423\n",
      "Epoch 6/30\n",
      "263/263 [==============================] - 3s 12ms/step - loss: 0.7097 - accuracy: 0.7767 - val_loss: 0.5257 - val_accuracy: 0.8533\n",
      "Epoch 7/30\n",
      "263/263 [==============================] - 3s 10ms/step - loss: 0.6709 - accuracy: 0.7930 - val_loss: 0.4847 - val_accuracy: 0.8608\n",
      "Epoch 8/30\n",
      "263/263 [==============================] - 3s 10ms/step - loss: 0.6294 - accuracy: 0.8022 - val_loss: 0.4854 - val_accuracy: 0.8620\n",
      "Epoch 9/30\n",
      "263/263 [==============================] - 3s 10ms/step - loss: 0.5946 - accuracy: 0.8154 - val_loss: 0.4752 - val_accuracy: 0.8650\n",
      "Epoch 10/30\n",
      "263/263 [==============================] - 3s 11ms/step - loss: 0.5738 - accuracy: 0.8238 - val_loss: 0.4338 - val_accuracy: 0.8740\n",
      "Epoch 11/30\n",
      "263/263 [==============================] - 3s 11ms/step - loss: 0.5449 - accuracy: 0.8317 - val_loss: 0.4272 - val_accuracy: 0.8768\n",
      "Epoch 12/30\n",
      "263/263 [==============================] - 3s 10ms/step - loss: 0.5268 - accuracy: 0.8370 - val_loss: 0.4428 - val_accuracy: 0.8670\n",
      "Epoch 13/30\n",
      "263/263 [==============================] - 3s 10ms/step - loss: 0.5090 - accuracy: 0.8423 - val_loss: 0.4124 - val_accuracy: 0.8857\n",
      "Epoch 14/30\n",
      "263/263 [==============================] - 3s 10ms/step - loss: 0.4886 - accuracy: 0.8489 - val_loss: 0.4015 - val_accuracy: 0.8885\n",
      "Epoch 15/30\n",
      "263/263 [==============================] - 3s 11ms/step - loss: 0.4753 - accuracy: 0.8519 - val_loss: 0.3893 - val_accuracy: 0.8876\n",
      "Epoch 16/30\n",
      "263/263 [==============================] - 3s 11ms/step - loss: 0.4579 - accuracy: 0.8592 - val_loss: 0.3916 - val_accuracy: 0.8861\n",
      "Epoch 17/30\n",
      "263/263 [==============================] - 3s 10ms/step - loss: 0.4444 - accuracy: 0.8636 - val_loss: 0.3997 - val_accuracy: 0.8865\n",
      "Epoch 18/30\n",
      "263/263 [==============================] - 3s 10ms/step - loss: 0.4341 - accuracy: 0.8652 - val_loss: 0.3716 - val_accuracy: 0.8955\n",
      "Epoch 19/30\n",
      "263/263 [==============================] - 3s 10ms/step - loss: 0.4172 - accuracy: 0.8698 - val_loss: 0.3712 - val_accuracy: 0.8915\n",
      "Epoch 20/30\n",
      "263/263 [==============================] - 3s 10ms/step - loss: 0.4090 - accuracy: 0.8724 - val_loss: 0.3675 - val_accuracy: 0.8952\n",
      "Epoch 21/30\n",
      "263/263 [==============================] - 3s 11ms/step - loss: 0.3910 - accuracy: 0.8766 - val_loss: 0.3649 - val_accuracy: 0.8944\n",
      "Epoch 22/30\n",
      "263/263 [==============================] - 3s 10ms/step - loss: 0.3814 - accuracy: 0.8794 - val_loss: 0.3548 - val_accuracy: 0.8999\n",
      "Epoch 23/30\n",
      "263/263 [==============================] - 2s 9ms/step - loss: 0.3759 - accuracy: 0.8816 - val_loss: 0.3570 - val_accuracy: 0.9011\n",
      "Epoch 24/30\n",
      "263/263 [==============================] - 2s 9ms/step - loss: 0.3666 - accuracy: 0.8864 - val_loss: 0.3575 - val_accuracy: 0.8995\n",
      "Epoch 25/30\n",
      "263/263 [==============================] - 3s 10ms/step - loss: 0.3521 - accuracy: 0.8882 - val_loss: 0.3571 - val_accuracy: 0.8996\n",
      "Epoch 26/30\n",
      "263/263 [==============================] - 3s 11ms/step - loss: 0.3495 - accuracy: 0.8913 - val_loss: 0.3572 - val_accuracy: 0.8973\n",
      "Epoch 27/30\n",
      "263/263 [==============================] - 3s 10ms/step - loss: 0.3406 - accuracy: 0.8929 - val_loss: 0.3487 - val_accuracy: 0.9024\n",
      "Epoch 28/30\n",
      "263/263 [==============================] - 2s 9ms/step - loss: 0.3297 - accuracy: 0.8975 - val_loss: 0.3525 - val_accuracy: 0.9002\n",
      "Epoch 29/30\n",
      "263/263 [==============================] - 3s 10ms/step - loss: 0.3195 - accuracy: 0.9000 - val_loss: 0.3507 - val_accuracy: 0.9012\n",
      "Epoch 30/30\n",
      "263/263 [==============================] - 2s 9ms/step - loss: 0.3151 - accuracy: 0.8987 - val_loss: 0.3477 - val_accuracy: 0.9020\n"
     ]
    }
   ],
   "source": [
    "history_4 = model_4.fit(X_train_4D, y_train_encode, validation_split=0.2, verbose=1, epochs=30, batch_size=128)"
   ]
  },
  {
   "cell_type": "markdown",
   "metadata": {
    "id": "PyhUtMy3KDN1"
   },
   "source": [
    "### **Plot the Training and Validation accuracies and write your observations.**"
   ]
  },
  {
   "cell_type": "code",
   "execution_count": 52,
   "metadata": {
    "colab": {
     "base_uri": "https://localhost:8080/",
     "height": 341
    },
    "id": "YVQu7uWiAjQH",
    "outputId": "8a1e25e6-22f7-427b-d226-69fff2f67342"
   },
   "outputs": [
    {
     "data": {
      "image/png": "[encoded data removed]",
      "text/plain": [
       "<Figure size 1000x300 with 2 Axes>"
      ]
     },
     "metadata": {},
     "output_type": "display_data"
    }
   ],
   "source": [
    "plot_model_result(history_4, 'Model 4 (CNN)')"
   ]
  },
  {
   "cell_type": "markdown",
   "metadata": {
    "id": "Qrrt0Ac3AjQH"
   },
   "source": [
    "**Observations:**\n",
    "\n",
    "- The validation accuracy has improved substantially and the problem of overfitting has been solved. We can say that the model is giving a generalized performance.\n",
    "- It has achieved 90.07% accuracy in training set as in validation set."
   ]
  },
  {
   "cell_type": "markdown",
   "metadata": {
    "id": "kja4SnOdAjQI"
   },
   "source": [
    "## **Predictions on the test data**\n",
    "\n",
    "- Make predictions on the test set using the second model.\n",
    "- Print the obtained results using the classification report and the confusion matrix.\n",
    "- Final observations on the obtained results."
   ]
  },
  {
   "cell_type": "markdown",
   "metadata": {
    "id": "eHCRwRbgKDN2"
   },
   "source": [
    "### **Make predictions on the test data using the second model.**"
   ]
  },
  {
   "cell_type": "code",
   "execution_count": 53,
   "metadata": {
    "colab": {
     "base_uri": "https://localhost:8080/"
    },
    "id": "f1d-VvaLAjQI",
    "outputId": "3e27b138-92ea-4619-e58f-5f0f3f8bd0cf"
   },
   "outputs": [
    {
     "name": "stdout",
     "output_type": "stream",
     "text": [
      "563/563 [==============================] - 1s 2ms/step\n",
      "\n",
      "First 10 predicted values:\n",
      "[1, 7, 2, 9, 0, 9, 1, 5, 4, 4]\n",
      "\n"
     ]
    }
   ],
   "source": [
    "# Make predictions on the test set\n",
    "y_pred = model_4.predict(X_test_4D)\n",
    "y_pred = [np.argmax(i) for i in y_pred]\n",
    "print(f\"\"\"\n",
    "First 10 predicted values:\n",
    "{y_pred[:10]}\n",
    "\"\"\")"
   ]
  },
  {
   "cell_type": "markdown",
   "metadata": {
    "id": "DrV1tOG0AjQI"
   },
   "source": [
    "**Note:** Earlier, we noticed that each entry of the target variable is a one-hot encoded vector, but to print the classification report and confusion matrix, we must convert each entry of y_test to a single label."
   ]
  },
  {
   "cell_type": "code",
   "execution_count": 54,
   "metadata": {
    "colab": {
     "base_uri": "https://localhost:8080/"
    },
    "id": "dUSHU9W0AjQI",
    "outputId": "63cc188d-23b2-4c34-a3d3-1d6b43a22e10"
   },
   "outputs": [
    {
     "data": {
      "text/plain": [
       "array([[1702,   19,   13,    3,    6,    3,   25,    8,    6,   29],\n",
       "       [  24, 1640,   17,   16,   47,    4,   17,   40,   12,   11],\n",
       "       [  12,   18, 1648,    9,   19,    6,    5,   33,   14,   39],\n",
       "       [   8,   12,   34, 1449,   22,   87,   30,   17,   34,   26],\n",
       "       [  12,   34,   24,    9, 1670,    1,   18,    9,   13,   22],\n",
       "       [   7,    8,    8,   54,    9, 1576,   58,    8,   16,   24],\n",
       "       [  34,   10,   16,   11,   23,   43, 1625,    5,   53,   12],\n",
       "       [  15,   33,   27,   15,   18,    4,   10, 1672,    3,   11],\n",
       "       [  30,   18,   12,   40,   12,   18,   58,    7, 1574,   43],\n",
       "       [  49,   16,   20,   15,   16,   28,   12,   17,   29, 1602]])"
      ]
     },
     "execution_count": 54,
     "metadata": {},
     "output_type": "execute_result"
    }
   ],
   "source": [
    "# Confusion matrix\n",
    "cm = confusion_matrix([int(x) for x in y_test], y_pred)\n",
    "cm"
   ]
  },
  {
   "cell_type": "code",
   "execution_count": 55,
   "metadata": {
    "colab": {
     "base_uri": "https://localhost:8080/",
     "height": 487
    },
    "id": "41RqMKpclZeY",
    "outputId": "1a851672-33a3-49f5-d5cd-f6411ecaaaa7"
   },
   "outputs": [
    {
     "data": {
      "image/png": "[encoded data removed]",
      "text/plain": [
       "<Figure size 500x500 with 1 Axes>"
      ]
     },
     "metadata": {},
     "output_type": "display_data"
    }
   ],
   "source": [
    "# Plotting the confusion matrix\n",
    "plot_confussion_matrix(cm, 'Model 2')"
   ]
  },
  {
   "cell_type": "code",
   "execution_count": 56,
   "metadata": {
    "colab": {
     "base_uri": "https://localhost:8080/"
    },
    "id": "eaerTEi5lbP5",
    "outputId": "64edb794-884b-4795-a02b-04717a8b62df"
   },
   "outputs": [
    {
     "name": "stdout",
     "output_type": "stream",
     "text": [
      "              precision    recall  f1-score   support\n",
      "\n",
      "           0       0.90      0.94      0.92      1814\n",
      "           1       0.91      0.90      0.90      1828\n",
      "           2       0.91      0.91      0.91      1803\n",
      "           3       0.89      0.84      0.87      1719\n",
      "           4       0.91      0.92      0.91      1812\n",
      "           5       0.89      0.89      0.89      1768\n",
      "           6       0.87      0.89      0.88      1832\n",
      "           7       0.92      0.92      0.92      1808\n",
      "           8       0.90      0.87      0.88      1812\n",
      "           9       0.88      0.89      0.88      1804\n",
      "\n",
      "    accuracy                           0.90     18000\n",
      "   macro avg       0.90      0.90      0.90     18000\n",
      "weighted avg       0.90      0.90      0.90     18000\n",
      "\n"
     ]
    }
   ],
   "source": [
    "print(classification_report(y_test, y_pred))"
   ]
  },
  {
   "cell_type": "markdown",
   "metadata": {
    "id": "aVCa-ysWKDN3"
   },
   "source": [
    "### **Write your final observations on the performance of the model on the test data.**"
   ]
  },
  {
   "cell_type": "markdown",
   "metadata": {
    "id": "TNN9v713AjQJ"
   },
   "source": [
    "**Final Observations:**\n",
    "\n",
    "- The last model seems very promising now. The validation accuracy has improved substantially and the problem of overfitting has been solved. We can say that the model is giving a generalized performance.\n",
    "- It achieve 90% accuracy in training and testing data set.\n",
    "- Maybe more hidden layers in feature extraction and in prediction layers can improve the accuracy of the model."
   ]
  }
 ],
 "metadata": {
  "accelerator": "GPU",
  "colab": {
   "gpuType": "T4",
   "provenance": []
  },
  "kernelspec": {
   "display_name": "Python 3 (ipykernel)",
   "language": "python",
   "name": "python3"
  },
  "language_info": {
   "codemirror_mode": {
    "name": "ipython",
    "version": 3
   },
   "file_extension": ".py",
   "mimetype": "text/x-python",
   "name": "python",
   "nbconvert_exporter": "python",
   "pygments_lexer": "ipython3",
   "version": "3.10.11"
  }
 },
 "nbformat": 4,
 "nbformat_minor": 1
}
