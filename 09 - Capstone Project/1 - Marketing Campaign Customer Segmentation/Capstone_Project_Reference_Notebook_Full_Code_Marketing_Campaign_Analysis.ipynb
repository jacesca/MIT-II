{
  "cells": [
    {
      "cell_type": "markdown",
      "id": "38365d44",
      "metadata": {
        "id": "38365d44"
      },
      "source": [
        "# **Marketing Campaign Analysis**"
      ]
    },
    {
      "cell_type": "markdown",
      "id": "b70cedf1",
      "metadata": {
        "id": "b70cedf1"
      },
      "source": [
        "## **Problem Definition**\n",
        "\n",
        "### **The Context:**\n",
        "\n",
        " - Why is this problem important to solve?\n",
        "\n",
        "### **The objective:**\n",
        "\n",
        " - What is the intended goal?\n",
        "\n",
        "### **The key questions:**\n",
        "\n",
        "- What are the key questions that need to be answered?\n",
        "\n",
        "### **The problem formulation**:\n",
        "\n",
        "- What is it that we are trying to solve using data science?"
      ]
    },
    {
      "cell_type": "markdown",
      "id": "bd434483",
      "metadata": {
        "id": "bd434483"
      },
      "source": [
        "------------------------------\n",
        "## **Data Dictionary**\n",
        "------------------------------\n",
        "\n",
        "The dataset contains the following features:\n",
        "\n",
        "1. ID: Unique ID of each customer\n",
        "2. Year_Birth: Customer’s year of birth\n",
        "3. Education: Customer's level of education\n",
        "4. Marital_Status: Customer's marital status\n",
        "5. Kidhome: Number of small children in customer's household\n",
        "6. Teenhome: Number of teenagers in customer's household\n",
        "7. Income: Customer's yearly household income in USD\n",
        "8. Recency: Number of days since the last purchase\n",
        "9. Dt_Customer: Date of customer's enrollment with the company\n",
        "10. MntFishProducts: The amount spent on fish products in the last 2 years\n",
        "11. MntMeatProducts: The amount spent on meat products in the last 2 years\n",
        "12. MntFruits: The amount spent on fruits products in the last 2 years\n",
        "13. MntSweetProducts: Amount spent on sweet products in the last 2 years\n",
        "14. MntWines: The amount spent on wine products in the last 2 years\n",
        "15. MntGoldProds: The amount spent on gold products in the last 2 years\n",
        "16. NumDealsPurchases: Number of purchases made with discount\n",
        "17. NumCatalogPurchases: Number of purchases made using a catalog (buying goods to be shipped through the mail)\n",
        "18. NumStorePurchases: Number of purchases made directly in stores\n",
        "19. NumWebPurchases: Number of purchases made through the company's website\n",
        "20. NumWebVisitsMonth: Number of visits to the company's website in the last month\n",
        "21. AcceptedCmp1: 1 if customer accepted the offer in the first campaign, 0 otherwise\n",
        "22. AcceptedCmp2: 1 if customer accepted the offer in the second campaign, 0 otherwise\n",
        "23. AcceptedCmp3: 1 if customer accepted the offer in the third campaign, 0 otherwise\n",
        "24. AcceptedCmp4: 1 if customer accepted the offer in the fourth campaign, 0 otherwise\n",
        "25. AcceptedCmp5: 1 if customer accepted the offer in the fifth campaign, 0 otherwise\n",
        "26. Response: 1 if customer accepted the offer in the last campaign, 0 otherwise\n",
        "27. Complain: 1 If the customer complained in the last 2 years, 0 otherwise\n",
        "\n",
        "**Note:** You can assume that the data is collected in the year 2016."
      ]
    },
    {
      "cell_type": "markdown",
      "id": "vEUKOiz5-Qld",
      "metadata": {
        "id": "vEUKOiz5-Qld"
      },
      "source": [
        "## **Import the necessary libraries and load the data**"
      ]
    },
    {
      "cell_type": "code",
      "execution_count": null,
      "id": "4297cf5d",
      "metadata": {
        "id": "4297cf5d"
      },
      "outputs": [],
      "source": []
    },
    {
      "cell_type": "markdown",
      "id": "3e64e53a",
      "metadata": {
        "id": "3e64e53a"
      },
      "source": [
        "## **Data Overview**"
      ]
    },
    {
      "cell_type": "markdown",
      "source": [
        "- Reading the dataset\n",
        "- Understanding the shape of the dataset\n",
        "- Checking the data types\n",
        "- Checking for missing values\n",
        "- Checking for duplicated values\n",
        "- Drop the column which has no null values"
      ],
      "metadata": {
        "id": "dLHyWKFegEZV"
      },
      "id": "dLHyWKFegEZV"
    },
    {
      "cell_type": "code",
      "execution_count": null,
      "id": "e94b4947",
      "metadata": {
        "id": "e94b4947"
      },
      "outputs": [],
      "source": []
    },
    {
      "cell_type": "markdown",
      "source": [
        "#### **Observations and Insights from the Data overview: _____**"
      ],
      "metadata": {
        "id": "lfXnym4Bgufw"
      },
      "id": "lfXnym4Bgufw"
    },
    {
      "cell_type": "markdown",
      "id": "835c10c4",
      "metadata": {
        "id": "835c10c4"
      },
      "source": [
        "## **Exploratory Data Analysis (EDA)**\n"
      ]
    },
    {
      "cell_type": "markdown",
      "source": [
        "- EDA is an important part of any project involving data.\n",
        "- It is important to investigate and understand the data better before building a model with it.\n",
        "- A few questions have been mentioned below which will help you approach the analysis in the right manner and generate insights from the data.\n",
        "- A thorough analysis of the data, in addition to the questions mentioned below, should be done."
      ],
      "metadata": {
        "id": "2zYxiLoXE_LQ"
      },
      "id": "2zYxiLoXE_LQ"
    },
    {
      "cell_type": "markdown",
      "source": [
        "**Questions:**\n",
        "\n",
        "1. What is the summary statistics of the data? Explore summary statistics for numerical variables and the categorical variables\n",
        "2. Find out number of unique observations in each category of categorical columns? Write your findings/observations/insights\n",
        "3. Are all categories different from each other or can we combine some categories? Is 2n Cycle different from Master?\n",
        "4. There are 8 categories in Marital_Status with some categories having very low count of less than 5. Can we combine these categories with other categories?"
      ],
      "metadata": {
        "id": "J8MjGKsX4EOP"
      },
      "id": "J8MjGKsX4EOP"
    },
    {
      "cell_type": "code",
      "source": [],
      "metadata": {
        "id": "uY4PleIQFGN5"
      },
      "id": "uY4PleIQFGN5",
      "execution_count": null,
      "outputs": []
    },
    {
      "cell_type": "markdown",
      "id": "356c9bc7",
      "metadata": {
        "id": "356c9bc7"
      },
      "source": [
        "### **Univariate Analysis on Numerical and Categorical data**\n",
        "\n",
        "Univariate analysis is used to explore each variable in a data set, separately. It looks at the range of values, as well as the central tendency of the values. It can be done for both numerical and categorical variables. "
      ]
    },
    {
      "cell_type": "markdown",
      "source": [
        "- Plot histogram and box plot for different numerical features and understand how the data looks like.\n",
        "- Explore the categorical variables like Education, Kidhome, Teenhome, Complain.\n",
        "- A few questions have been mentioned below which will help you approach the analysis in the right manner and generate insights from the data.\n",
        "- A thorough analysis of the data, in addition to the questions mentioned below, should be done.\n",
        "\n",
        "**Leading Questions**:\n",
        "1. How does the distribution of Income variable vary across the dataset?\n",
        "2. The histogram and the box plot are showing some extreme value on the right side of the distribution of the 'Income' feature. Can we consider them as outliers and remove or should we analyze these extreme values?\n",
        "3. There are only a few rows with extreme values for the Income variable. Is that enough information to treat (or not to treat) them? At what percentile the upper whisker lies?\n"
      ],
      "metadata": {
        "id": "T-yncLSIVHgI"
      },
      "id": "T-yncLSIVHgI"
    },
    {
      "cell_type": "code",
      "source": [],
      "metadata": {
        "id": "y9Zaf_achuT7"
      },
      "id": "y9Zaf_achuT7",
      "execution_count": null,
      "outputs": []
    },
    {
      "cell_type": "markdown",
      "id": "818f6411",
      "metadata": {
        "id": "818f6411"
      },
      "source": [
        "### **Bivariate Analysis**"
      ]
    },
    {
      "cell_type": "markdown",
      "source": [
        " - Analyze different categorical and numerical variables and check how different variables are related to each other.\n",
        " - Check the relationship of numerical variables with categorical variables."
      ],
      "metadata": {
        "id": "CoRHBr-26Yhi"
      },
      "id": "CoRHBr-26Yhi"
    },
    {
      "cell_type": "code",
      "source": [],
      "metadata": {
        "id": "WEpJ1urGh5g2"
      },
      "id": "WEpJ1urGh5g2",
      "execution_count": null,
      "outputs": []
    },
    {
      "cell_type": "markdown",
      "id": "7e81e35d",
      "metadata": {
        "id": "7e81e35d"
      },
      "source": [
        "### **Feature Engineering and Data Processing**\n",
        "\n",
        "In this section, we will first prepare our dataset for analysis.\n",
        "- Imputing missing values"
      ]
    },
    {
      "cell_type": "markdown",
      "source": [
        "**Think About It:**\n",
        "\n",
        "- Can we extract the age of each customer and create a new feature?\n",
        "- Can we find the total kids and teens in the home?\n",
        "- Can we find out how many members each family has?\n",
        "- Can we find the total amount spent by the customers on various products?\n",
        "- Can we find out how long the customer has been with the company?\n",
        "- Can we find out how many offers the customers have accepted?\n",
        "- Can we find out amount spent per purchase?\n",
        "\n"
      ],
      "metadata": {
        "id": "yLAzPHncD41n"
      },
      "id": "yLAzPHncD41n"
    },
    {
      "cell_type": "code",
      "source": [],
      "metadata": {
        "id": "JHNIm6ZhiZ_E"
      },
      "id": "JHNIm6ZhiZ_E",
      "execution_count": null,
      "outputs": []
    },
    {
      "cell_type": "markdown",
      "id": "98dd0473",
      "metadata": {
        "id": "98dd0473"
      },
      "source": [
        "## **Important Insights from EDA and Data Preprocessing**\n",
        "\n",
        "What are the the most important observations and insights from the data based on the EDA and Data Preprocessing performed?"
      ]
    },
    {
      "cell_type": "markdown",
      "metadata": {
        "id": "fac2abaf"
      },
      "source": [
        "## **Data Preparation for Segmentation**"
      ],
      "id": "fac2abaf"
    },
    {
      "cell_type": "markdown",
      "source": [
        "- The decision about which variables to use for clustering is a critically important decision that will have a big impact on the clustering solution. So we need to think carefully about the variables we will choose for clustering. Clearly, this is a step where a lot of contextual knowledge, creativity, and experimentation/iterations are needed.\n",
        "- Moreover, we often use only a few of the data attributes for segmentation (the segmentation attributes) and use some of the remaining ones (the profiling attributes) only to profile the clusters. For example, in market research and market segmentation, we can use behavioral data for segmentation (to segment the customers based on their behavior like amount spent, units bought, etc.), and then use both demographic as well as behavioral data for profiling the segments found.\n",
        "- Plot the correlation plot after we've removed the irrelevant variables\n",
        "- Scale the Data"
      ],
      "metadata": {
        "id": "74mLgR3qMO8B"
      },
      "id": "74mLgR3qMO8B"
    },
    {
      "cell_type": "code",
      "execution_count": null,
      "metadata": {
        "scrolled": true,
        "id": "2d39752f"
      },
      "outputs": [],
      "source": [],
      "id": "2d39752f"
    },
    {
      "cell_type": "markdown",
      "metadata": {
        "id": "9c1a656f"
      },
      "source": [
        "## **Applying T-SNE and PCA to the data to visualize the data distributed in 2 dimensions**"
      ],
      "id": "9c1a656f"
    },
    {
      "cell_type": "markdown",
      "metadata": {
        "id": "f0324acb"
      },
      "source": [
        "### **Applying T-SNE**"
      ],
      "id": "f0324acb"
    },
    {
      "cell_type": "code",
      "execution_count": null,
      "metadata": {
        "id": "c2c3539d"
      },
      "outputs": [],
      "source": [],
      "id": "c2c3539d"
    },
    {
      "cell_type": "markdown",
      "metadata": {
        "id": "2a5f30dc"
      },
      "source": [
        "**Observation and Insights:**"
      ],
      "id": "2a5f30dc"
    },
    {
      "cell_type": "markdown",
      "metadata": {
        "id": "c4f715ff"
      },
      "source": [
        "### **Applying PCA**"
      ],
      "id": "c4f715ff"
    },
    {
      "cell_type": "markdown",
      "source": [
        "**Think about it:**\n",
        "- Should we apply clustering algorithms on the current data or should we apply PCA on the data before applying clustering algorithms? How would this help?"
      ],
      "metadata": {
        "id": "YiGHgvYqOZV9"
      },
      "id": "YiGHgvYqOZV9"
    },
    {
      "cell_type": "code",
      "execution_count": null,
      "metadata": {
        "id": "482ba0e6"
      },
      "outputs": [],
      "source": [],
      "id": "482ba0e6"
    },
    {
      "cell_type": "markdown",
      "source": [
        "**Observation and Insights:**"
      ],
      "metadata": {
        "id": "EYCks4OMl3Xi"
      },
      "id": "EYCks4OMl3Xi"
    },
    {
      "cell_type": "markdown",
      "metadata": {
        "id": "f55dd08b"
      },
      "source": [
        "## **K-Means** "
      ],
      "id": "f55dd08b"
    },
    {
      "cell_type": "markdown",
      "source": [
        "**Think About It:**\n",
        "\n",
        "- How do we determine the optimal K value from the elbow curve?\n",
        "- Which metric can be used to determine the final K value?"
      ],
      "metadata": {
        "id": "69yBCcuvQ1Nc"
      },
      "id": "69yBCcuvQ1Nc"
    },
    {
      "cell_type": "code",
      "source": [],
      "metadata": {
        "id": "WW1hZCDcmXUy"
      },
      "id": "WW1hZCDcmXUy",
      "execution_count": null,
      "outputs": []
    },
    {
      "cell_type": "markdown",
      "source": [
        "### **Applying KMeans on the PCA data and visualize the clusters**"
      ],
      "metadata": {
        "id": "i2qftTNb3C5u"
      },
      "id": "i2qftTNb3C5u"
    },
    {
      "cell_type": "code",
      "source": [],
      "metadata": {
        "id": "2YXMXyGw3QFj"
      },
      "id": "2YXMXyGw3QFj",
      "execution_count": null,
      "outputs": []
    },
    {
      "cell_type": "markdown",
      "metadata": {
        "id": "9ddfd387"
      },
      "source": [
        "### **Cluster Profiling**"
      ],
      "id": "9ddfd387"
    },
    {
      "cell_type": "code",
      "source": [],
      "metadata": {
        "id": "Q4Rr3IOM34l3"
      },
      "id": "Q4Rr3IOM34l3",
      "execution_count": null,
      "outputs": []
    },
    {
      "cell_type": "markdown",
      "metadata": {
        "id": "04f3b350"
      },
      "source": [
        "**Observations and Insights:**"
      ],
      "id": "04f3b350"
    },
    {
      "cell_type": "markdown",
      "metadata": {
        "id": "6kNP0X8BobMX"
      },
      "source": [
        "### **Describe the characteristics of each cluster**"
      ],
      "id": "6kNP0X8BobMX"
    },
    {
      "cell_type": "markdown",
      "source": [
        "**Think About It:**\n",
        "- Are the K-Means profiles providing any deep insights into customer purchasing behavior or which channels they are using?\n",
        "- What is the next step to get more meaningful insights? "
      ],
      "metadata": {
        "id": "lAewrFmMbJik"
      },
      "id": "lAewrFmMbJik"
    },
    {
      "cell_type": "markdown",
      "source": [
        "**Summary of each cluster:**"
      ],
      "metadata": {
        "id": "hrz6-KZyobMX"
      },
      "id": "hrz6-KZyobMX"
    },
    {
      "cell_type": "markdown",
      "metadata": {
        "id": "e598e6d5"
      },
      "source": [
        "## **K-Medoids**"
      ],
      "id": "e598e6d5"
    },
    {
      "cell_type": "code",
      "source": [],
      "metadata": {
        "id": "G05-d99Um5fY"
      },
      "id": "G05-d99Um5fY",
      "execution_count": null,
      "outputs": []
    },
    {
      "cell_type": "markdown",
      "metadata": {
        "id": "Ca8skH4CdId8"
      },
      "source": [
        "### **Visualize the clusters using PCA**"
      ],
      "id": "Ca8skH4CdId8"
    },
    {
      "cell_type": "code",
      "execution_count": null,
      "metadata": {
        "id": "Q4PvyFbidId8"
      },
      "outputs": [],
      "source": [],
      "id": "Q4PvyFbidId8"
    },
    {
      "cell_type": "markdown",
      "metadata": {
        "id": "ef5c9271"
      },
      "source": [
        "### **Cluster Profiling**"
      ],
      "id": "ef5c9271"
    },
    {
      "cell_type": "code",
      "source": [],
      "metadata": {
        "id": "N_LoydlVm_vG"
      },
      "id": "N_LoydlVm_vG",
      "execution_count": null,
      "outputs": []
    },
    {
      "cell_type": "markdown",
      "source": [
        "**Observations and Insights:**"
      ],
      "metadata": {
        "id": "rb83eSLOnTX3"
      },
      "id": "rb83eSLOnTX3"
    },
    {
      "cell_type": "markdown",
      "metadata": {
        "id": "P8lQGHcPoYfo"
      },
      "source": [
        "### **Characteristics of each cluster**"
      ],
      "id": "P8lQGHcPoYfo"
    },
    {
      "cell_type": "markdown",
      "source": [
        "**Summary for each cluster:**"
      ],
      "metadata": {
        "id": "iXthDg74oYfp"
      },
      "id": "iXthDg74oYfp"
    },
    {
      "cell_type": "markdown",
      "source": [
        "**Observations and Insights:**"
      ],
      "metadata": {
        "id": "-fhhkiVeLic9"
      },
      "id": "-fhhkiVeLic9"
    },
    {
      "cell_type": "markdown",
      "metadata": {
        "id": "424dd661"
      },
      "source": [
        "## **Hierarchical Clustering**"
      ],
      "id": "424dd661"
    },
    {
      "cell_type": "markdown",
      "metadata": {
        "id": "020ceab2"
      },
      "source": [
        "- Find the Cophenetic correlation for different distances with different linkage methods.\n",
        "- Create the dendrograms for different linkages \n",
        "- Explore different linkages with each distance metric"
      ],
      "id": "020ceab2"
    },
    {
      "cell_type": "code",
      "source": [],
      "metadata": {
        "id": "_qXn62IxnM4h"
      },
      "id": "_qXn62IxnM4h",
      "execution_count": null,
      "outputs": []
    },
    {
      "cell_type": "markdown",
      "source": [
        "**Think about it:**\n",
        "\n",
        "- Can we clearly decide the number of clusters based on where to cut the dendrogram horizontally?\n",
        "- What is the next step in obtaining number of clusters based on the dendrogram?\n",
        "- Are there any distinct clusters in any of the dendrograms?"
      ],
      "metadata": {
        "id": "tb8FYwP0bkg6"
      },
      "id": "tb8FYwP0bkg6"
    },
    {
      "cell_type": "markdown",
      "metadata": {
        "id": "O0Et2hRgctdi"
      },
      "source": [
        "### **Visualize the clusters using PCA**"
      ],
      "id": "O0Et2hRgctdi"
    },
    {
      "cell_type": "code",
      "execution_count": null,
      "metadata": {
        "id": "zZgFkIqectdj"
      },
      "outputs": [],
      "source": [],
      "id": "zZgFkIqectdj"
    },
    {
      "cell_type": "markdown",
      "metadata": {
        "id": "c87baf95"
      },
      "source": [
        "### **Cluster Profiling**"
      ],
      "id": "c87baf95"
    },
    {
      "cell_type": "code",
      "source": [],
      "metadata": {
        "id": "XCQATFclnWwU"
      },
      "id": "XCQATFclnWwU",
      "execution_count": null,
      "outputs": []
    },
    {
      "cell_type": "markdown",
      "source": [
        "**Observations and Insights:**"
      ],
      "metadata": {
        "id": "be81jPWbnXW7"
      },
      "id": "be81jPWbnXW7"
    },
    {
      "cell_type": "markdown",
      "metadata": {
        "id": "cNBgiuDPoTxy"
      },
      "source": [
        "### **Characteristics of each cluster**"
      ],
      "id": "cNBgiuDPoTxy"
    },
    {
      "cell_type": "markdown",
      "source": [
        "**Summary of each cluster:**"
      ],
      "metadata": {
        "id": "Rm9m3_vQoTxz"
      },
      "id": "Rm9m3_vQoTxz"
    },
    {
      "cell_type": "markdown",
      "metadata": {
        "id": "8e425520"
      },
      "source": [
        "## **DBSCAN**"
      ],
      "id": "8e425520"
    },
    {
      "cell_type": "markdown",
      "metadata": {
        "id": "5c941735"
      },
      "source": [
        "DBSCAN is a very powerful algorithm for finding high-density clusters, but the problem is determining the best set of hyperparameters to use with it. It includes two hyperparameters, `eps`, and `min samples`.\n",
        "\n",
        "Since it is an unsupervised algorithm, you have no control over it, unlike a supervised learning algorithm, which allows you to test your algorithm on a validation set. The approach we can follow is basically trying out a bunch of different combinations of values and finding the silhouette score for each of them."
      ],
      "id": "5c941735"
    },
    {
      "cell_type": "code",
      "execution_count": null,
      "metadata": {
        "id": "50ce94a1"
      },
      "outputs": [],
      "source": [],
      "id": "50ce94a1"
    },
    {
      "cell_type": "markdown",
      "source": [
        "### **Apply DBSCAN for the best hyperparameter and visualize the clusters from PCA**"
      ],
      "metadata": {
        "id": "lDF5BZgq5cti"
      },
      "id": "lDF5BZgq5cti"
    },
    {
      "cell_type": "code",
      "source": [],
      "metadata": {
        "id": "wppmxHpy5mCg"
      },
      "id": "wppmxHpy5mCg",
      "execution_count": null,
      "outputs": []
    },
    {
      "cell_type": "markdown",
      "metadata": {
        "id": "5a80374c"
      },
      "source": [
        "**Observations and Insights:**"
      ],
      "id": "5a80374c"
    },
    {
      "cell_type": "markdown",
      "source": [
        "**Think about it:**\n",
        "\n",
        "- Changing the eps and min sample values will result in different DBSCAN results? Can we try more value for eps and min_sample?"
      ],
      "metadata": {
        "id": "EeB6BT9Oc-CE"
      },
      "id": "EeB6BT9Oc-CE"
    },
    {
      "cell_type": "markdown",
      "metadata": {
        "id": "YUoHnqgQoQ6a"
      },
      "source": [
        "### **Characteristics of each cluster**"
      ],
      "id": "YUoHnqgQoQ6a"
    },
    {
      "cell_type": "markdown",
      "source": [
        "**Summary of each cluster:**"
      ],
      "metadata": {
        "id": "5gt3vF6PoQ6b"
      },
      "id": "5gt3vF6PoQ6b"
    },
    {
      "cell_type": "markdown",
      "metadata": {
        "id": "30613efa"
      },
      "source": [
        "## **Gaussian Mixture Model**"
      ],
      "id": "30613efa"
    },
    {
      "cell_type": "code",
      "source": [],
      "metadata": {
        "id": "IFV-g7bKnsQ7"
      },
      "id": "IFV-g7bKnsQ7",
      "execution_count": null,
      "outputs": []
    },
    {
      "cell_type": "markdown",
      "metadata": {
        "id": "3e0c8dc6"
      },
      "source": [
        "**Observations and Insights:**"
      ],
      "id": "3e0c8dc6"
    },
    {
      "cell_type": "markdown",
      "metadata": {
        "id": "e2fab854"
      },
      "source": [
        "### **Visualize the clusters using PCA**"
      ],
      "id": "e2fab854"
    },
    {
      "cell_type": "code",
      "execution_count": null,
      "metadata": {
        "id": "d799565c"
      },
      "outputs": [],
      "source": [],
      "id": "d799565c"
    },
    {
      "cell_type": "markdown",
      "metadata": {
        "id": "31e536e1"
      },
      "source": [
        "### **Cluster Profiling**"
      ],
      "id": "31e536e1"
    },
    {
      "cell_type": "code",
      "execution_count": null,
      "metadata": {
        "id": "3a2fb20e"
      },
      "outputs": [],
      "source": [],
      "id": "3a2fb20e"
    },
    {
      "cell_type": "markdown",
      "source": [
        "**Observations and Insights:**\n"
      ],
      "metadata": {
        "id": "nJqcx6nin5U9"
      },
      "id": "nJqcx6nin5U9"
    },
    {
      "cell_type": "markdown",
      "metadata": {
        "id": "10442989"
      },
      "source": [
        "### **Characteristics of each cluster**"
      ],
      "id": "10442989"
    },
    {
      "cell_type": "markdown",
      "source": [
        "**Summary of each cluster:**"
      ],
      "metadata": {
        "id": "DtTPf4_6n7sU"
      },
      "id": "DtTPf4_6n7sU"
    },
    {
      "cell_type": "markdown",
      "metadata": {
        "id": "73367782"
      },
      "source": [
        "## **Conclusion and Recommendations**"
      ],
      "id": "73367782"
    },
    {
      "cell_type": "markdown",
      "source": [
        "**1. Comparison of various techniques and their relative performance based on chosen Metric (Measure of success)**:\n",
        "- How do different techniques perform? Which one is performing relatively better? Is there scope to improve the performance further?"
      ],
      "metadata": {
        "id": "N5BT7Ocwqf5x"
      },
      "id": "N5BT7Ocwqf5x"
    },
    {
      "cell_type": "markdown",
      "source": [
        "**2. Refined insights**:\n",
        "- What are the most meaningful insights from the data relevant to the problem?"
      ],
      "metadata": {
        "id": "wjc6vTcoqp6v"
      },
      "id": "wjc6vTcoqp6v"
    },
    {
      "cell_type": "markdown",
      "metadata": {
        "id": "hK6PMGUtoxVx"
      },
      "source": [
        "**3. Proposal for the final solution design:** \n",
        "- What model do you propose to be adopted? Why is this the best solution to adopt?"
      ],
      "id": "hK6PMGUtoxVx"
    }
  ],
  "metadata": {
    "kernelspec": {
      "display_name": "Python 3 (ipykernel)",
      "language": "python",
      "name": "python3"
    },
    "language_info": {
      "codemirror_mode": {
        "name": "ipython",
        "version": 3
      },
      "file_extension": ".py",
      "mimetype": "text/x-python",
      "name": "python",
      "nbconvert_exporter": "python",
      "pygments_lexer": "ipython3",
      "version": "3.9.7"
    },
    "colab": {
      "provenance": []
    }
  },
  "nbformat": 4,
  "nbformat_minor": 5
}