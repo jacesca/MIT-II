{
 "cells": [
  {
   "cell_type": "markdown",
   "metadata": {
    "id": "bg-DvjFCyXSr"
   },
   "source": [
    "# **Facial Emotion Detection**"
   ]
  },
  {
   "cell_type": "markdown",
   "metadata": {
    "id": "DYdEI31whyE-"
   },
   "source": [
    "## **Problem Definition**\n",
    "\n",
    "**The context:** Why is this problem important to solve?<br>\n",
    "**The objectives:** What is the intended goal?<br>\n",
    "**The key questions:** What are the key questions that need to be answered?<br>\n",
    "**The problem formulation:** What are we trying to solve using data science?\n",
    "\n",
    "\n",
    "\n",
    "## **About the dataset**\n",
    "\n",
    "The data set consists of 3 folders, i.e., 'test', 'train', and 'validation'. \n",
    "Each of these folders has four subfolders:\n",
    "\n",
    "**‘happy’**: Images of people who have happy facial expressions.<br>\n",
    "**‘sad’**: Images of people with sad or upset facial expressions.<br>\n",
    "**‘surprise’**: Images of people who have shocked or surprised facial expressions.<br>\n",
    "**‘neutral’**: Images of people showing no prominent emotion in their facial expression at all.<br>\n"
   ]
  },
  {
   "cell_type": "markdown",
   "metadata": {
    "id": "HDM89XHyCxrA"
   },
   "source": [
    "## **Mounting the Drive**\n",
    "\n",
    "**NOTE:**  Please use Google Colab from your browser for this notebook. **Google.colab is NOT a library that can be downloaded locally on your device.**"
   ]
  },
  {
   "cell_type": "code",
   "execution_count": null,
   "metadata": {
    "id": "JQi_degJC3dm"
   },
   "outputs": [],
   "source": []
  },
  {
   "cell_type": "markdown",
   "metadata": {
    "id": "UC8-yLUUCcWh"
   },
   "source": [
    "## **Importing the Libraries**"
   ]
  },
  {
   "cell_type": "code",
   "execution_count": null,
   "metadata": {
    "id": "30fd2144"
   },
   "outputs": [],
   "source": []
  },
  {
   "cell_type": "markdown",
   "metadata": {
    "id": "nCqJk2XpCnJi"
   },
   "source": [
    "### **Let us load and unzip the data**"
   ]
  },
  {
   "cell_type": "markdown",
   "metadata": {
    "id": "_syvBdMlDTsr"
   },
   "source": [
    "**Note:** \n",
    "- You must download the dataset from the link provided on Olympus and upload the same on your Google drive before executing the code in the next cell.\n",
    "- In case of any error, please make sure that the path of the file is correct as the path may be different for you."
   ]
  },
  {
   "cell_type": "code",
   "execution_count": null,
   "metadata": {
    "id": "sMfr4tK04C0o"
   },
   "outputs": [],
   "source": []
  },
  {
   "cell_type": "markdown",
   "metadata": {
    "id": "YpkYTD705Eky"
   },
   "source": [
    "## **Visualizing our Classes**\n",
    "\n",
    "Let's look at our classes. \n",
    "\n",
    "**Write down your observation for each class. What do you think can be a unique feature of each emotion, that separates it from the remaining classes?**"
   ]
  },
  {
   "cell_type": "markdown",
   "metadata": {
    "id": "Mb59IxA35WF-"
   },
   "source": [
    "### **Happy**"
   ]
  },
  {
   "cell_type": "markdown",
   "metadata": {
    "id": "RWYioRFM5jMJ"
   },
   "source": [
    "**Observations and Insights:__**"
   ]
  },
  {
   "cell_type": "code",
   "execution_count": null,
   "metadata": {
    "id": "GBLc1cUpByfa"
   },
   "outputs": [],
   "source": []
  },
  {
   "cell_type": "markdown",
   "metadata": {
    "id": "28ZzJwIK6HTH"
   },
   "source": [
    "### **Sad**"
   ]
  },
  {
   "cell_type": "code",
   "execution_count": null,
   "metadata": {
    "id": "4n0oXebe6b0g"
   },
   "outputs": [],
   "source": []
  },
  {
   "cell_type": "markdown",
   "metadata": {
    "id": "5BpviSLK6mLO"
   },
   "source": [
    "**Observations and Insights:__**"
   ]
  },
  {
   "cell_type": "markdown",
   "metadata": {
    "id": "8D3nRj8x7gjK"
   },
   "source": [
    "### **Neutral**"
   ]
  },
  {
   "cell_type": "code",
   "execution_count": null,
   "metadata": {
    "id": "M9bRAog_7qPl"
   },
   "outputs": [],
   "source": []
  },
  {
   "cell_type": "markdown",
   "metadata": {
    "id": "AjvfkXFE70Wa"
   },
   "source": [
    "**Observations and Insights:__**"
   ]
  },
  {
   "cell_type": "markdown",
   "metadata": {
    "id": "avUJfLm08cgt"
   },
   "source": [
    "### **Surprised**"
   ]
  },
  {
   "cell_type": "code",
   "execution_count": null,
   "metadata": {
    "id": "tDrkuxNm8mWE"
   },
   "outputs": [],
   "source": []
  },
  {
   "cell_type": "markdown",
   "metadata": {
    "id": "RTnBsUNH_djf"
   },
   "source": [
    "**Observations and Insights:__**"
   ]
  },
  {
   "cell_type": "markdown",
   "metadata": {
    "id": "ZZMfyOH4-YSp"
   },
   "source": [
    "## **Checking Distribution of Classes**"
   ]
  },
  {
   "cell_type": "code",
   "execution_count": null,
   "metadata": {
    "id": "m7rCOsTl-HbZ"
   },
   "outputs": [],
   "source": []
  },
  {
   "cell_type": "markdown",
   "metadata": {
    "id": "reZRpnmv8qPL"
   },
   "source": [
    "**Observations and Insights:__**"
   ]
  },
  {
   "cell_type": "markdown",
   "metadata": {
    "id": "mfJnIxXC80uZ"
   },
   "source": [
    "**Think About It:** \n",
    "* Are the classes equally distributed? If not, do you think the imbalance is too high? Will it be a problem as we progress?\n",
    "* Are there any Exploratory Data Analysis tasks that we can do here? Would they provide any meaningful insights?"
   ]
  },
  {
   "cell_type": "markdown",
   "metadata": {
    "id": "J7NKTPgdEsgt"
   },
   "source": [
    "## **Creating our Data Loaders**\n",
    "\n",
    "In this section, we are creating data loaders that we will use as inputs to our Neural Network.\n",
    "\n",
    "**You have two options for the color_mode. You can set it to color_mode = 'rgb' or color_mode = 'grayscale'. You will need to try out both and see for yourself which one gives better performance.**"
   ]
  },
  {
   "cell_type": "code",
   "execution_count": null,
   "metadata": {
    "id": "d97fee2d"
   },
   "outputs": [],
   "source": []
  },
  {
   "cell_type": "markdown",
   "metadata": {
    "id": "_qGpQC3q1avy"
   },
   "source": [
    "## **Model Building**"
   ]
  },
  {
   "cell_type": "markdown",
   "metadata": {
    "id": "OSl8GqRdAcGq"
   },
   "source": [
    "**Think About It:**\n",
    "* Are Convolutional Neural Networks the right approach? Should we have gone with Artificial Neural Networks instead? \n",
    "* What are the advantages of CNNs over ANNs and are they applicable here?"
   ]
  },
  {
   "cell_type": "markdown",
   "metadata": {
    "id": "0feec0a7"
   },
   "source": [
    "### **Creating the Base Neural Network**"
   ]
  },
  {
   "cell_type": "code",
   "execution_count": null,
   "metadata": {
    "id": "151077af"
   },
   "outputs": [],
   "source": []
  },
  {
   "cell_type": "markdown",
   "metadata": {
    "id": "vgOwCHZxqAlG"
   },
   "source": [
    "### **Compiling and Training the Model**"
   ]
  },
  {
   "cell_type": "code",
   "execution_count": null,
   "metadata": {
    "id": "87b29701"
   },
   "outputs": [],
   "source": []
  },
  {
   "cell_type": "markdown",
   "metadata": {
    "id": "CR2yf3zH7uje"
   },
   "source": [
    "### **Evaluating the Model on the Test Set**"
   ]
  },
  {
   "cell_type": "code",
   "execution_count": null,
   "metadata": {
    "id": "gffvQXr-70Hm"
   },
   "outputs": [],
   "source": []
  },
  {
   "cell_type": "markdown",
   "metadata": {
    "id": "SoqluqR-RMbk"
   },
   "source": [
    "**Observations and Insights:__**"
   ]
  },
  {
   "cell_type": "markdown",
   "metadata": {
    "id": "12efb6c8"
   },
   "source": [
    "### **Creating the second Convolutional Neural Network**"
   ]
  },
  {
   "cell_type": "markdown",
   "metadata": {
    "id": "ypwtou8Zp5EH"
   },
   "source": [
    "- Try out a slightly larger architecture"
   ]
  },
  {
   "cell_type": "code",
   "execution_count": null,
   "metadata": {
    "id": "7887b475"
   },
   "outputs": [],
   "source": []
  },
  {
   "cell_type": "markdown",
   "metadata": {
    "id": "T2d7wYiTk5uW"
   },
   "source": [
    "### **Compiling and Training the Model**"
   ]
  },
  {
   "cell_type": "code",
   "execution_count": null,
   "metadata": {
    "id": "5f79add6"
   },
   "outputs": [],
   "source": []
  },
  {
   "cell_type": "markdown",
   "metadata": {
    "id": "VeiN9vSy744e"
   },
   "source": [
    "### **Evaluating the Model on the Test Set**"
   ]
  },
  {
   "cell_type": "code",
   "execution_count": null,
   "metadata": {
    "id": "YBNeB-Em7xBy"
   },
   "outputs": [],
   "source": []
  },
  {
   "cell_type": "markdown",
   "metadata": {
    "id": "MstKA9Op8XOA"
   },
   "source": [
    "**Observations and Insights:__**"
   ]
  },
  {
   "cell_type": "markdown",
   "metadata": {
    "id": "S1LQ64iTsSH0"
   },
   "source": [
    "## **Think About It:**\n",
    "\n",
    "* Did the models have a satisfactory performance? If not, then what are the possible reasons?\n",
    "* Which Color mode showed better overall performance? What are the possible reasons? Do you think having 'rgb' color mode is needed because the images are already black and white?"
   ]
  },
  {
   "cell_type": "markdown",
   "metadata": {
    "id": "boQi7epI3Lsu"
   },
   "source": [
    "## **Transfer Learning Architectures**\n",
    "\n",
    "In this section, we will create several Transfer Learning architectures. For the pre-trained models, we will select three popular architectures namely, VGG16, ResNet v2, and Efficient Net. The difference between these architectures and the previous architectures is that these will require 3 input channels while the earlier ones worked on 'grayscale' images. Therefore, we need to create new DataLoaders."
   ]
  },
  {
   "cell_type": "markdown",
   "metadata": {
    "id": "7kMsvUQuD89r"
   },
   "source": [
    "### **Creating our Data Loaders for Transfer Learning Architectures**\n",
    "\n",
    "In this section, we are creating data loaders that we will use as inputs to our Neural Network. We will have to go with color_mode = 'rgb' as this is the required format for the transfer learning architectures."
   ]
  },
  {
   "cell_type": "code",
   "execution_count": null,
   "metadata": {
    "id": "hWmbGuuRD89r"
   },
   "outputs": [],
   "source": []
  },
  {
   "cell_type": "markdown",
   "metadata": {
    "id": "vaUYQdkf7pDG"
   },
   "source": [
    "## **VGG16 Model**"
   ]
  },
  {
   "cell_type": "markdown",
   "metadata": {
    "id": "ThCSNrWC4HW0"
   },
   "source": [
    "### **Importing the VGG16 Architecture**"
   ]
  },
  {
   "cell_type": "code",
   "execution_count": null,
   "metadata": {
    "id": "7c83c83e"
   },
   "outputs": [],
   "source": []
  },
  {
   "cell_type": "markdown",
   "metadata": {
    "id": "X76HMyZX4edM"
   },
   "source": [
    "### **Model Building**\n",
    "\n",
    "- Import VGG16 upto the layer of your choice and add Fully Connected layers on top of it."
   ]
  },
  {
   "cell_type": "code",
   "execution_count": null,
   "metadata": {
    "id": "8b123bc6"
   },
   "outputs": [],
   "source": []
  },
  {
   "cell_type": "markdown",
   "metadata": {
    "id": "t6vK7u7w8GsM"
   },
   "source": [
    "### **Compiling and Training the VGG16 Model**"
   ]
  },
  {
   "cell_type": "code",
   "execution_count": null,
   "metadata": {
    "id": "86b249f1"
   },
   "outputs": [],
   "source": []
  },
  {
   "cell_type": "markdown",
   "metadata": {
    "id": "Un-19jPckK07"
   },
   "source": [
    "### **Evaluating the VGG16 model**"
   ]
  },
  {
   "cell_type": "code",
   "execution_count": null,
   "metadata": {
    "id": "t6Y_bSLCkcvr"
   },
   "outputs": [],
   "source": []
  },
  {
   "cell_type": "markdown",
   "metadata": {
    "id": "tW6kPSky59Gv"
   },
   "source": [
    "**Think About It:**\n",
    "\n",
    "- What do you infer from the general trend in the training performance? \n",
    "- Is the training accuracy consistently improving? \n",
    "- Is the validation accuracy also improving similarly?"
   ]
  },
  {
   "cell_type": "markdown",
   "metadata": {
    "id": "YuTi6OAx8q_r"
   },
   "source": [
    "**Observations and Insights:__**"
   ]
  },
  {
   "cell_type": "markdown",
   "metadata": {
    "id": "AfC2Kx0v7Sa1"
   },
   "source": [
    "**Note: You can even go back and build your own architecture on top of the VGG16 Transfer layer and see if you can improve the performance**"
   ]
  },
  {
   "cell_type": "markdown",
   "metadata": {
    "id": "E0Mew4Cc7u7k"
   },
   "source": [
    "## **ResNet V2 Model**"
   ]
  },
  {
   "cell_type": "code",
   "execution_count": null,
   "metadata": {
    "id": "568a5c9a",
    "scrolled": false
   },
   "outputs": [],
   "source": []
  },
  {
   "cell_type": "markdown",
   "metadata": {
    "id": "ay4RedCQlL4O"
   },
   "source": [
    "### **Model Building**\n",
    "\n",
    "- Import Resnet v2 upto the layer of your choice and add Fully Connected layers on top of it."
   ]
  },
  {
   "cell_type": "code",
   "execution_count": null,
   "metadata": {
    "id": "911d3335"
   },
   "outputs": [],
   "source": []
  },
  {
   "cell_type": "markdown",
   "metadata": {
    "id": "Tmtcd1ZElpJy"
   },
   "source": [
    "### **Compiling and Training the Model**"
   ]
  },
  {
   "cell_type": "code",
   "execution_count": null,
   "metadata": {
    "id": "fe959789"
   },
   "outputs": [],
   "source": []
  },
  {
   "cell_type": "markdown",
   "metadata": {
    "id": "McHEzBlhxw39"
   },
   "source": [
    "### **Evaluating the ResNet Model**"
   ]
  },
  {
   "cell_type": "code",
   "execution_count": null,
   "metadata": {
    "id": "IEl6IQf0xwci"
   },
   "outputs": [],
   "source": []
  },
  {
   "cell_type": "markdown",
   "metadata": {
    "id": "3htKZRdomiOY"
   },
   "source": [
    "**Observations and Insights:__**\n",
    "\n",
    "**Note: You can even go back and build your own architecture on top of the ResNet Transfer layer and see if you can improve the performance.**"
   ]
  },
  {
   "cell_type": "markdown",
   "metadata": {
    "id": "FmnDG4ZbncoR"
   },
   "source": [
    "## **EfficientNet Model**"
   ]
  },
  {
   "cell_type": "code",
   "execution_count": null,
   "metadata": {
    "id": "613c7a71"
   },
   "outputs": [],
   "source": []
  },
  {
   "cell_type": "markdown",
   "metadata": {
    "id": "6kDNE8pVngqC"
   },
   "source": [
    "### **Model Building**\n",
    "\n",
    "- Import EfficientNet upto the layer of your choice and add Fully Connected layers on top of it."
   ]
  },
  {
   "cell_type": "code",
   "execution_count": null,
   "metadata": {
    "id": "2b27a6e1"
   },
   "outputs": [],
   "source": []
  },
  {
   "cell_type": "markdown",
   "metadata": {
    "id": "hVv4Df_In32Y"
   },
   "source": [
    "### **Compiling and Training the Model**"
   ]
  },
  {
   "cell_type": "code",
   "execution_count": null,
   "metadata": {
    "id": "dc326cd3"
   },
   "outputs": [],
   "source": []
  },
  {
   "cell_type": "markdown",
   "metadata": {
    "id": "2xjrzYpgoQnN"
   },
   "source": [
    "### **Evaluating the EfficientnetNet Model**"
   ]
  },
  {
   "cell_type": "code",
   "execution_count": null,
   "metadata": {
    "id": "WJVFenvnoQnN"
   },
   "outputs": [],
   "source": []
  },
  {
   "cell_type": "markdown",
   "metadata": {
    "id": "kWlk14FOoQnN"
   },
   "source": [
    "**Observations and Insights:__**\n",
    "\n",
    "**Note: You can even go back and build your own architecture on top of the VGG16 Transfer layer and see if you can improve the performance.**"
   ]
  },
  {
   "cell_type": "markdown",
   "metadata": {
    "id": "fk6QAcv5odNF"
   },
   "source": [
    "**Think About It:**\n",
    "\n",
    "* What is your overall performance of these Transfer Learning Architectures? Can we draw a comparison of these models' performances. Are we satisfied with the accuracies that we have received?\n",
    "* Do you think our issue lies with 'rgb' color_mode?"
   ]
  },
  {
   "cell_type": "markdown",
   "metadata": {
    "id": "-EH3atQP8q_v"
   },
   "source": [
    "Now that we have tried multiple pre-trained models, let's build a complex CNN architecture and see if we can get better performance."
   ]
  },
  {
   "cell_type": "markdown",
   "metadata": {
    "id": "SjKlBaZDpWoV"
   },
   "source": [
    "## **Building a Complex Neural Network Architecture**"
   ]
  },
  {
   "cell_type": "markdown",
   "metadata": {
    "id": "-bMFUj3Fpe75"
   },
   "source": [
    "In this section, we will build a more complex Convolutional Neural Network Model that has close to as many parameters as we had in our Transfer Learning Models. However, we will have only 1 input channel for our input images."
   ]
  },
  {
   "cell_type": "markdown",
   "metadata": {
    "id": "ejGfyYSbtx-F"
   },
   "source": [
    "## **Creating our Data Loaders**\n",
    "\n",
    "In this section, we are creating data loaders which we will use as inputs to the more Complicated Convolutional Neural Network. We will go ahead with color_mode = 'grayscale'."
   ]
  },
  {
   "cell_type": "code",
   "execution_count": null,
   "metadata": {
    "id": "xj1hM5_ttx-F"
   },
   "outputs": [],
   "source": []
  },
  {
   "cell_type": "markdown",
   "metadata": {
    "id": "Ft5U6f1Wie2R"
   },
   "source": [
    "### **Model Building**\n",
    "\n",
    "- Try building a layer with 5 Convolutional Blocks and see if performance increases."
   ]
  },
  {
   "cell_type": "code",
   "execution_count": null,
   "metadata": {
    "id": "37f9194d"
   },
   "outputs": [],
   "source": []
  },
  {
   "cell_type": "markdown",
   "metadata": {
    "id": "fyc0B--hwTHS"
   },
   "source": [
    "### **Compiling and Training the Model**"
   ]
  },
  {
   "cell_type": "code",
   "execution_count": null,
   "metadata": {
    "id": "0edabf52"
   },
   "outputs": [],
   "source": []
  },
  {
   "cell_type": "markdown",
   "metadata": {
    "id": "BbAqrAQQVjIR"
   },
   "source": [
    "### **Evaluating the Model on Test Set**"
   ]
  },
  {
   "cell_type": "code",
   "execution_count": null,
   "metadata": {
    "id": "uO26AYRuVm7F"
   },
   "outputs": [],
   "source": []
  },
  {
   "cell_type": "markdown",
   "metadata": {
    "id": "81uYGSmHwxfD"
   },
   "source": [
    "**Observations and Insights:__**"
   ]
  },
  {
   "cell_type": "markdown",
   "metadata": {
    "id": "GNWc6agwxJ_z"
   },
   "source": [
    "### **Plotting the Confusion Matrix for the chosen final model**"
   ]
  },
  {
   "cell_type": "code",
   "execution_count": null,
   "metadata": {
    "id": "SFTRyIk-yjoQ"
   },
   "outputs": [],
   "source": []
  },
  {
   "cell_type": "markdown",
   "metadata": {
    "id": "LGgvpOrP8q_x"
   },
   "source": [
    "**Observations and Insights:__**"
   ]
  },
  {
   "cell_type": "markdown",
   "metadata": {
    "id": "6s_baiF_KllW"
   },
   "source": [
    "## **Conclusion:____________**"
   ]
  },
  {
   "cell_type": "markdown",
   "metadata": {
    "id": "MEZPA_mN0tUo"
   },
   "source": [
    "### **Insights**\n",
    "\n",
    "### **Refined insights**:\n",
    "- What are the most meaningful insights from the data relevant to the problem?\n",
    "\n",
    "### **Comparison of various techniques and their relative performance**:\n",
    "- How do different techniques perform? Which one is performing relatively better? Is there scope to improve the performance further?\n",
    "\n",
    "### **Proposal for the final solution design**:\n",
    "- What model do you propose to be adopted? Why is this the best solution to adopt?"
   ]
  }
 ],
 "metadata": {
  "colab": {
   "provenance": []
  },
  "kernelspec": {
   "display_name": "Python 3 (ipykernel)",
   "language": "python",
   "name": "python3"
  },
  "language_info": {
   "codemirror_mode": {
    "name": "ipython",
    "version": 3
   },
   "file_extension": ".py",
   "mimetype": "text/x-python",
   "name": "python",
   "nbconvert_exporter": "python",
   "pygments_lexer": "ipython3",
   "version": "3.10.11"
  }
 },
 "nbformat": 4,
 "nbformat_minor": 1
}
